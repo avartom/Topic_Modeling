{
  "nbformat": 4,
  "nbformat_minor": 0,
  "metadata": {
    "kernelspec": {
      "name": "python3",
      "display_name": "Python 3"
    },
    "colab": {
      "provenance": []
    },
    "language_info": {
      "name": "python"
    },
    "accelerator": "GPU"
  },
  "cells": [
    {
      "cell_type": "markdown",
      "metadata": {
        "id": "5utTU63WzGd3"
      },
      "source": [
        "# Topic Modeling\n",
        "## *Data Science Unit 4 Sprint 1 Assignment 4*\n",
        "\n",
        "\n",
        "![](https://drive.google.com/uc?export=view&id=1Aze8Xe_ZZpV22IwFNUH09T2howHmF1AK)\n",
        "\n",
        "[Image Credit: slides from Ben Mabey](https://speakerdeck.com/bmabey/visualizing-topic-models)\n",
        "\n",
        "Apply Topic Modeling to Analyze a corpus of Amazon reviews\n",
        "\n",
        "- Load in the Amazon Review dataset\n",
        "- Clean the dataset \n",
        "- Vectorize the dataset \n",
        "- Fit a Gensim LDA topic model on Amazon Reviews\n",
        "- Select appropriate number of topics\n",
        "- Create some dope visualization of the topics\n",
        "- Write a few bullets on your findings in markdown at the end"
      ]
    },
    {
      "cell_type": "code",
      "metadata": {
        "colab": {
          "base_uri": "https://localhost:8080/"
        },
        "id": "X0x7DXmr8zYE",
        "outputId": "00ca64d5-61d7-44be-f292-1ae99e026017"
      },
      "source": [
        "!pip install pyLDAvis==3.3.1"
      ],
      "execution_count": null,
      "outputs": [
        {
          "output_type": "stream",
          "name": "stdout",
          "text": [
            "Looking in indexes: https://pypi.org/simple, https://us-python.pkg.dev/colab-wheels/public/simple/\n",
            "Collecting pyLDAvis==3.3.1\n",
            "  Downloading pyLDAvis-3.3.1.tar.gz (1.7 MB)\n",
            "\u001b[K     |████████████████████████████████| 1.7 MB 19.7 MB/s \n",
            "\u001b[?25h  Installing build dependencies ... \u001b[?25l\u001b[?25hdone\n",
            "  Getting requirements to build wheel ... \u001b[?25l\u001b[?25hdone\n",
            "  Installing backend dependencies ... \u001b[?25l\u001b[?25hdone\n",
            "    Preparing wheel metadata ... \u001b[?25l\u001b[?25hdone\n",
            "Requirement already satisfied: setuptools in /usr/local/lib/python3.8/dist-packages (from pyLDAvis==3.3.1) (57.4.0)\n",
            "Requirement already satisfied: gensim in /usr/local/lib/python3.8/dist-packages (from pyLDAvis==3.3.1) (3.6.0)\n",
            "Requirement already satisfied: future in /usr/local/lib/python3.8/dist-packages (from pyLDAvis==3.3.1) (0.16.0)\n",
            "Requirement already satisfied: scipy in /usr/local/lib/python3.8/dist-packages (from pyLDAvis==3.3.1) (1.7.3)\n",
            "Requirement already satisfied: numpy>=1.20.0 in /usr/local/lib/python3.8/dist-packages (from pyLDAvis==3.3.1) (1.21.6)\n",
            "Requirement already satisfied: joblib in /usr/local/lib/python3.8/dist-packages (from pyLDAvis==3.3.1) (1.2.0)\n",
            "Collecting sklearn\n",
            "  Downloading sklearn-0.0.post1.tar.gz (3.6 kB)\n",
            "Requirement already satisfied: jinja2 in /usr/local/lib/python3.8/dist-packages (from pyLDAvis==3.3.1) (2.11.3)\n",
            "Requirement already satisfied: numexpr in /usr/local/lib/python3.8/dist-packages (from pyLDAvis==3.3.1) (2.8.4)\n",
            "Requirement already satisfied: scikit-learn in /usr/local/lib/python3.8/dist-packages (from pyLDAvis==3.3.1) (1.0.2)\n",
            "Requirement already satisfied: pandas>=1.2.0 in /usr/local/lib/python3.8/dist-packages (from pyLDAvis==3.3.1) (1.3.5)\n",
            "Collecting funcy\n",
            "  Downloading funcy-1.17-py2.py3-none-any.whl (33 kB)\n",
            "Requirement already satisfied: pytz>=2017.3 in /usr/local/lib/python3.8/dist-packages (from pandas>=1.2.0->pyLDAvis==3.3.1) (2022.6)\n",
            "Requirement already satisfied: python-dateutil>=2.7.3 in /usr/local/lib/python3.8/dist-packages (from pandas>=1.2.0->pyLDAvis==3.3.1) (2.8.2)\n",
            "Requirement already satisfied: six>=1.5 in /usr/local/lib/python3.8/dist-packages (from python-dateutil>=2.7.3->pandas>=1.2.0->pyLDAvis==3.3.1) (1.15.0)\n",
            "Requirement already satisfied: smart-open>=1.2.1 in /usr/local/lib/python3.8/dist-packages (from gensim->pyLDAvis==3.3.1) (5.2.1)\n",
            "Requirement already satisfied: MarkupSafe>=0.23 in /usr/local/lib/python3.8/dist-packages (from jinja2->pyLDAvis==3.3.1) (2.0.1)\n",
            "Requirement already satisfied: threadpoolctl>=2.0.0 in /usr/local/lib/python3.8/dist-packages (from scikit-learn->pyLDAvis==3.3.1) (3.1.0)\n",
            "Building wheels for collected packages: pyLDAvis, sklearn\n",
            "  Building wheel for pyLDAvis (PEP 517) ... \u001b[?25l\u001b[?25hdone\n",
            "  Created wheel for pyLDAvis: filename=pyLDAvis-3.3.1-py2.py3-none-any.whl size=136898 sha256=fbfcc27aa6a18000fdce76ab8b13b524c4c59dabe62cb9b739df0a5376fb7426\n",
            "  Stored in directory: /root/.cache/pip/wheels/90/61/ec/9dbe9efc3acf9c4e37ba70fbbcc3f3a0ebd121060aa593181a\n",
            "  Building wheel for sklearn (setup.py) ... \u001b[?25l\u001b[?25hdone\n",
            "  Created wheel for sklearn: filename=sklearn-0.0.post1-py3-none-any.whl size=2344 sha256=0bdf2877afc7f182f4aaf370ad054c1c6d95443bf0a3e485907afd7f53e79feb\n",
            "  Stored in directory: /root/.cache/pip/wheels/14/25/f7/1cc0956978ae479e75140219088deb7a36f60459df242b1a72\n",
            "Successfully built pyLDAvis sklearn\n",
            "Installing collected packages: sklearn, funcy, pyLDAvis\n",
            "Successfully installed funcy-1.17 pyLDAvis-3.3.1 sklearn-0.0.post1\n"
          ]
        }
      ]
    },
    {
      "cell_type": "code",
      "metadata": {
        "colab": {
          "base_uri": "https://localhost:8080/"
        },
        "id": "uQGwb9xbFKIr",
        "outputId": "3c87f761-9866-423d-c17f-494d93ff4d0f"
      },
      "source": [
        "!pip install pandarallel==1.4.8"
      ],
      "execution_count": null,
      "outputs": [
        {
          "output_type": "stream",
          "name": "stdout",
          "text": [
            "Looking in indexes: https://pypi.org/simple, https://us-python.pkg.dev/colab-wheels/public/simple/\n",
            "Collecting pandarallel==1.4.8\n",
            "  Downloading pandarallel-1.4.8.tar.gz (14 kB)\n",
            "Requirement already satisfied: dill in /usr/local/lib/python3.8/dist-packages (from pandarallel==1.4.8) (0.3.6)\n",
            "Building wheels for collected packages: pandarallel\n",
            "  Building wheel for pandarallel (setup.py) ... \u001b[?25l\u001b[?25hdone\n",
            "  Created wheel for pandarallel: filename=pandarallel-1.4.8-py3-none-any.whl size=16113 sha256=5e8c8f7cd2e2acab8db5128a57c4e1faa5af55b82af18e758fccfcb3521609f2\n",
            "  Stored in directory: /root/.cache/pip/wheels/fa/a4/97/5f3f33137c2bc074597dc087e21a0f47d7727874dc87e1ed37\n",
            "Successfully built pandarallel\n",
            "Installing collected packages: pandarallel\n",
            "Successfully installed pandarallel-1.4.8\n"
          ]
        }
      ]
    },
    {
      "cell_type": "code",
      "metadata": {
        "id": "nUPIrjOB_-BR",
        "colab": {
          "base_uri": "https://localhost:8080/"
        },
        "outputId": "e9bbf2ac-9019-45ad-932a-6d6c149ef57b"
      },
      "source": [
        "!python -m spacy download en_core_web_md"
      ],
      "execution_count": null,
      "outputs": [
        {
          "output_type": "stream",
          "name": "stdout",
          "text": [
            "Looking in indexes: https://pypi.org/simple, https://us-python.pkg.dev/colab-wheels/public/simple/\n",
            "Collecting en-core-web-md==3.4.1\n",
            "  Downloading https://github.com/explosion/spacy-models/releases/download/en_core_web_md-3.4.1/en_core_web_md-3.4.1-py3-none-any.whl (42.8 MB)\n",
            "\u001b[K     |████████████████████████████████| 42.8 MB 455 kB/s \n",
            "\u001b[?25hRequirement already satisfied: spacy<3.5.0,>=3.4.0 in /usr/local/lib/python3.8/dist-packages (from en-core-web-md==3.4.1) (3.4.3)\n",
            "Requirement already satisfied: catalogue<2.1.0,>=2.0.6 in /usr/local/lib/python3.8/dist-packages (from spacy<3.5.0,>=3.4.0->en-core-web-md==3.4.1) (2.0.8)\n",
            "Requirement already satisfied: thinc<8.2.0,>=8.1.0 in /usr/local/lib/python3.8/dist-packages (from spacy<3.5.0,>=3.4.0->en-core-web-md==3.4.1) (8.1.5)\n",
            "Requirement already satisfied: preshed<3.1.0,>=3.0.2 in /usr/local/lib/python3.8/dist-packages (from spacy<3.5.0,>=3.4.0->en-core-web-md==3.4.1) (3.0.8)\n",
            "Requirement already satisfied: wasabi<1.1.0,>=0.9.1 in /usr/local/lib/python3.8/dist-packages (from spacy<3.5.0,>=3.4.0->en-core-web-md==3.4.1) (0.10.1)\n",
            "Requirement already satisfied: langcodes<4.0.0,>=3.2.0 in /usr/local/lib/python3.8/dist-packages (from spacy<3.5.0,>=3.4.0->en-core-web-md==3.4.1) (3.3.0)\n",
            "Requirement already satisfied: murmurhash<1.1.0,>=0.28.0 in /usr/local/lib/python3.8/dist-packages (from spacy<3.5.0,>=3.4.0->en-core-web-md==3.4.1) (1.0.9)\n",
            "Requirement already satisfied: jinja2 in /usr/local/lib/python3.8/dist-packages (from spacy<3.5.0,>=3.4.0->en-core-web-md==3.4.1) (2.11.3)\n",
            "Requirement already satisfied: requests<3.0.0,>=2.13.0 in /usr/local/lib/python3.8/dist-packages (from spacy<3.5.0,>=3.4.0->en-core-web-md==3.4.1) (2.23.0)\n",
            "Requirement already satisfied: pathy>=0.3.5 in /usr/local/lib/python3.8/dist-packages (from spacy<3.5.0,>=3.4.0->en-core-web-md==3.4.1) (0.9.0)\n",
            "Requirement already satisfied: cymem<2.1.0,>=2.0.2 in /usr/local/lib/python3.8/dist-packages (from spacy<3.5.0,>=3.4.0->en-core-web-md==3.4.1) (2.0.7)\n",
            "Requirement already satisfied: spacy-legacy<3.1.0,>=3.0.10 in /usr/local/lib/python3.8/dist-packages (from spacy<3.5.0,>=3.4.0->en-core-web-md==3.4.1) (3.0.10)\n",
            "Requirement already satisfied: typer<0.8.0,>=0.3.0 in /usr/local/lib/python3.8/dist-packages (from spacy<3.5.0,>=3.4.0->en-core-web-md==3.4.1) (0.7.0)\n",
            "Requirement already satisfied: pydantic!=1.8,!=1.8.1,<1.11.0,>=1.7.4 in /usr/local/lib/python3.8/dist-packages (from spacy<3.5.0,>=3.4.0->en-core-web-md==3.4.1) (1.10.2)\n",
            "Requirement already satisfied: tqdm<5.0.0,>=4.38.0 in /usr/local/lib/python3.8/dist-packages (from spacy<3.5.0,>=3.4.0->en-core-web-md==3.4.1) (4.64.1)\n",
            "Requirement already satisfied: numpy>=1.15.0 in /usr/local/lib/python3.8/dist-packages (from spacy<3.5.0,>=3.4.0->en-core-web-md==3.4.1) (1.21.6)\n",
            "Requirement already satisfied: setuptools in /usr/local/lib/python3.8/dist-packages (from spacy<3.5.0,>=3.4.0->en-core-web-md==3.4.1) (57.4.0)\n",
            "Requirement already satisfied: srsly<3.0.0,>=2.4.3 in /usr/local/lib/python3.8/dist-packages (from spacy<3.5.0,>=3.4.0->en-core-web-md==3.4.1) (2.4.5)\n",
            "Requirement already satisfied: spacy-loggers<2.0.0,>=1.0.0 in /usr/local/lib/python3.8/dist-packages (from spacy<3.5.0,>=3.4.0->en-core-web-md==3.4.1) (1.0.3)\n",
            "Requirement already satisfied: packaging>=20.0 in /usr/local/lib/python3.8/dist-packages (from spacy<3.5.0,>=3.4.0->en-core-web-md==3.4.1) (21.3)\n",
            "Requirement already satisfied: pyparsing!=3.0.5,>=2.0.2 in /usr/local/lib/python3.8/dist-packages (from packaging>=20.0->spacy<3.5.0,>=3.4.0->en-core-web-md==3.4.1) (3.0.9)\n",
            "Requirement already satisfied: smart-open<6.0.0,>=5.2.1 in /usr/local/lib/python3.8/dist-packages (from pathy>=0.3.5->spacy<3.5.0,>=3.4.0->en-core-web-md==3.4.1) (5.2.1)\n",
            "Requirement already satisfied: typing-extensions>=4.1.0 in /usr/local/lib/python3.8/dist-packages (from pydantic!=1.8,!=1.8.1,<1.11.0,>=1.7.4->spacy<3.5.0,>=3.4.0->en-core-web-md==3.4.1) (4.1.1)\n",
            "Requirement already satisfied: idna<3,>=2.5 in /usr/local/lib/python3.8/dist-packages (from requests<3.0.0,>=2.13.0->spacy<3.5.0,>=3.4.0->en-core-web-md==3.4.1) (2.10)\n",
            "Requirement already satisfied: urllib3!=1.25.0,!=1.25.1,<1.26,>=1.21.1 in /usr/local/lib/python3.8/dist-packages (from requests<3.0.0,>=2.13.0->spacy<3.5.0,>=3.4.0->en-core-web-md==3.4.1) (1.24.3)\n",
            "Requirement already satisfied: certifi>=2017.4.17 in /usr/local/lib/python3.8/dist-packages (from requests<3.0.0,>=2.13.0->spacy<3.5.0,>=3.4.0->en-core-web-md==3.4.1) (2022.9.24)\n",
            "Requirement already satisfied: chardet<4,>=3.0.2 in /usr/local/lib/python3.8/dist-packages (from requests<3.0.0,>=2.13.0->spacy<3.5.0,>=3.4.0->en-core-web-md==3.4.1) (3.0.4)\n",
            "Requirement already satisfied: confection<1.0.0,>=0.0.1 in /usr/local/lib/python3.8/dist-packages (from thinc<8.2.0,>=8.1.0->spacy<3.5.0,>=3.4.0->en-core-web-md==3.4.1) (0.0.3)\n",
            "Requirement already satisfied: blis<0.8.0,>=0.7.8 in /usr/local/lib/python3.8/dist-packages (from thinc<8.2.0,>=8.1.0->spacy<3.5.0,>=3.4.0->en-core-web-md==3.4.1) (0.7.9)\n",
            "Requirement already satisfied: click<9.0.0,>=7.1.1 in /usr/local/lib/python3.8/dist-packages (from typer<0.8.0,>=0.3.0->spacy<3.5.0,>=3.4.0->en-core-web-md==3.4.1) (7.1.2)\n",
            "Requirement already satisfied: MarkupSafe>=0.23 in /usr/local/lib/python3.8/dist-packages (from jinja2->spacy<3.5.0,>=3.4.0->en-core-web-md==3.4.1) (2.0.1)\n",
            "Installing collected packages: en-core-web-md\n",
            "Successfully installed en-core-web-md-3.4.1\n",
            "\u001b[38;5;2m✔ Download and installation successful\u001b[0m\n",
            "You can now load the package via spacy.load('en_core_web_md')\n"
          ]
        }
      ]
    },
    {
      "cell_type": "markdown",
      "metadata": {
        "id": "isyLmOAZqYR0"
      },
      "source": [
        "## Restart runtime!"
      ]
    },
    {
      "cell_type": "code",
      "metadata": {
        "id": "rXrXC0mrzGd5",
        "colab": {
          "base_uri": "https://localhost:8080/"
        },
        "outputId": "7d1326d6-6953-4915-df15-837cd1b55061"
      },
      "source": [
        "import re\n",
        "import pandas as pd\n",
        "import numpy as np\n",
        "import matplotlib.pyplot as plt\n",
        "from sklearn.feature_extraction.text import CountVectorizer, TfidfVectorizer\n",
        "\n",
        "import spacy\n",
        "spacy.util.fix_random_seed(0)\n",
        "\n",
        "import pyLDAvis\n",
        "import pyLDAvis.gensim_models \n",
        "\n",
        "import gensim\n",
        "import gensim.corpora as corpora\n",
        "from gensim.utils import simple_preprocess\n",
        "from gensim.models import CoherenceModel\n",
        "\n",
        "from pandarallel import pandarallel\n",
        "\n",
        "%matplotlib inline\n",
        "\n",
        "import warnings\n",
        "warnings.filterwarnings(\"ignore\")"
      ],
      "execution_count": null,
      "outputs": [
        {
          "output_type": "stream",
          "name": "stderr",
          "text": [
            "/usr/local/lib/python3.8/dist-packages/past/types/oldstr.py:5: DeprecationWarning: Using or importing the ABCs from 'collections' instead of from 'collections.abc' is deprecated since Python 3.3, and in 3.10 it will stop working\n",
            "  from collections import Iterable\n",
            "/usr/local/lib/python3.8/dist-packages/past/builtins/misc.py:4: DeprecationWarning: Using or importing the ABCs from 'collections' instead of from 'collections.abc' is deprecated since Python 3.3, and in 3.10 it will stop working\n",
            "  from collections import Mapping\n",
            "/usr/local/lib/python3.8/dist-packages/scipy/sparse/sparsetools.py:21: DeprecationWarning: `scipy.sparse.sparsetools` is deprecated!\n",
            "scipy.sparse.sparsetools is a private module for scipy.sparse, and should not be used.\n",
            "  _deprecated()\n"
          ]
        }
      ]
    },
    {
      "cell_type": "markdown",
      "metadata": {
        "id": "x9ph4ZzpzGd6"
      },
      "source": [
        "----\n",
        "### Load the Amazon Review corpus \n",
        "This dataset is located in the Sprint 1 Module 1 `/data` directory. \n",
        "\n",
        "If the provided relative path doesn't work for you, then you'll have to provide the file path so pandas can read in the file."
      ]
    },
    {
      "cell_type": "code",
      "metadata": {
        "colab": {
          "base_uri": "https://localhost:8080/"
        },
        "id": "c_L4bKk_4E84",
        "outputId": "0fd6c624-1a62-4bcb-cc69-64cf66c7f623"
      },
      "source": [
        "# A \"brute force\" way to get the Amazon reviews dataset; just clone the Sprint 1 repo!\n",
        "# Overkill, but it does the job!\n",
        "!git clone https://github.com/LambdaSchool/DS-Unit-4-Sprint-1-NLP.git"
      ],
      "execution_count": null,
      "outputs": [
        {
          "output_type": "stream",
          "name": "stdout",
          "text": [
            "Cloning into 'DS-Unit-4-Sprint-1-NLP'...\n",
            "remote: Enumerating objects: 1693, done.\u001b[K\n",
            "remote: Counting objects: 100% (162/162), done.\u001b[K\n",
            "remote: Compressing objects: 100% (90/90), done.\u001b[K\n",
            "remote: Total 1693 (delta 89), reused 124 (delta 72), pack-reused 1531\u001b[K\n",
            "Receiving objects: 100% (1693/1693), 59.40 MiB | 17.63 MiB/s, done.\n",
            "Resolving deltas: 100% (258/258), done.\n"
          ]
        }
      ]
    },
    {
      "cell_type": "code",
      "metadata": {
        "colab": {
          "base_uri": "https://localhost:8080/"
        },
        "id": "7__zXIF_504B",
        "outputId": "dc29843e-9907-4238-87cd-1595db2f24a9"
      },
      "source": [
        "!unzip '/content/DS-Unit-4-Sprint-1-NLP/module1-text-data/data/Datafiniti_Amazon_Consumer_Reviews_of_Amazon_Products_May19.csv.zip'"
      ],
      "execution_count": null,
      "outputs": [
        {
          "output_type": "stream",
          "name": "stdout",
          "text": [
            "Archive:  /content/DS-Unit-4-Sprint-1-NLP/module1-text-data/data/Datafiniti_Amazon_Consumer_Reviews_of_Amazon_Products_May19.csv.zip\n",
            "  inflating: Datafiniti_Amazon_Consumer_Reviews_of_Amazon_Products_May19.csv  \n",
            "   creating: __MACOSX/\n",
            "  inflating: __MACOSX/._Datafiniti_Amazon_Consumer_Reviews_of_Amazon_Products_May19.csv  \n"
          ]
        }
      ]
    },
    {
      "cell_type": "code",
      "metadata": {
        "id": "Ov482n4pzGd6"
      },
      "source": [
        "data_path = \"/content/Datafiniti_Amazon_Consumer_Reviews_of_Amazon_Products_May19.csv\"\n",
        "df = pd.read_csv(data_path)"
      ],
      "execution_count": null,
      "outputs": []
    },
    {
      "cell_type": "code",
      "metadata": {
        "id": "-yZZEwZNzGd7",
        "colab": {
          "base_uri": "https://localhost:8080/",
          "height": 344
        },
        "outputId": "598baf12-8615-4a9f-95e2-82b27affe963"
      },
      "source": [
        "df.head(2)"
      ],
      "execution_count": null,
      "outputs": [
        {
          "output_type": "execute_result",
          "data": {
            "text/plain": [
              "                     id             dateAdded           dateUpdated  \\\n",
              "0  AVpgNzjwLJeJML43Kpxn  2015-10-30T08:59:32Z  2019-04-25T09:08:16Z   \n",
              "1  AVpgNzjwLJeJML43Kpxn  2015-10-30T08:59:32Z  2019-04-25T09:08:16Z   \n",
              "\n",
              "                                                name                  asins  \\\n",
              "0  AmazonBasics AAA Performance Alkaline Batterie...  B00QWO9P0O,B00LH3DMUO   \n",
              "1  AmazonBasics AAA Performance Alkaline Batterie...  B00QWO9P0O,B00LH3DMUO   \n",
              "\n",
              "          brand                                         categories  \\\n",
              "0  Amazonbasics  AA,AAA,Health,Electronics,Health & Household,C...   \n",
              "1  Amazonbasics  AA,AAA,Health,Electronics,Health & Household,C...   \n",
              "\n",
              "  primaryCategories                                          imageURLs  \\\n",
              "0   Health & Beauty  https://images-na.ssl-images-amazon.com/images...   \n",
              "1   Health & Beauty  https://images-na.ssl-images-amazon.com/images...   \n",
              "\n",
              "                                                keys  ... reviews.didPurchase  \\\n",
              "0  amazonbasics/hl002619,amazonbasicsaaaperforman...  ...                 NaN   \n",
              "1  amazonbasics/hl002619,amazonbasicsaaaperforman...  ...                 NaN   \n",
              "\n",
              "  reviews.doRecommend reviews.id reviews.numHelpful reviews.rating  \\\n",
              "0                 NaN        NaN                NaN              3   \n",
              "1                 NaN        NaN                NaN              4   \n",
              "\n",
              "                                  reviews.sourceURLs  \\\n",
              "0  https://www.amazon.com/product-reviews/B00QWO9...   \n",
              "1  https://www.amazon.com/product-reviews/B00QWO9...   \n",
              "\n",
              "                                        reviews.text  \\\n",
              "0  I order 3 of them and one of the item is bad q...   \n",
              "1  Bulk is always the less expensive way to go fo...   \n",
              "\n",
              "                                       reviews.title  reviews.username  \\\n",
              "0  ... 3 of them and one of the item is bad quali...        Byger yang   \n",
              "1  ... always the less expensive way to go for pr...              ByMG   \n",
              "\n",
              "                                          sourceURLs  \n",
              "0  https://www.barcodable.com/upc/841710106442,ht...  \n",
              "1  https://www.barcodable.com/upc/841710106442,ht...  \n",
              "\n",
              "[2 rows x 24 columns]"
            ],
            "text/html": [
              "\n",
              "  <div id=\"df-8336ba6d-02e6-4b86-bdde-fb9ccc6e824f\">\n",
              "    <div class=\"colab-df-container\">\n",
              "      <div>\n",
              "<style scoped>\n",
              "    .dataframe tbody tr th:only-of-type {\n",
              "        vertical-align: middle;\n",
              "    }\n",
              "\n",
              "    .dataframe tbody tr th {\n",
              "        vertical-align: top;\n",
              "    }\n",
              "\n",
              "    .dataframe thead th {\n",
              "        text-align: right;\n",
              "    }\n",
              "</style>\n",
              "<table border=\"1\" class=\"dataframe\">\n",
              "  <thead>\n",
              "    <tr style=\"text-align: right;\">\n",
              "      <th></th>\n",
              "      <th>id</th>\n",
              "      <th>dateAdded</th>\n",
              "      <th>dateUpdated</th>\n",
              "      <th>name</th>\n",
              "      <th>asins</th>\n",
              "      <th>brand</th>\n",
              "      <th>categories</th>\n",
              "      <th>primaryCategories</th>\n",
              "      <th>imageURLs</th>\n",
              "      <th>keys</th>\n",
              "      <th>...</th>\n",
              "      <th>reviews.didPurchase</th>\n",
              "      <th>reviews.doRecommend</th>\n",
              "      <th>reviews.id</th>\n",
              "      <th>reviews.numHelpful</th>\n",
              "      <th>reviews.rating</th>\n",
              "      <th>reviews.sourceURLs</th>\n",
              "      <th>reviews.text</th>\n",
              "      <th>reviews.title</th>\n",
              "      <th>reviews.username</th>\n",
              "      <th>sourceURLs</th>\n",
              "    </tr>\n",
              "  </thead>\n",
              "  <tbody>\n",
              "    <tr>\n",
              "      <th>0</th>\n",
              "      <td>AVpgNzjwLJeJML43Kpxn</td>\n",
              "      <td>2015-10-30T08:59:32Z</td>\n",
              "      <td>2019-04-25T09:08:16Z</td>\n",
              "      <td>AmazonBasics AAA Performance Alkaline Batterie...</td>\n",
              "      <td>B00QWO9P0O,B00LH3DMUO</td>\n",
              "      <td>Amazonbasics</td>\n",
              "      <td>AA,AAA,Health,Electronics,Health &amp; Household,C...</td>\n",
              "      <td>Health &amp; Beauty</td>\n",
              "      <td>https://images-na.ssl-images-amazon.com/images...</td>\n",
              "      <td>amazonbasics/hl002619,amazonbasicsaaaperforman...</td>\n",
              "      <td>...</td>\n",
              "      <td>NaN</td>\n",
              "      <td>NaN</td>\n",
              "      <td>NaN</td>\n",
              "      <td>NaN</td>\n",
              "      <td>3</td>\n",
              "      <td>https://www.amazon.com/product-reviews/B00QWO9...</td>\n",
              "      <td>I order 3 of them and one of the item is bad q...</td>\n",
              "      <td>... 3 of them and one of the item is bad quali...</td>\n",
              "      <td>Byger yang</td>\n",
              "      <td>https://www.barcodable.com/upc/841710106442,ht...</td>\n",
              "    </tr>\n",
              "    <tr>\n",
              "      <th>1</th>\n",
              "      <td>AVpgNzjwLJeJML43Kpxn</td>\n",
              "      <td>2015-10-30T08:59:32Z</td>\n",
              "      <td>2019-04-25T09:08:16Z</td>\n",
              "      <td>AmazonBasics AAA Performance Alkaline Batterie...</td>\n",
              "      <td>B00QWO9P0O,B00LH3DMUO</td>\n",
              "      <td>Amazonbasics</td>\n",
              "      <td>AA,AAA,Health,Electronics,Health &amp; Household,C...</td>\n",
              "      <td>Health &amp; Beauty</td>\n",
              "      <td>https://images-na.ssl-images-amazon.com/images...</td>\n",
              "      <td>amazonbasics/hl002619,amazonbasicsaaaperforman...</td>\n",
              "      <td>...</td>\n",
              "      <td>NaN</td>\n",
              "      <td>NaN</td>\n",
              "      <td>NaN</td>\n",
              "      <td>NaN</td>\n",
              "      <td>4</td>\n",
              "      <td>https://www.amazon.com/product-reviews/B00QWO9...</td>\n",
              "      <td>Bulk is always the less expensive way to go fo...</td>\n",
              "      <td>... always the less expensive way to go for pr...</td>\n",
              "      <td>ByMG</td>\n",
              "      <td>https://www.barcodable.com/upc/841710106442,ht...</td>\n",
              "    </tr>\n",
              "  </tbody>\n",
              "</table>\n",
              "<p>2 rows × 24 columns</p>\n",
              "</div>\n",
              "      <button class=\"colab-df-convert\" onclick=\"convertToInteractive('df-8336ba6d-02e6-4b86-bdde-fb9ccc6e824f')\"\n",
              "              title=\"Convert this dataframe to an interactive table.\"\n",
              "              style=\"display:none;\">\n",
              "        \n",
              "  <svg xmlns=\"http://www.w3.org/2000/svg\" height=\"24px\"viewBox=\"0 0 24 24\"\n",
              "       width=\"24px\">\n",
              "    <path d=\"M0 0h24v24H0V0z\" fill=\"none\"/>\n",
              "    <path d=\"M18.56 5.44l.94 2.06.94-2.06 2.06-.94-2.06-.94-.94-2.06-.94 2.06-2.06.94zm-11 1L8.5 8.5l.94-2.06 2.06-.94-2.06-.94L8.5 2.5l-.94 2.06-2.06.94zm10 10l.94 2.06.94-2.06 2.06-.94-2.06-.94-.94-2.06-.94 2.06-2.06.94z\"/><path d=\"M17.41 7.96l-1.37-1.37c-.4-.4-.92-.59-1.43-.59-.52 0-1.04.2-1.43.59L10.3 9.45l-7.72 7.72c-.78.78-.78 2.05 0 2.83L4 21.41c.39.39.9.59 1.41.59.51 0 1.02-.2 1.41-.59l7.78-7.78 2.81-2.81c.8-.78.8-2.07 0-2.86zM5.41 20L4 18.59l7.72-7.72 1.47 1.35L5.41 20z\"/>\n",
              "  </svg>\n",
              "      </button>\n",
              "      \n",
              "  <style>\n",
              "    .colab-df-container {\n",
              "      display:flex;\n",
              "      flex-wrap:wrap;\n",
              "      gap: 12px;\n",
              "    }\n",
              "\n",
              "    .colab-df-convert {\n",
              "      background-color: #E8F0FE;\n",
              "      border: none;\n",
              "      border-radius: 50%;\n",
              "      cursor: pointer;\n",
              "      display: none;\n",
              "      fill: #1967D2;\n",
              "      height: 32px;\n",
              "      padding: 0 0 0 0;\n",
              "      width: 32px;\n",
              "    }\n",
              "\n",
              "    .colab-df-convert:hover {\n",
              "      background-color: #E2EBFA;\n",
              "      box-shadow: 0px 1px 2px rgba(60, 64, 67, 0.3), 0px 1px 3px 1px rgba(60, 64, 67, 0.15);\n",
              "      fill: #174EA6;\n",
              "    }\n",
              "\n",
              "    [theme=dark] .colab-df-convert {\n",
              "      background-color: #3B4455;\n",
              "      fill: #D2E3FC;\n",
              "    }\n",
              "\n",
              "    [theme=dark] .colab-df-convert:hover {\n",
              "      background-color: #434B5C;\n",
              "      box-shadow: 0px 1px 3px 1px rgba(0, 0, 0, 0.15);\n",
              "      filter: drop-shadow(0px 1px 2px rgba(0, 0, 0, 0.3));\n",
              "      fill: #FFFFFF;\n",
              "    }\n",
              "  </style>\n",
              "\n",
              "      <script>\n",
              "        const buttonEl =\n",
              "          document.querySelector('#df-8336ba6d-02e6-4b86-bdde-fb9ccc6e824f button.colab-df-convert');\n",
              "        buttonEl.style.display =\n",
              "          google.colab.kernel.accessAllowed ? 'block' : 'none';\n",
              "\n",
              "        async function convertToInteractive(key) {\n",
              "          const element = document.querySelector('#df-8336ba6d-02e6-4b86-bdde-fb9ccc6e824f');\n",
              "          const dataTable =\n",
              "            await google.colab.kernel.invokeFunction('convertToInteractive',\n",
              "                                                     [key], {});\n",
              "          if (!dataTable) return;\n",
              "\n",
              "          const docLinkHtml = 'Like what you see? Visit the ' +\n",
              "            '<a target=\"_blank\" href=https://colab.research.google.com/notebooks/data_table.ipynb>data table notebook</a>'\n",
              "            + ' to learn more about interactive tables.';\n",
              "          element.innerHTML = '';\n",
              "          dataTable['output_type'] = 'display_data';\n",
              "          await google.colab.output.renderOutput(dataTable, element);\n",
              "          const docLink = document.createElement('div');\n",
              "          docLink.innerHTML = docLinkHtml;\n",
              "          element.appendChild(docLink);\n",
              "        }\n",
              "      </script>\n",
              "    </div>\n",
              "  </div>\n",
              "  "
            ]
          },
          "metadata": {},
          "execution_count": 5
        }
      ]
    },
    {
      "cell_type": "markdown",
      "metadata": {
        "id": "kdwr6x8PzGd7"
      },
      "source": [
        "----\n",
        "\n",
        "### Clean data\n",
        "\n",
        "- Create a function called `clean_data` that uses regex expressions to clean your data in preparation for the vectorizer. \n",
        "\n",
        "- Save the clean text data to a column in your dataframe named `clean_text`\n",
        "\n",
        "- Feel free to re-use old code that you have written in previous modules  "
      ]
    },
    {
      "cell_type": "code",
      "metadata": {
        "colab": {
          "base_uri": "https://localhost:8080/"
        },
        "id": "g5cL1Amq8iT_",
        "outputId": "f6c50ff1-2ceb-46a9-ea45-0a231a03c638"
      },
      "source": [
        "df.shape"
      ],
      "execution_count": null,
      "outputs": [
        {
          "output_type": "execute_result",
          "data": {
            "text/plain": [
              "(28332, 24)"
            ]
          },
          "metadata": {},
          "execution_count": 6
        }
      ]
    },
    {
      "cell_type": "code",
      "metadata": {
        "colab": {
          "base_uri": "https://localhost:8080/",
          "height": 36
        },
        "id": "dgW6kglx8T_l",
        "outputId": "b2dde773-3e1b-4bff-a185-60fea58acd72"
      },
      "source": [
        "df['reviews.text'][8505]"
      ],
      "execution_count": null,
      "outputs": [
        {
          "output_type": "execute_result",
          "data": {
            "text/plain": [
              "'Have had zero issues with longevity or voltage. As good as the major brand batteries'"
            ],
            "application/vnd.google.colaboratory.intrinsic+json": {
              "type": "string"
            }
          },
          "metadata": {},
          "execution_count": 7
        }
      ]
    },
    {
      "cell_type": "code",
      "metadata": {
        "deletable": false,
        "nbgrader": {
          "cell_type": "code",
          "checksum": "a2513c0ebd04cf8645fe0a1feb1e1a36",
          "grade": false,
          "grade_id": "cell-fa0950cfe5ef7725",
          "locked": false,
          "schema_version": 3,
          "solution": true,
          "task": false
        },
        "id": "4xo_hkHKzGd7"
      },
      "source": [
        "import spacy\n",
        "nlp = spacy.load(\"en_core_web_md\")\n",
        "\n",
        "def clean_data(text):\n",
        "  \"\"\"\n",
        "  Cleans data to remove unwanted characters and punctuation.\n",
        "  \"\"\"\n",
        " # YOUR CODE HERE\n",
        "  tokens = []\n",
        "  doc = nlp(text)\n",
        "  for token in doc:\n",
        "    if (not token.is_punct) and (not token.is_stop) and (not token.is_digit) and (not token.like_num) and (token.lemma_.strip()!= \"\") and len(token.lemma_.strip())>1:\n",
        "      tokens.append(token.lemma_.strip())\n",
        "  return tokens\n"
      ],
      "execution_count": null,
      "outputs": []
    },
    {
      "cell_type": "code",
      "metadata": {
        "deletable": false,
        "nbgrader": {
          "cell_type": "code",
          "checksum": "a6ceefe5476e71efcb3d36c3e203616f",
          "grade": false,
          "grade_id": "cell-5b8e2bc0f9a745f3",
          "locked": false,
          "schema_version": 3,
          "solution": true,
          "task": false
        },
        "id": "H693L3fJzGd8"
      },
      "source": [
        "# create a clean_text column by applying  clean_data to your text\n",
        "df['clean_text'] = df['reviews.text'].apply(clean_data)"
      ],
      "execution_count": null,
      "outputs": []
    },
    {
      "cell_type": "code",
      "metadata": {
        "id": "5FMvAhkBzGd8"
      },
      "source": [
        "alphebetical_chars = [\"ABCDEFGHIJKLMNOP\"]\n",
        "# check if any of these alphabetical chars exist in your clean chars\n",
        "assert df.clean_text.isin(alphebetical_chars).sum() == 0, \"Did you case normalize your text inside of your clean_data function?\""
      ],
      "execution_count": null,
      "outputs": []
    },
    {
      "cell_type": "markdown",
      "metadata": {
        "id": "kzqt1ainzGd8"
      },
      "source": [
        "------\n",
        "\n",
        "## Determine number of topics\n",
        "\n",
        "We are going to run an experiment to determine how many topics exists within the `primaryCategories` of `Electronics`. This is the largest primary category containing nearly 14K documents, so we should have plenty of data. \n",
        "\n",
        "Just as we did in the guided project, we'll be running a gridseach over the number of topics and scoring each model using the Coherence metric to determine which number of topics we should use. \n"
      ]
    },
    {
      "cell_type": "code",
      "metadata": {
        "id": "3jrHewGbzGd9"
      },
      "source": [
        "# create a mask for docs that are in the Electronics primaryCategories - save result to `electronics_mask`\n",
        "electronics_mask = df.primaryCategories.isin([\"Electronics\"])\n",
        "\n",
        "# use mask to select all the documents in the Electronics primaryCategories - save result to `df_electronics`\n",
        "df_electronics = df[electronics_mask]"
      ],
      "execution_count": null,
      "outputs": []
    },
    {
      "cell_type": "code",
      "metadata": {
        "colab": {
          "base_uri": "https://localhost:8080/",
          "height": 445
        },
        "id": "peb18zW3zGd9",
        "outputId": "6f9bfba6-faa9-45e5-eb8a-4ea0ff925485"
      },
      "source": [
        "df_electronics.head(3)"
      ],
      "execution_count": null,
      "outputs": [
        {
          "output_type": "execute_result",
          "data": {
            "text/plain": [
              "                        id             dateAdded           dateUpdated  \\\n",
              "8343  AVpe7nGV1cnluZ0-aG2o  2014-10-28T11:14:38Z  2019-04-25T09:05:28Z   \n",
              "8344  AVpe7nGV1cnluZ0-aG2o  2014-10-28T11:14:38Z  2019-04-25T09:05:28Z   \n",
              "8345  AVpe7nGV1cnluZ0-aG2o  2014-10-28T11:14:38Z  2019-04-25T09:05:28Z   \n",
              "\n",
              "                                                 name                  asins  \\\n",
              "8343  AmazonBasics Nylon CD/DVD Binder (400 Capacity)  B00DIHVMEA,B00EZ1ZTV0   \n",
              "8344  AmazonBasics Nylon CD/DVD Binder (400 Capacity)  B00DIHVMEA,B00EZ1ZTV0   \n",
              "8345  AmazonBasics Nylon CD/DVD Binder (400 Capacity)  B00DIHVMEA,B00EZ1ZTV0   \n",
              "\n",
              "             brand                                         categories  \\\n",
              "8343  Amazonbasics  Audio & Video Accessories,TV, Video & Home Aud...   \n",
              "8344  Amazonbasics  Audio & Video Accessories,TV, Video & Home Aud...   \n",
              "8345  Amazonbasics  Audio & Video Accessories,TV, Video & Home Aud...   \n",
              "\n",
              "     primaryCategories                                          imageURLs  \\\n",
              "8343       Electronics  http://ecx.images-amazon.com/images/I/41jQha7Z...   \n",
              "8344       Electronics  http://ecx.images-amazon.com/images/I/41jQha7Z...   \n",
              "8345       Electronics  http://ecx.images-amazon.com/images/I/41jQha7Z...   \n",
              "\n",
              "                                                   keys  ...  \\\n",
              "8343  amazonbasicsnyloncddvdbinder400capacity/b00ez1...  ...   \n",
              "8344  amazonbasicsnyloncddvdbinder400capacity/b00ez1...  ...   \n",
              "8345  amazonbasicsnyloncddvdbinder400capacity/b00ez1...  ...   \n",
              "\n",
              "     reviews.doRecommend reviews.id reviews.numHelpful reviews.rating  \\\n",
              "8343                 NaN        NaN                NaN              5   \n",
              "8344                 NaN        NaN                NaN              5   \n",
              "8345                 NaN        NaN                NaN              5   \n",
              "\n",
              "                                     reviews.sourceURLs  \\\n",
              "8343  https://www.ebay.com/itm/Amazonbasics-Nylon-Cd...   \n",
              "8344  http://www.amazon.co.uk/gp/product-reviews/B00...   \n",
              "8345  https://www.ebay.com/itm/Amazonbasics-Nylon-Cd...   \n",
              "\n",
              "                                           reviews.text  \\\n",
              "8343  Great case to keep everything in its place! My...   \n",
              "8344  After discarding and getting rid of broken cd ...   \n",
              "8345     A few dollars more, but I am boycotting amazon   \n",
              "\n",
              "                     reviews.title  reviews.username  \\\n",
              "8343             Excellent product           qs341_5   \n",
              "8344  It was a much needed storage          Diablita   \n",
              "8345               it was worth it  coldbloodblazing   \n",
              "\n",
              "                                             sourceURLs  \\\n",
              "8343  https://www.ebay.com/itm/AmazonBasics-Nylon-CD...   \n",
              "8344  https://www.ebay.com/itm/AmazonBasics-Nylon-CD...   \n",
              "8345  https://www.ebay.com/itm/AmazonBasics-Nylon-CD...   \n",
              "\n",
              "                                             clean_text  \n",
              "8343  [great, case, place, husband, love, hold, lot,...  \n",
              "8344  [discard, getting, rid, broken, cd, case, brea...  \n",
              "8345                          [dollar, boycott, amazon]  \n",
              "\n",
              "[3 rows x 25 columns]"
            ],
            "text/html": [
              "\n",
              "  <div id=\"df-0e5b5368-6433-4fbb-9654-8bfe7ab2bdd6\">\n",
              "    <div class=\"colab-df-container\">\n",
              "      <div>\n",
              "<style scoped>\n",
              "    .dataframe tbody tr th:only-of-type {\n",
              "        vertical-align: middle;\n",
              "    }\n",
              "\n",
              "    .dataframe tbody tr th {\n",
              "        vertical-align: top;\n",
              "    }\n",
              "\n",
              "    .dataframe thead th {\n",
              "        text-align: right;\n",
              "    }\n",
              "</style>\n",
              "<table border=\"1\" class=\"dataframe\">\n",
              "  <thead>\n",
              "    <tr style=\"text-align: right;\">\n",
              "      <th></th>\n",
              "      <th>id</th>\n",
              "      <th>dateAdded</th>\n",
              "      <th>dateUpdated</th>\n",
              "      <th>name</th>\n",
              "      <th>asins</th>\n",
              "      <th>brand</th>\n",
              "      <th>categories</th>\n",
              "      <th>primaryCategories</th>\n",
              "      <th>imageURLs</th>\n",
              "      <th>keys</th>\n",
              "      <th>...</th>\n",
              "      <th>reviews.doRecommend</th>\n",
              "      <th>reviews.id</th>\n",
              "      <th>reviews.numHelpful</th>\n",
              "      <th>reviews.rating</th>\n",
              "      <th>reviews.sourceURLs</th>\n",
              "      <th>reviews.text</th>\n",
              "      <th>reviews.title</th>\n",
              "      <th>reviews.username</th>\n",
              "      <th>sourceURLs</th>\n",
              "      <th>clean_text</th>\n",
              "    </tr>\n",
              "  </thead>\n",
              "  <tbody>\n",
              "    <tr>\n",
              "      <th>8343</th>\n",
              "      <td>AVpe7nGV1cnluZ0-aG2o</td>\n",
              "      <td>2014-10-28T11:14:38Z</td>\n",
              "      <td>2019-04-25T09:05:28Z</td>\n",
              "      <td>AmazonBasics Nylon CD/DVD Binder (400 Capacity)</td>\n",
              "      <td>B00DIHVMEA,B00EZ1ZTV0</td>\n",
              "      <td>Amazonbasics</td>\n",
              "      <td>Audio &amp; Video Accessories,TV, Video &amp; Home Aud...</td>\n",
              "      <td>Electronics</td>\n",
              "      <td>http://ecx.images-amazon.com/images/I/41jQha7Z...</td>\n",
              "      <td>amazonbasicsnyloncddvdbinder400capacity/b00ez1...</td>\n",
              "      <td>...</td>\n",
              "      <td>NaN</td>\n",
              "      <td>NaN</td>\n",
              "      <td>NaN</td>\n",
              "      <td>5</td>\n",
              "      <td>https://www.ebay.com/itm/Amazonbasics-Nylon-Cd...</td>\n",
              "      <td>Great case to keep everything in its place! My...</td>\n",
              "      <td>Excellent product</td>\n",
              "      <td>qs341_5</td>\n",
              "      <td>https://www.ebay.com/itm/AmazonBasics-Nylon-CD...</td>\n",
              "      <td>[great, case, place, husband, love, hold, lot,...</td>\n",
              "    </tr>\n",
              "    <tr>\n",
              "      <th>8344</th>\n",
              "      <td>AVpe7nGV1cnluZ0-aG2o</td>\n",
              "      <td>2014-10-28T11:14:38Z</td>\n",
              "      <td>2019-04-25T09:05:28Z</td>\n",
              "      <td>AmazonBasics Nylon CD/DVD Binder (400 Capacity)</td>\n",
              "      <td>B00DIHVMEA,B00EZ1ZTV0</td>\n",
              "      <td>Amazonbasics</td>\n",
              "      <td>Audio &amp; Video Accessories,TV, Video &amp; Home Aud...</td>\n",
              "      <td>Electronics</td>\n",
              "      <td>http://ecx.images-amazon.com/images/I/41jQha7Z...</td>\n",
              "      <td>amazonbasicsnyloncddvdbinder400capacity/b00ez1...</td>\n",
              "      <td>...</td>\n",
              "      <td>NaN</td>\n",
              "      <td>NaN</td>\n",
              "      <td>NaN</td>\n",
              "      <td>5</td>\n",
              "      <td>http://www.amazon.co.uk/gp/product-reviews/B00...</td>\n",
              "      <td>After discarding and getting rid of broken cd ...</td>\n",
              "      <td>It was a much needed storage</td>\n",
              "      <td>Diablita</td>\n",
              "      <td>https://www.ebay.com/itm/AmazonBasics-Nylon-CD...</td>\n",
              "      <td>[discard, getting, rid, broken, cd, case, brea...</td>\n",
              "    </tr>\n",
              "    <tr>\n",
              "      <th>8345</th>\n",
              "      <td>AVpe7nGV1cnluZ0-aG2o</td>\n",
              "      <td>2014-10-28T11:14:38Z</td>\n",
              "      <td>2019-04-25T09:05:28Z</td>\n",
              "      <td>AmazonBasics Nylon CD/DVD Binder (400 Capacity)</td>\n",
              "      <td>B00DIHVMEA,B00EZ1ZTV0</td>\n",
              "      <td>Amazonbasics</td>\n",
              "      <td>Audio &amp; Video Accessories,TV, Video &amp; Home Aud...</td>\n",
              "      <td>Electronics</td>\n",
              "      <td>http://ecx.images-amazon.com/images/I/41jQha7Z...</td>\n",
              "      <td>amazonbasicsnyloncddvdbinder400capacity/b00ez1...</td>\n",
              "      <td>...</td>\n",
              "      <td>NaN</td>\n",
              "      <td>NaN</td>\n",
              "      <td>NaN</td>\n",
              "      <td>5</td>\n",
              "      <td>https://www.ebay.com/itm/Amazonbasics-Nylon-Cd...</td>\n",
              "      <td>A few dollars more, but I am boycotting amazon</td>\n",
              "      <td>it was worth it</td>\n",
              "      <td>coldbloodblazing</td>\n",
              "      <td>https://www.ebay.com/itm/AmazonBasics-Nylon-CD...</td>\n",
              "      <td>[dollar, boycott, amazon]</td>\n",
              "    </tr>\n",
              "  </tbody>\n",
              "</table>\n",
              "<p>3 rows × 25 columns</p>\n",
              "</div>\n",
              "      <button class=\"colab-df-convert\" onclick=\"convertToInteractive('df-0e5b5368-6433-4fbb-9654-8bfe7ab2bdd6')\"\n",
              "              title=\"Convert this dataframe to an interactive table.\"\n",
              "              style=\"display:none;\">\n",
              "        \n",
              "  <svg xmlns=\"http://www.w3.org/2000/svg\" height=\"24px\"viewBox=\"0 0 24 24\"\n",
              "       width=\"24px\">\n",
              "    <path d=\"M0 0h24v24H0V0z\" fill=\"none\"/>\n",
              "    <path d=\"M18.56 5.44l.94 2.06.94-2.06 2.06-.94-2.06-.94-.94-2.06-.94 2.06-2.06.94zm-11 1L8.5 8.5l.94-2.06 2.06-.94-2.06-.94L8.5 2.5l-.94 2.06-2.06.94zm10 10l.94 2.06.94-2.06 2.06-.94-2.06-.94-.94-2.06-.94 2.06-2.06.94z\"/><path d=\"M17.41 7.96l-1.37-1.37c-.4-.4-.92-.59-1.43-.59-.52 0-1.04.2-1.43.59L10.3 9.45l-7.72 7.72c-.78.78-.78 2.05 0 2.83L4 21.41c.39.39.9.59 1.41.59.51 0 1.02-.2 1.41-.59l7.78-7.78 2.81-2.81c.8-.78.8-2.07 0-2.86zM5.41 20L4 18.59l7.72-7.72 1.47 1.35L5.41 20z\"/>\n",
              "  </svg>\n",
              "      </button>\n",
              "      \n",
              "  <style>\n",
              "    .colab-df-container {\n",
              "      display:flex;\n",
              "      flex-wrap:wrap;\n",
              "      gap: 12px;\n",
              "    }\n",
              "\n",
              "    .colab-df-convert {\n",
              "      background-color: #E8F0FE;\n",
              "      border: none;\n",
              "      border-radius: 50%;\n",
              "      cursor: pointer;\n",
              "      display: none;\n",
              "      fill: #1967D2;\n",
              "      height: 32px;\n",
              "      padding: 0 0 0 0;\n",
              "      width: 32px;\n",
              "    }\n",
              "\n",
              "    .colab-df-convert:hover {\n",
              "      background-color: #E2EBFA;\n",
              "      box-shadow: 0px 1px 2px rgba(60, 64, 67, 0.3), 0px 1px 3px 1px rgba(60, 64, 67, 0.15);\n",
              "      fill: #174EA6;\n",
              "    }\n",
              "\n",
              "    [theme=dark] .colab-df-convert {\n",
              "      background-color: #3B4455;\n",
              "      fill: #D2E3FC;\n",
              "    }\n",
              "\n",
              "    [theme=dark] .colab-df-convert:hover {\n",
              "      background-color: #434B5C;\n",
              "      box-shadow: 0px 1px 3px 1px rgba(0, 0, 0, 0.15);\n",
              "      filter: drop-shadow(0px 1px 2px rgba(0, 0, 0, 0.3));\n",
              "      fill: #FFFFFF;\n",
              "    }\n",
              "  </style>\n",
              "\n",
              "      <script>\n",
              "        const buttonEl =\n",
              "          document.querySelector('#df-0e5b5368-6433-4fbb-9654-8bfe7ab2bdd6 button.colab-df-convert');\n",
              "        buttonEl.style.display =\n",
              "          google.colab.kernel.accessAllowed ? 'block' : 'none';\n",
              "\n",
              "        async function convertToInteractive(key) {\n",
              "          const element = document.querySelector('#df-0e5b5368-6433-4fbb-9654-8bfe7ab2bdd6');\n",
              "          const dataTable =\n",
              "            await google.colab.kernel.invokeFunction('convertToInteractive',\n",
              "                                                     [key], {});\n",
              "          if (!dataTable) return;\n",
              "\n",
              "          const docLinkHtml = 'Like what you see? Visit the ' +\n",
              "            '<a target=\"_blank\" href=https://colab.research.google.com/notebooks/data_table.ipynb>data table notebook</a>'\n",
              "            + ' to learn more about interactive tables.';\n",
              "          element.innerHTML = '';\n",
              "          dataTable['output_type'] = 'display_data';\n",
              "          await google.colab.output.renderOutput(dataTable, element);\n",
              "          const docLink = document.createElement('div');\n",
              "          docLink.innerHTML = docLinkHtml;\n",
              "          element.appendChild(docLink);\n",
              "        }\n",
              "      </script>\n",
              "    </div>\n",
              "  </div>\n",
              "  "
            ]
          },
          "metadata": {},
          "execution_count": 12
        }
      ]
    },
    {
      "cell_type": "markdown",
      "metadata": {
        "id": "FfZWF0I9zGd-"
      },
      "source": [
        "------\n",
        "### Tokenize your documents \n",
        "\n",
        "Remember that you'll need to use the [**corpora**](https://radimrehurek.com/gensim/corpora/dictionary.html) class from the Gensim library. So definitely check out the docs to learn more about this tool. There is an example on how to do this in the guided project.\n",
        "\n",
        "But before we can use the [**corpora**](https://radimrehurek.com/gensim/corpora/dictionary.html) class, we must first tokenize our articles. \n",
        "\n"
      ]
    },
    {
      "cell_type": "code",
      "metadata": {
        "id": "2rAMfVfB1PS-"
      },
      "source": [
        "# identify how many processors your machine has - save the result to `n_processors`\n",
        "n_processors = 1\n",
        "# subtract 1 from n_processors - save the result to `nb_workers`\n",
        "nb_workers = n_processors - 1\n",
        "# initialize just like we did in the guided project\n",
        "\n",
        "\n",
        "# YOUR CODE HERE\n",
        "#raise NotImplementedError()"
      ],
      "execution_count": null,
      "outputs": []
    },
    {
      "cell_type": "code",
      "metadata": {
        "id": "t6pNnk3vzGd-",
        "colab": {
          "base_uri": "https://localhost:8080/",
          "height": 188
        },
        "outputId": "44270b5b-04b3-4913-8b1d-58719522f40a"
      },
      "source": [
        "# load in the spaCy language model\n",
        "nlp = spacy.load(\"en_core_web_md\")"
      ],
      "execution_count": null,
      "outputs": [
        {
          "output_type": "error",
          "ename": "NameError",
          "evalue": "ignored",
          "traceback": [
            "\u001b[0;31m---------------------------------------------------------------------------\u001b[0m",
            "\u001b[0;31mNameError\u001b[0m                                 Traceback (most recent call last)",
            "\u001b[0;32m<ipython-input-2-1353530ac9ff>\u001b[0m in \u001b[0;36m<module>\u001b[0;34m\u001b[0m\n\u001b[1;32m      1\u001b[0m \u001b[0;31m# load in the spaCy language model\u001b[0m\u001b[0;34m\u001b[0m\u001b[0;34m\u001b[0m\u001b[0;34m\u001b[0m\u001b[0m\n\u001b[0;32m----> 2\u001b[0;31m \u001b[0mnlp\u001b[0m \u001b[0;34m=\u001b[0m \u001b[0mspacy\u001b[0m\u001b[0;34m.\u001b[0m\u001b[0mload\u001b[0m\u001b[0;34m(\u001b[0m\u001b[0;34m\"en_core_web_md\"\u001b[0m\u001b[0;34m)\u001b[0m\u001b[0;34m\u001b[0m\u001b[0;34m\u001b[0m\u001b[0m\n\u001b[0m",
            "\u001b[0;31mNameError\u001b[0m: name 'spacy' is not defined"
          ]
        }
      ]
    },
    {
      "cell_type": "code",
      "metadata": {
        "id": "05x-KJPIBQa2"
      },
      "source": [
        "%%time\n",
        "# create our tokens in the form of lemmas \n",
        "df_electronics['lemmas'] = df_electronics['clean_text']#.apply(lambda x: [token.lemma_ for token in nlp(x) if (token.is_stop != True) and (token.is_punct != True)])"
      ],
      "execution_count": null,
      "outputs": []
    },
    {
      "cell_type": "markdown",
      "metadata": {
        "id": "WS7vTVqnzGd_"
      },
      "source": [
        "### Use the corpora class to prep your data for LDA\n",
        "\n",
        "You'll need to create the same `id2word` and `corpus` objects that we created in the guided projects. So be sure to reference the guided project notebook if you need to. "
      ]
    },
    {
      "cell_type": "code",
      "metadata": {
        "deletable": false,
        "nbgrader": {
          "cell_type": "code",
          "checksum": "53bf811aebb39e7ed6fc592851f82f8b",
          "grade": false,
          "grade_id": "cell-9d92f28649aa999e",
          "locked": false,
          "schema_version": 3,
          "solution": true,
          "task": false
        },
        "id": "7paL9zS7zGd_"
      },
      "source": [
        "# Create lemma dictionary using Dictionary - save result to `id2word`\n",
        "id2word = corpora.Dictionary(df_electronics['lemmas'])\n",
        "id2word.filter_extremes(no_below=2, no_above=0.5)\n",
        "# Create Term Document Frequency list - save result to `corpus`\n",
        "corpus = [id2word.doc2bow(doc_lemmas) for doc_lemmas in df_electronics.lemmas]\n",
        "\n",
        "# YOUR CODE HERE\n",
        "#raise NotImplementedError()"
      ],
      "execution_count": null,
      "outputs": []
    },
    {
      "cell_type": "code",
      "source": [
        "corpus[10]"
      ],
      "metadata": {
        "id": "Mab06SuWuIo_",
        "outputId": "c9008776-774b-4655-e28e-0aae1b464f70",
        "colab": {
          "base_uri": "https://localhost:8080/"
        }
      },
      "execution_count": null,
      "outputs": [
        {
          "output_type": "execute_result",
          "data": {
            "text/plain": [
              "[(44, 1),\n",
              " (47, 2),\n",
              " (67, 1),\n",
              " (96, 2),\n",
              " (118, 1),\n",
              " (120, 1),\n",
              " (127, 1),\n",
              " (162, 1),\n",
              " (178, 1),\n",
              " (180, 1),\n",
              " (181, 1),\n",
              " (182, 1),\n",
              " (183, 1),\n",
              " (184, 1),\n",
              " (185, 1),\n",
              " (186, 1),\n",
              " (187, 1),\n",
              " (188, 1),\n",
              " (189, 1),\n",
              " (190, 1),\n",
              " (191, 1),\n",
              " (192, 1),\n",
              " (193, 1)]"
            ]
          },
          "metadata": {},
          "execution_count": 96
        }
      ]
    },
    {
      "cell_type": "code",
      "source": [
        "#df_electronics['lemmas']\n"
      ],
      "metadata": {
        "id": "kKv8oE_Ws6bC"
      },
      "execution_count": null,
      "outputs": []
    },
    {
      "cell_type": "markdown",
      "metadata": {
        "id": "vtmHceiazGd_"
      },
      "source": [
        "## Gridsearch the number of topics \n",
        "\n",
        "Just as we did in the guided project, we're going to run a `for` loop over a range of possible number of topics and then plot the `coherence_values` to determine which number of topics leads to the most sensible grouping of documents. "
      ]
    },
    {
      "cell_type": "code",
      "metadata": {
        "id": "FBICFYD4zGeA"
      },
      "source": [
        "def compute_coherence_values(dictionary, corpus, texts, limit, start=2, step=3):\n",
        "    \"\"\"\n",
        "    Compute c_v coherence for various number of topics\n",
        "\n",
        "    Parameters:\n",
        "    ----------\n",
        "    dictionary : Gensim dictionary\n",
        "    corpus : Gensim corpus\n",
        "    texts : List of input texts\n",
        "    limit : Max num of topics\n",
        "\n",
        "    Returns:\n",
        "    -------\n",
        "    model_list : List of LDA topic models\n",
        "    coherence_values : Coherence values corresponding to the LDA model with respective number of topics\n",
        "    \"\"\"\n",
        "    coherence_values = []\n",
        "    model_list = []\n",
        "    for num_topics in range(start, limit, step):\n",
        "        model = gensim.models.ldamulticore.LdaMulticore(corpus=corpus,\n",
        "                                                        id2word=id2word,\n",
        "                                                        num_topics=num_topics, \n",
        "                                                        chunksize=100,\n",
        "                                                        passes=10,\n",
        "                                                        random_state=1234,\n",
        "                                                        per_word_topics=True,\n",
        "                                                        workers=2)\n",
        "        model_list.append(model)\n",
        "        coherencemodel = CoherenceModel(model=model, texts=texts, dictionary=dictionary, coherence='c_v')\n",
        "        coherence_values.append(coherencemodel.get_coherence())\n",
        "\n",
        "    return model_list, coherence_values"
      ],
      "execution_count": null,
      "outputs": []
    },
    {
      "cell_type": "code",
      "metadata": {
        "id": "Nn20KdDl2HUR",
        "outputId": "62e90077-1673-41fb-a2ac-2c9914c99151",
        "colab": {
          "base_uri": "https://localhost:8080/"
        }
      },
      "source": [
        "%%time\n",
        "model_list, coherence_values = compute_coherence_values(dictionary=id2word, corpus=corpus, texts=df_electronics['lemmas'], start=2, limit=16, step=2)"
      ],
      "execution_count": null,
      "outputs": [
        {
          "output_type": "stream",
          "name": "stdout",
          "text": [
            "CPU times: user 3min 26s, sys: 12.7 s, total: 3min 39s\n",
            "Wall time: 5min 25s\n"
          ]
        }
      ]
    },
    {
      "cell_type": "code",
      "metadata": {
        "id": "k2kJsVLt2P5-",
        "outputId": "90b004cd-f457-48b9-9cbf-895ccf0a9ec7",
        "colab": {
          "base_uri": "https://localhost:8080/",
          "height": 350
        }
      },
      "source": [
        "start=2; limit=16;  step=2;\n",
        "x = range(start, limit, step)\n",
        "\n",
        "plt.figure(figsize=(20,5))\n",
        "plt.grid()\n",
        "plt.title(\"Coherence Score vs. Number of Topics\")\n",
        "plt.xticks(x)\n",
        "plt.plot(x, coherence_values, \"-o\")\n",
        "\n",
        "plt.xlabel(\"Num Topics\")\n",
        "plt.ylabel(\"Coherence score\")\n",
        "\n",
        "plt.show();"
      ],
      "execution_count": null,
      "outputs": [
        {
          "output_type": "display_data",
          "data": {
            "text/plain": [
              "<Figure size 1440x360 with 1 Axes>"
            ],
            "image/png": "[encoded data removed]"
          },
          "metadata": {
            "needs_background": "light"
          }
        }
      ]
    },
    {
      "cell_type": "code",
      "metadata": {
        "deletable": false,
        "nbgrader": {
          "cell_type": "code",
          "checksum": "45f72ff929ab8b765d0f0b5f35137f0d",
          "grade": false,
          "grade_id": "cell-e97661faebf1ac3c",
          "locked": false,
          "schema_version": 3,
          "solution": true,
          "task": false
        },
        "id": "1Qx7OVX-zGeB"
      },
      "source": [
        "# use np.argmax() to get index of largest coherence value from coherence_values - save result to `max_cohereance_val_index`\n",
        "\n",
        "# use `max_coherence_val_index` to index model_list for the corresponding model - save result to `lda_trained_model`\n",
        "\n",
        "max_coherence_val_index = 5\n",
        "\n",
        "lda_trained_model = model_list[5]\n",
        "\n",
        "# YOUR CODE HERE\n",
        "#raise NotImplementedError()"
      ],
      "execution_count": null,
      "outputs": []
    },
    {
      "cell_type": "code",
      "metadata": {
        "colab": {
          "base_uri": "https://localhost:8080/"
        },
        "id": "7y-wokYcIg9_",
        "outputId": "25bd6350-394a-4fb9-fcd0-2e65296498bf"
      },
      "source": [
        "pprint(lda_trained_model.print_topics())"
      ],
      "execution_count": null,
      "outputs": [
        {
          "output_type": "stream",
          "name": "stdout",
          "text": [
            "Pretty printing has been turned ON\n"
          ]
        }
      ]
    },
    {
      "cell_type": "markdown",
      "metadata": {
        "id": "LwGY4o8fzGeB"
      },
      "source": [
        "## Use pyLDAvis to visualize your topics \n",
        "\n",
        "Take a look at the topic bubbles and bar chart for the terms on the right hand side.  \n",
        "\n",
        "- Describe the topic bubbles. \n",
        "- Do they overlap or not? \n",
        "- What does it mean when they overlap? \n",
        "- What does it mean when they don't overlap?\n",
        "- Are the terms in each topic distinct from the topics in the other topic bubbles?\n"
      ]
    },
    {
      "cell_type": "code",
      "metadata": {
        "id": "9poWZ8WgItYS",
        "colab": {
          "base_uri": "https://localhost:8080/"
        },
        "outputId": "0bd5cfe2-ae39-4061-c9e1-35630d17d959"
      },
      "source": [
        "!pip install ipywidgets"
      ],
      "execution_count": null,
      "outputs": [
        {
          "output_type": "stream",
          "name": "stdout",
          "text": [
            "Looking in indexes: https://pypi.org/simple, https://us-python.pkg.dev/colab-wheels/public/simple/\n",
            "Requirement already satisfied: ipywidgets in /usr/local/lib/python3.8/dist-packages (7.7.1)\n",
            "Requirement already satisfied: widgetsnbextension~=3.6.0 in /usr/local/lib/python3.8/dist-packages (from ipywidgets) (3.6.1)\n",
            "Requirement already satisfied: jupyterlab-widgets>=1.0.0 in /usr/local/lib/python3.8/dist-packages (from ipywidgets) (3.0.3)\n",
            "Requirement already satisfied: traitlets>=4.3.1 in /usr/local/lib/python3.8/dist-packages (from ipywidgets) (5.1.1)\n",
            "Requirement already satisfied: ipython-genutils~=0.2.0 in /usr/local/lib/python3.8/dist-packages (from ipywidgets) (0.2.0)\n",
            "Requirement already satisfied: ipykernel>=4.5.1 in /usr/local/lib/python3.8/dist-packages (from ipywidgets) (5.3.4)\n",
            "Requirement already satisfied: ipython>=4.0.0 in /usr/local/lib/python3.8/dist-packages (from ipywidgets) (7.9.0)\n",
            "Requirement already satisfied: tornado>=4.2 in /usr/local/lib/python3.8/dist-packages (from ipykernel>=4.5.1->ipywidgets) (6.0.4)\n",
            "Requirement already satisfied: jupyter-client in /usr/local/lib/python3.8/dist-packages (from ipykernel>=4.5.1->ipywidgets) (6.1.12)\n",
            "Requirement already satisfied: setuptools>=18.5 in /usr/local/lib/python3.8/dist-packages (from ipython>=4.0.0->ipywidgets) (57.4.0)\n",
            "Requirement already satisfied: prompt-toolkit<2.1.0,>=2.0.0 in /usr/local/lib/python3.8/dist-packages (from ipython>=4.0.0->ipywidgets) (2.0.10)\n",
            "Requirement already satisfied: jedi>=0.10 in /usr/local/lib/python3.8/dist-packages (from ipython>=4.0.0->ipywidgets) (0.18.2)\n",
            "Requirement already satisfied: backcall in /usr/local/lib/python3.8/dist-packages (from ipython>=4.0.0->ipywidgets) (0.2.0)\n",
            "Requirement already satisfied: pygments in /usr/local/lib/python3.8/dist-packages (from ipython>=4.0.0->ipywidgets) (2.6.1)\n",
            "Requirement already satisfied: pickleshare in /usr/local/lib/python3.8/dist-packages (from ipython>=4.0.0->ipywidgets) (0.7.5)\n",
            "Requirement already satisfied: decorator in /usr/local/lib/python3.8/dist-packages (from ipython>=4.0.0->ipywidgets) (4.4.2)\n",
            "Requirement already satisfied: pexpect in /usr/local/lib/python3.8/dist-packages (from ipython>=4.0.0->ipywidgets) (4.8.0)\n",
            "Requirement already satisfied: parso<0.9.0,>=0.8.0 in /usr/local/lib/python3.8/dist-packages (from jedi>=0.10->ipython>=4.0.0->ipywidgets) (0.8.3)\n",
            "Requirement already satisfied: wcwidth in /usr/local/lib/python3.8/dist-packages (from prompt-toolkit<2.1.0,>=2.0.0->ipython>=4.0.0->ipywidgets) (0.2.5)\n",
            "Requirement already satisfied: six>=1.9.0 in /usr/local/lib/python3.8/dist-packages (from prompt-toolkit<2.1.0,>=2.0.0->ipython>=4.0.0->ipywidgets) (1.15.0)\n",
            "Requirement already satisfied: notebook>=4.4.1 in /usr/local/lib/python3.8/dist-packages (from widgetsnbextension~=3.6.0->ipywidgets) (5.7.16)\n",
            "Requirement already satisfied: pyzmq>=17 in /usr/local/lib/python3.8/dist-packages (from notebook>=4.4.1->widgetsnbextension~=3.6.0->ipywidgets) (23.2.1)\n",
            "Requirement already satisfied: nbconvert<6.0 in /usr/local/lib/python3.8/dist-packages (from notebook>=4.4.1->widgetsnbextension~=3.6.0->ipywidgets) (5.6.1)\n",
            "Requirement already satisfied: prometheus-client in /usr/local/lib/python3.8/dist-packages (from notebook>=4.4.1->widgetsnbextension~=3.6.0->ipywidgets) (0.15.0)\n",
            "Requirement already satisfied: jupyter-core>=4.4.0 in /usr/local/lib/python3.8/dist-packages (from notebook>=4.4.1->widgetsnbextension~=3.6.0->ipywidgets) (4.11.2)\n",
            "Requirement already satisfied: jinja2<=3.0.0 in /usr/local/lib/python3.8/dist-packages (from notebook>=4.4.1->widgetsnbextension~=3.6.0->ipywidgets) (2.11.3)\n",
            "Requirement already satisfied: nbformat in /usr/local/lib/python3.8/dist-packages (from notebook>=4.4.1->widgetsnbextension~=3.6.0->ipywidgets) (5.7.0)\n",
            "Requirement already satisfied: Send2Trash in /usr/local/lib/python3.8/dist-packages (from notebook>=4.4.1->widgetsnbextension~=3.6.0->ipywidgets) (1.8.0)\n",
            "Requirement already satisfied: terminado>=0.8.1 in /usr/local/lib/python3.8/dist-packages (from notebook>=4.4.1->widgetsnbextension~=3.6.0->ipywidgets) (0.13.3)\n",
            "Requirement already satisfied: MarkupSafe>=0.23 in /usr/local/lib/python3.8/dist-packages (from jinja2<=3.0.0->notebook>=4.4.1->widgetsnbextension~=3.6.0->ipywidgets) (2.0.1)\n",
            "Requirement already satisfied: python-dateutil>=2.1 in /usr/local/lib/python3.8/dist-packages (from jupyter-client->ipykernel>=4.5.1->ipywidgets) (2.8.2)\n",
            "Requirement already satisfied: pandocfilters>=1.4.1 in /usr/local/lib/python3.8/dist-packages (from nbconvert<6.0->notebook>=4.4.1->widgetsnbextension~=3.6.0->ipywidgets) (1.5.0)\n",
            "Requirement already satisfied: entrypoints>=0.2.2 in /usr/local/lib/python3.8/dist-packages (from nbconvert<6.0->notebook>=4.4.1->widgetsnbextension~=3.6.0->ipywidgets) (0.4)\n",
            "Requirement already satisfied: testpath in /usr/local/lib/python3.8/dist-packages (from nbconvert<6.0->notebook>=4.4.1->widgetsnbextension~=3.6.0->ipywidgets) (0.6.0)\n",
            "Requirement already satisfied: defusedxml in /usr/local/lib/python3.8/dist-packages (from nbconvert<6.0->notebook>=4.4.1->widgetsnbextension~=3.6.0->ipywidgets) (0.7.1)\n",
            "Requirement already satisfied: bleach in /usr/local/lib/python3.8/dist-packages (from nbconvert<6.0->notebook>=4.4.1->widgetsnbextension~=3.6.0->ipywidgets) (5.0.1)\n",
            "Requirement already satisfied: mistune<2,>=0.8.1 in /usr/local/lib/python3.8/dist-packages (from nbconvert<6.0->notebook>=4.4.1->widgetsnbextension~=3.6.0->ipywidgets) (0.8.4)\n",
            "Requirement already satisfied: fastjsonschema in /usr/local/lib/python3.8/dist-packages (from nbformat->notebook>=4.4.1->widgetsnbextension~=3.6.0->ipywidgets) (2.16.2)\n",
            "Requirement already satisfied: jsonschema>=2.6 in /usr/local/lib/python3.8/dist-packages (from nbformat->notebook>=4.4.1->widgetsnbextension~=3.6.0->ipywidgets) (4.3.3)\n",
            "Requirement already satisfied: pyrsistent!=0.17.0,!=0.17.1,!=0.17.2,>=0.14.0 in /usr/local/lib/python3.8/dist-packages (from jsonschema>=2.6->nbformat->notebook>=4.4.1->widgetsnbextension~=3.6.0->ipywidgets) (0.19.2)\n",
            "Requirement already satisfied: attrs>=17.4.0 in /usr/local/lib/python3.8/dist-packages (from jsonschema>=2.6->nbformat->notebook>=4.4.1->widgetsnbextension~=3.6.0->ipywidgets) (22.1.0)\n",
            "Requirement already satisfied: importlib-resources>=1.4.0 in /usr/local/lib/python3.8/dist-packages (from jsonschema>=2.6->nbformat->notebook>=4.4.1->widgetsnbextension~=3.6.0->ipywidgets) (5.10.0)\n",
            "Requirement already satisfied: zipp>=3.1.0 in /usr/local/lib/python3.8/dist-packages (from importlib-resources>=1.4.0->jsonschema>=2.6->nbformat->notebook>=4.4.1->widgetsnbextension~=3.6.0->ipywidgets) (3.10.0)\n",
            "Requirement already satisfied: ptyprocess in /usr/local/lib/python3.8/dist-packages (from terminado>=0.8.1->notebook>=4.4.1->widgetsnbextension~=3.6.0->ipywidgets) (0.7.0)\n",
            "Requirement already satisfied: webencodings in /usr/local/lib/python3.8/dist-packages (from bleach->nbconvert<6.0->notebook>=4.4.1->widgetsnbextension~=3.6.0->ipywidgets) (0.5.1)\n"
          ]
        }
      ]
    },
    {
      "cell_type": "code",
      "metadata": {
        "id": "YBqK345s2oYC",
        "outputId": "b5ad7a7a-65f9-4b0d-8020-d3b8f669f4f4",
        "colab": {
          "base_uri": "https://localhost:8080/",
          "height": 861
        }
      },
      "source": [
        "# plot your topics here -- using pyLDAvis\n",
        "# YOUR CODE HERE\n",
        "pyLDAvis.enable_notebook()\n",
        "vis = pyLDAvis.gensim_models.prepare(lda_trained_model, corpus, id2word)\n",
        "vis\n",
        "#raise NotImplementedError()"
      ],
      "execution_count": null,
      "outputs": [
        {
          "output_type": "execute_result",
          "data": {
            "text/plain": [
              "PreparedData(topic_coordinates=              x         y  topics  cluster       Freq\n",
              "topic                                                \n",
              "11    -0.047434 -0.175782       1        1  14.670347\n",
              "9     -0.110296 -0.097494       2        1  11.347737\n",
              "2     -0.069732 -0.103822       3        1   9.960351\n",
              "1      0.272174  0.146297       4        1   9.064643\n",
              "10     0.217141 -0.039941       5        1   8.575977\n",
              "5     -0.025837 -0.248382       6        1   8.447274\n",
              "4     -0.155590  0.221082       7        1   7.948168\n",
              "3      0.142030  0.182232       8        1   7.216546\n",
              "7      0.203414 -0.097826       9        1   6.956162\n",
              "0     -0.158436  0.147923      10        1   5.992252\n",
              "8     -0.109442 -0.034211      11        1   5.145882\n",
              "6     -0.157991  0.099923      12        1   4.674661, topic_info=        Term         Freq        Total Category  logprob  loglift\n",
              "215      use  3349.000000  3349.000000  Default  30.0000  30.0000\n",
              "571   tablet  6407.000000  6407.000000  Default  29.0000  29.0000\n",
              "67      easy  2524.000000  2524.000000  Default  28.0000  28.0000\n",
              "85       old  1993.000000  1993.000000  Default  27.0000  27.0000\n",
              "6       love  4384.000000  4384.000000  Default  26.0000  26.0000\n",
              "..       ...          ...          ...      ...      ...      ...\n",
              "862     Fire   129.716171  1362.103996  Topic12  -4.2045   0.7116\n",
              "96   product   106.920002  1198.439021  Topic12  -4.3978   0.6463\n",
              "2      great    99.897766  4667.241256  Topic12  -4.4657  -0.7812\n",
              "630     know    73.354500   328.755950  Topic12  -4.7745   1.5630\n",
              "204    enjoy    76.095807   710.880986  Topic12  -4.7378   0.8285\n",
              "\n",
              "[683 rows x 6 columns], token_table=      Topic      Freq    Term\n",
              "term                         \n",
              "130      12  0.990840   Alexa\n",
              "250       1  0.084096  Amazon\n",
              "250       2  0.060792  Amazon\n",
              "250       3  0.156033  Amazon\n",
              "250       7  0.285216  Amazon\n",
              "...     ...       ...     ...\n",
              "645       7  0.970729   world\n",
              "113       4  0.999184    year\n",
              "216       8  0.967602     yes\n",
              "1100      4  0.996904   young\n",
              "1232     10  0.995022      yr\n",
              "\n",
              "[966 rows x 3 columns], R=30, lambda_step=0.01, plot_opts={'xlab': 'PC1', 'ylab': 'PC2'}, topic_order=[12, 10, 3, 2, 11, 6, 5, 4, 8, 1, 9, 7])"
            ],
            "text/html": [
              "\n",
              "<link rel=\"stylesheet\" type=\"text/css\" href=\"https://cdn.jsdelivr.net/gh/bmabey/pyLDAvis@3.3.1/pyLDAvis/js/ldavis.v1.0.0.css\">\n",
              "\n",
              "\n",
              "<div id=\"ldavis_el2491399496603221607579544029\"></div>\n",
              "<script type=\"text/javascript\">\n",
              "\n",
              "var ldavis_el2491399496603221607579544029_data = {\"mdsDat\": {\"x\": [-0.047433718379671655, -0.1102964990833258, -0.06973241502341357, 0.27217394013762614, 0.21714078603551226, -0.025836895790170143, -0.1555898689751942, 0.1420296476908908, 0.20341415562851248, -0.15843559656374612, -0.10944243521770905, -0.15799110045931153], \"y\": [-0.175782370937383, -0.09749398999428494, -0.10382227584757138, 0.14629728858965407, -0.039940986622496934, -0.2483820484806075, 0.22108221082505955, 0.18223249294145574, -0.0978255615246629, 0.14792312757820406, -0.03421084989235338, 0.09992296336498631], \"topics\": [1, 2, 3, 4, 5, 6, 7, 8, 9, 10, 11, 12], \"cluster\": [1, 1, 1, 1, 1, 1, 1, 1, 1, 1, 1, 1], \"Freq\": [14.670346862741896, 11.347737149768188, 9.96035055460219, 9.064642548854971, 8.575977395985445, 8.447273654090317, 7.948167529961061, 7.2165463817884925, 6.956162161011852, 5.992252212378011, 5.1458823341233275, 4.67466121469425]}, \"tinfo\": {\"Term\": [\"use\", \"tablet\", \"easy\", \"old\", \"love\", \"read\", \"book\", \"year\", \"kid\", \"price\", \"buy\", \"game\", \"Amazon\", \"Kindle\", \"good\", \"app\", \"gift\", \"size\", \"great\", \"video\", \"screen\", \"play\", \"kindle\", \"fire\", \"Christmas\", \"Fire\", \"watch\", \"need\", \"set\", \"movie\", \"battery\", \"life\", \"hd\", \"beat\", \"low\", \"cost\", \"decent\", \"choice\", \"last\", \"power\", \"customer\", \"instal\", \"improvement\", \"damage\", \"disappoint\", \"site\", \"excited\", \"real\", \"pre\", \"buck\", \"market\", \"friday\", \"reasonable\", \"volume\", \"processing\", \"happen\", \"suppose\", \"okay\", \"advertisement\", \"gave\", \"quality\", \"price\", \"high\", \"resolution\", \"inch\", \"good\", \"sound\", \"fast\", \"money\", \"deal\", \"tablet\", \"overall\", \"iPad\", \"sale\", \"black\", \"great\", \"well\", \"nice\", \"amazon\", \"compare\", \"screen\", \"fire\", \"look\", \"feature\", \"long\", \"product\", \"work\", \"far\", \"get\", \"buy\", \"purchase\", \"like\", \"slow\", \"adult\", \"tech\", \"stuff\", \"YouTube\", \"hope\", \"Store\", \"protect\", \"protection\", \"unlimited\", \"safe\", \"alternative\", \"Ipad\", \"switch\", \"bumper\", \"starter\", \"pop\", \"SD\", \"complain\", \"early\", \"general\", \"OS\", \"guy\", \"interface\", \"rough\", \"Play\", \"explain\", \"throw\", \"Apps\", \"entertained\", \"kid\", \"app\", \"case\", \"free\", \"thing\", \"Google\", \"child\", \"lot\", \"memory\", \"plenty\", \"one\", \"parent\", \"learn\", \"tablet\", \"little\", \"ok\", \"time\", \"option\", \"store\", \"help\", \"come\", \"keep\", \"great\", \"like\", \"good\", \"play\", \"cheap\", \"add\", \"game\", \"get\", \"work\", \"perfect\", \"movie\", \"internet\", \"HD\", \"email\", \"surf\", \"fine\", \"listen\", \"inexpensive\", \"android\", \"stream\", \"Facebook\", \"sister\", \"capability\", \"entertain\", \"gaming\", \"activity\", \"road\", \"research\", \"facebook\", \"pass\", \"advertise\", \"netflix\", \"Grandson\", \"bill\", \"information\", \"cell\", \"spec\", \"addition\", \"net\", \"language\", \"check\", \"game\", \"music\", \"watch\", \"simple\", \"download\", \"show\", \"play\", \"program\", \"trip\", \"search\", \"computer\", \"etc\", \"reading\", \"use\", \"wifi\", \"tablet\", \"work\", \"great\", \"app\", \"want\", \"able\", \"Amazon\", \"Fire\", \"access\", \"need\", \"love\", \"enjoy\", \"buy\", \"old\", \"year\", \"young\", \"sd\", \"replace\", \"original\", \"grand\", \"gb\", \"playing\", \"electronic\", \"bring\", \"ago\", \"port\", \"micro\", \"boy\", \"grandchild\", \"mind\", \"cord\", \"slot\", \"stand\", \"future\", \"stick\", \"hdx\", \"stock\", \"twin\", \"twice\", \"tube\", \"piece\", \"format\", \"adapter\", \"fact\", \"warranty\", \"grandson\", \"fire\", \"kindle\", \"replacement\", \"card\", \"break\", \"new\", \"love\", \"buy\", \"model\", \"daughter\", \"son\", \"get\", \"well\", \"Kindle\", \"purchase\", \"upgrade\", \"Fire\", \"version\", \"go\", \"wife\", \"come\", \"like\", \"gift\", \"Christmas\", \"friendly\", \"present\", \"niece\", \"birthday\", \"nephew\", \"limited\", \"law\", \"Kids\", \"dad\", \"father\", \"functional\", \"college\", \"bulky\", \"investment\", \"totally\", \"wear\", \"proof\", \"fairly\", \"christmas\", \"intuitive\", \"ve\", \"Mother\", \"occupy\", \"guarantee\", \"interested\", \"eventually\", \"lol\", \"recipient\", \"user\", \"friend\", \"mom\", \"wife\", \"son\", \"daughter\", \"happy\", \"recommend\", \"love\", \"buy\", \"highly\", \"school\", \"definitely\", \"item\", \"purchase\", \"enjoy\", \"great\", \"product\", \"get\", \"perfect\", \"price\", \"work\", \"kid\", \"good\", \"kindle\", \"camera\", \"travel\", \"age\", \"size\", \"educational\", \"carry\", \"hand\", \"fit\", \"weight\", \"browse\", \"graphic\", \"purpose\", \"lightweight\", \"satisfied\", \"dollar\", \"install\", \"powerful\", \"protective\", \"design\", \"expandable\", \"car\", \"variety\", \"shop\", \"magazine\", \"busy\", \"purse\", \"selection\", \"area\", \"serve\", \"speedy\", \"picture\", \"large\", \"small\", \"light\", \"mother\", \"perfect\", \"nice\", \"screen\", \"clear\", \"hold\", \"easy\", \"storage\", \"use\", \"right\", \"tablet\", \"like\", \"great\", \"need\", \"good\", \"big\", \"ad\", \"content\", \"limit\", \"performance\", \"Samsung\", \"setting\", \"receive\", \"responsive\", \"close\", \"strong\", \"handy\", \"lag\", \"support\", \"subscription\", \"loading\", \"past\", \"type\", \"solid\", \"miss\", \"late\", \"operating\", \"mean\", \"offline\", \"Edition\", \"edition\", \"soon\", \"task\", \"pair\", \"holiday\", \"world\", \"display\", \"device\", \"Android\", \"mainly\", \"expect\", \"button\", \"point\", \"unit\", \"lack\", \"build\", \"Amazon\", \"access\", \"open\", \"allow\", \"app\", \"version\", \"Fire\", \"find\", \"think\", \"turn\", \"well\", \"time\", \"like\", \"work\", \"store\", \"read\", \"book\", \"reader\", \"library\", \"table\", \"experience\", \"setup\", \"bright\", \"night\", \"mail\", \"reliable\", \"blue\", \"Nook\", \"text\", \"ebooks\", \"best\", \"grow\", \"local\", \"smooth\", \"password\", \"yes\", \"tend\", \"numerous\", \"flexibility\", \"bargain\", \"ereader\", \"iphone\", \"nook\", \"avid\", \"aspect\", \"own\", \"Kindle\", \"Fire\", \"upgrade\", \"die\", \"kindle\", \"new\", \"enjoy\", \"wonderful\", \"pleased\", \"like\", \"love\", \"have\", \"thing\", \"want\", \"decide\", \"husband\", \"feature\", \"purchase\", \"reading\", \"learn\", \"far\", \"time\", \"way\", \"control\", \"parental\", \"granddaughter\", \"Netflix\", \"navigate\", \"Friday\", \"absolutely\", \"Black\", \"ease\", \"grandkid\", \"daily\", \"learning\", \"operate\", \"savvy\", \"finally\", \"multiple\", \"minute\", \"girl\", \"pink\", \"disappointed\", \"trouble\", \"toy\", \"expectation\", \"Hulu\", \"click\", \"geek\", \"Mom\", \"unlock\", \"purple\", \"exceed\", \"set\", \"easy\", \"use\", \"step\", \"love\", \"husband\", \"help\", \"purchase\", \"great\", \"buy\", \"child\", \"grandson\", \"time\", \"product\", \"get\", \"awesome\", \"download\", \"video\", \"yr\", \"not\", \"google\", \"star\", \"charger\", \"helpful\", \"ton\", \"annoying\", \"pad\", \"mode\", \"believe\", \"generation\", \"connection\", \"cable\", \"plug\", \"fix\", \"exchange\", \"house\", \"box\", \"explore\", \"App\", \"fan\", \"room\", \"key\", \"pro\", \"surprise\", \"constantly\", \"sit\", \"article\", \"charge\", \"huge\", \"reason\", \"con\", \"store\", \"tab\", \"problem\", \"ask\", \"take\", \"will\", \"allow\", \"wish\", \"watch\", \"play\", \"time\", \"work\", \"online\", \"long\", \"issue\", \"try\", \"Amazon\", \"like\", \"Buy\", \"Best\", \"thank\", \"toddler\", \"keyboard\", \"stop\", \"got\", \"budget\", \"brand\", \"meet\", \"exactly\", \"perform\", \"instruction\", \"clarity\", \"save\", \"special\", \"class\", \"idea\", \"main\", \"advertising\", \"forward\", \"guess\", \"capacity\", \"concerned\", \"gen\", \"win\", \"similar\", \"begin\", \"standard\", \"crack\", \"laptop\", \"basic\", \"people\", \"need\", \"say\", \"day\", \"touch\", \"web\", \"look\", \"couple\", \"phone\", \"find\", \"screen\", \"product\", \"iPad\", \"go\", \"want\", \"happy\", \"good\", \"purchase\", \"account\", \"member\", \"favorite\", \"tool\", \"Alexa\", \"Great\", \"everyday\", \"social\", \"fantastic\", \"link\", \"technology\", \"benefit\", \"tie\", \"Easy\", \"manage\", \"deliver\", \"office\", \"Bluetooth\", \"info\", \"response\", \"associate\", \"talk\", \"cause\", \"digital\", \"thoroughly\", \"true\", \"word\", \"dream\", \"unbelievable\", \"arrive\", \"value\", \"medium\", \"entertainment\", \"fun\", \"Tablet\", \"family\", \"Prime\", \"Amazon\", \"choose\", \"flight\", \"HD8\", \"order\", \"excellent\", \"tell\", \"amazing\", \"good\", \"device\", \"Fire\", \"product\", \"great\", \"know\", \"enjoy\"], \"Freq\": [3349.0, 6407.0, 2524.0, 1993.0, 4384.0, 1721.0, 1647.0, 1611.0, 1949.0, 2029.0, 2980.0, 1455.0, 1973.0, 1226.0, 2978.0, 1945.0, 903.0, 885.0, 4667.0, 715.0, 1503.0, 1286.0, 1204.0, 1008.0, 689.0, 1362.0, 831.0, 1091.0, 639.0, 624.0, 580.982712053279, 383.3787453636991, 266.4338027400107, 236.16081222316075, 228.90672176708838, 147.43256900875397, 129.33583078885715, 127.1557332732487, 98.76058756117858, 85.89114636013214, 63.96468864771418, 63.25505571301454, 62.33685024956999, 61.095694183491176, 56.06253196149423, 55.55648120493849, 53.07808643451218, 52.89924966535989, 52.40423037721285, 47.504515590466724, 47.38695664424771, 44.50059436314298, 41.73013392710349, 39.81789633707475, 38.18126450943643, 38.1073870035926, 36.590393434923705, 36.03922317894555, 36.03185193588224, 30.953392441159025, 450.86718025181807, 1813.9329655957538, 119.33295871624544, 184.45681819172964, 145.48677670762308, 1833.0136282601015, 130.88009668705098, 475.5264199834287, 243.6873021731076, 183.2515151916099, 3122.730910320098, 221.72478187619387, 348.46521131545694, 172.2009361527437, 122.99667603724777, 1738.0536307657985, 427.14927556029255, 398.79892872079324, 232.68978846544138, 108.9647879004032, 555.0800750421517, 380.22781513765926, 267.77576261842046, 282.4750244360203, 230.7963757984813, 343.84462918646875, 390.9257808283341, 213.07684713317312, 255.64240448006828, 323.4291429720517, 227.9677739685122, 215.6472713335759, 246.6370550546863, 146.6598410525507, 131.58963835935182, 114.6100846297317, 88.12835854216638, 83.68176450692694, 69.27452874089239, 68.27703838890383, 63.642418576419374, 63.17924929580102, 60.7959049487492, 57.200303617919076, 54.61253538281878, 48.75052753552715, 48.04387160156214, 46.746770723731586, 45.13973622065538, 43.71258982797742, 43.06683134054216, 42.48331593676158, 41.470164136629194, 37.95211128397876, 37.004866236461645, 36.4526884622219, 36.08091937332655, 35.86562479996409, 34.55636407716518, 31.82253773653923, 31.730391059987795, 30.648319556962242, 1757.8930364457804, 1139.337556241385, 340.5074829409871, 284.18029155160394, 424.2739243650968, 199.06750580640937, 378.0848220079614, 395.58890901774737, 195.15785045052405, 92.5933298552215, 92.34550671435179, 95.26052014719914, 232.87191410712646, 1764.7374379716225, 289.3016292943931, 94.0304310159733, 421.3065685947402, 130.2271955036117, 242.7384398165267, 142.09445770790305, 208.89533217075686, 137.36442534774278, 678.4585303653303, 392.88706611426056, 444.6213720863697, 250.76511615589996, 130.44587626966631, 131.17054606120158, 223.43858533026625, 193.7870489291393, 165.24901251564012, 146.04741900600607, 623.8025638797001, 429.6056470358711, 294.2342039531668, 263.827017379349, 202.1559801524055, 173.26238346264896, 136.40038659659564, 135.71520017098646, 120.59327645740532, 104.90932158634409, 103.89787931111582, 86.16776238004617, 74.95144267467651, 69.87619553928235, 59.05067073408933, 51.638684938430764, 50.85949185943135, 48.50457087781698, 46.32204571833374, 45.003818799161515, 42.80573219347785, 41.849543828885864, 39.12104899351333, 34.50609736690781, 33.30015425677395, 30.727138097933228, 28.251480122793218, 27.11978149150505, 26.789693474109722, 25.84317174195663, 178.26149589920882, 1230.6895857218487, 245.47702899021277, 640.1080627409956, 150.79072404886085, 493.67487123764596, 181.8965290334292, 812.6103406824777, 91.76779665763742, 99.70613436141296, 67.4324751693775, 126.37080605597953, 126.47798605551617, 183.07078455602309, 758.769426603793, 109.31431438744163, 1042.3021834989781, 418.7733286464088, 759.485477282808, 456.3959569329189, 272.44069598432327, 171.70949769394426, 307.9129996662302, 252.72914571239906, 161.79045083850022, 194.20336557610483, 245.15955824512454, 146.9866789526942, 146.01731724195582, 1992.3116123138911, 1610.3356255033716, 166.53871485024152, 162.0422611749795, 329.40678417724774, 116.43430459836466, 106.40171473317862, 101.90350355187346, 95.08430164434711, 84.25734258568308, 83.31530365453462, 72.44124500311591, 68.50544360162897, 68.07709073365594, 61.45735791601836, 55.48919300284799, 41.22062127320621, 37.912174992038366, 35.097481987873486, 34.87261536645931, 34.45478007371327, 31.237661338716435, 29.664014750305167, 26.291588187758332, 25.97552936383049, 25.615193548929316, 25.568119455704274, 24.487682808164326, 23.88471112269169, 22.784104347203368, 139.8269454130099, 154.33520487529583, 224.7169509441826, 627.0474626094466, 696.5224297121756, 118.82401067246951, 205.27717660086296, 163.81657336967055, 392.20316554792095, 1237.6013586846282, 919.4661512109259, 106.81961671700218, 238.531387819879, 231.78542056149013, 272.20554883109924, 226.32593203467127, 237.41394350881654, 263.1823872694038, 126.55089383720251, 201.6735046114864, 114.43092032137048, 121.73534297098047, 113.97521626560086, 114.011276523522, 122.23171289202536, 902.4664410130864, 688.3088505859008, 317.91772297242295, 166.80777527931258, 140.6709276819524, 139.97192977370332, 121.35483614269691, 112.02058705400262, 81.41978349489173, 74.27308178600843, 61.4298247465607, 47.0695100535466, 46.37521464062359, 42.054575296490356, 39.38386971892193, 38.79644008967995, 36.565260085517394, 35.617022501946785, 34.620531452129626, 34.137796367605965, 33.37067722872159, 31.02677280719827, 30.851147411511725, 30.629595672364296, 29.69012469807562, 29.65060072591505, 26.822042364237774, 26.491347824138163, 25.59161052286714, 21.740777184750534, 313.8074377128209, 128.55859133078502, 160.02451299215033, 338.7752160222644, 506.4579300846781, 466.5716542273823, 350.2299156395424, 448.75840893316627, 1653.445279791295, 1206.9666940380953, 131.64185458038654, 84.25056691256583, 135.9941903018558, 163.075456329124, 551.5373938505895, 244.16307366639694, 754.894877948319, 313.26799060889505, 287.315501612827, 168.48450621734884, 214.51656860235428, 186.08756073389586, 190.93453809474755, 161.54657748564952, 136.03831284679381, 336.1878930874596, 282.04860529862543, 275.36085462250094, 881.6663973793727, 195.2362681212078, 170.7511713212674, 170.68618548152443, 155.9363886254397, 145.1619148000234, 136.47931526827801, 120.49151184319214, 118.87886424779691, 117.86664837603959, 116.78174019794511, 92.15117835731093, 91.24356278071149, 85.15236134837524, 84.67914481664643, 74.94277006198497, 69.7095162483978, 67.09950271829723, 65.71466383227104, 61.70061836604018, 59.30555602964845, 58.76802267306599, 56.90944081736529, 51.65987473909915, 46.20248997012477, 40.5857224572668, 39.519210360719725, 357.3642689054903, 208.68511982722617, 326.8489424236206, 366.9316936377686, 129.61795705627844, 494.6355954398169, 438.31738099367766, 651.8771114723361, 163.22569701747494, 149.13305557367866, 610.1322201842577, 160.3136470276598, 497.6343029648068, 162.56725475687472, 477.1082827355992, 254.00943818752074, 275.97260476197164, 193.252532955552, 189.27013225916897, 137.04908198157818, 237.96582727277323, 216.1920706732989, 186.69268120768254, 154.90370930221079, 124.34921836465324, 122.02841615979344, 114.9440268098034, 96.93018112446306, 87.51457380843722, 83.71281409956504, 81.63843339375627, 76.65478749516708, 73.94906994169607, 69.44350335330691, 66.95793398849646, 63.80470332489476, 59.954497255255454, 59.237226938075715, 53.94284531100758, 51.81648899378224, 50.286672351148994, 50.184812536108105, 49.58650479637582, 48.858584810569624, 47.55908101124527, 47.05942717855651, 45.86495126430049, 45.20101184582377, 44.69915997106386, 44.36485118732098, 196.4780480454565, 587.2323595460043, 151.06149048404134, 73.55228035015897, 201.17325853911495, 78.92717773741425, 115.34646457830583, 105.51810004743409, 74.57045196345233, 105.78872408797601, 562.5211656652319, 190.99367509175883, 79.99457998939685, 112.32431840178971, 311.6530584625811, 114.54637038477344, 208.3098849264956, 136.04887001766346, 125.06530538531894, 93.8466617607269, 141.43596499049673, 153.60918291583943, 133.74689048293413, 108.1166191922892, 98.38284958623257, 1720.4690854824992, 1646.1368123669567, 315.1398598617331, 181.7494561686031, 130.0351174125169, 127.95798783790868, 109.64564961977676, 101.42542997250936, 75.07383562033267, 72.38236330807396, 67.20102644141005, 61.681873526901505, 57.749816409229325, 48.740361980311555, 47.622015463946106, 46.538776656188155, 43.74566657493969, 42.43848924546884, 40.66096668862747, 38.251264891701894, 36.23991581337435, 32.11617641582702, 31.692197974506414, 30.455214199964253, 28.212402850254254, 27.9426690851189, 27.742832172455373, 27.022526056312294, 25.18177620591124, 24.41490810473348, 90.91940210475539, 931.185382281769, 569.0710147820512, 174.9454129639105, 54.42447521447411, 369.30428630390094, 246.00229083933266, 242.93687348953344, 74.4753024388579, 98.214272375894, 266.3367406270172, 404.0007840452745, 105.04656165448091, 157.09742970670402, 175.5613297861743, 78.69281855187971, 79.46788032564281, 127.95526442167296, 133.47178136909096, 85.31747857433048, 87.3470483066938, 80.78849359163439, 83.77377004624027, 77.91532694115402, 400.49748950554385, 328.5985736085707, 275.28505343851253, 250.68391915857342, 220.14389822735933, 215.64776092559276, 207.91958089025337, 167.78542730952978, 121.32865741580483, 119.48206830179333, 106.62104343521649, 105.64477621826177, 84.84490293728724, 66.41587831193341, 59.04306305982304, 52.62812090371444, 52.37865327247255, 44.92834187280554, 44.24707601531095, 43.9077752303479, 43.26382144078965, 39.90014784886214, 39.46276515544616, 39.09210103953581, 37.309409669751254, 32.32372984811518, 31.309078827207877, 29.770261590018634, 28.926742124851266, 28.789984394486275, 560.735799956591, 1912.9827989585003, 2087.0492977579297, 50.63510736173077, 834.2518387015039, 98.55165396144693, 99.4365105256004, 236.50750089875558, 316.518181989062, 245.89557122568112, 128.86997004103094, 86.85065689168874, 117.36802686282917, 88.91853540909929, 81.69734671933209, 58.52112761991199, 60.50792148040813, 714.4092647082077, 258.3346164953986, 208.12267724806043, 197.4424001250151, 158.7146710974268, 115.79961244899926, 101.91119621690083, 99.21861162276663, 96.65211485818655, 93.59062351930264, 83.99743510295146, 82.85083460044062, 78.37719587720666, 78.16598449937439, 67.37862867451317, 65.37115067872543, 65.29314842168452, 62.17828629850971, 60.16374925146639, 58.03027678609706, 52.234126625463034, 48.60405230726856, 43.82123647503745, 42.76410075952698, 41.94919267938616, 41.91916188822539, 41.84328097722676, 41.16752334279521, 39.079665003999864, 37.438653427013456, 418.410600472138, 88.51866666551032, 92.15352308896391, 49.56172334538869, 223.82845945190397, 66.47313548770173, 158.09617165280858, 80.88477731246115, 162.30495332066695, 86.12280599737205, 107.60227491512815, 97.24142375139667, 190.0463608619574, 222.5704649421807, 202.6481106994385, 183.3345672108329, 91.25923828552007, 115.00934102827357, 100.82872882884645, 97.27510595481601, 104.80334293896279, 99.77916564444043, 259.8139476727901, 226.96357819800684, 180.7026341610214, 125.32891935395405, 120.45026794544232, 114.55288835211188, 113.7681507865766, 88.72403690400176, 85.16660804430184, 83.73331194383948, 83.1149609769632, 81.50711840395967, 69.03165113560223, 62.67889980313755, 53.023386067898905, 48.93663883904714, 48.11316414296959, 47.47134463052274, 46.641331345548316, 46.364162878331484, 43.41598530082372, 42.6098904234625, 41.63204623556775, 39.92546117124632, 37.61251997649224, 36.47926849622649, 31.546513382448914, 31.444519413001107, 30.909626763192303, 30.553881650182497, 105.14571182664494, 153.1622937069172, 78.93062040933809, 451.05498768739216, 126.11292645043001, 177.41427625177093, 81.31645707131706, 169.0853255068205, 209.00243082468089, 69.51386315858699, 113.16852477046491, 147.38748147684564, 237.2868163728205, 203.36573960393622, 130.34910359678926, 96.7032978571994, 117.55049285127397, 98.95538741604815, 134.2308518106694, 88.39431029715071, 279.96963453212123, 205.76422450058683, 172.45923421867693, 148.4745559407483, 126.21463072041153, 104.9759685477077, 97.0691185898025, 83.2391371736387, 73.49065537686617, 67.47866917801318, 62.462972827387425, 62.21984019953793, 46.02084411713565, 44.13044332615611, 41.84013550937309, 40.72979922588206, 40.38541022811571, 40.289304681731494, 36.90686042768665, 36.69137149691095, 32.8700451128379, 32.25686040925211, 32.16447939787323, 31.353588850256383, 31.15656074616383, 30.879949788456507, 28.856461104597642, 28.77339851159712, 28.556865659005698, 28.34047442371486, 342.55613001528576, 115.53382154077224, 108.36454685397207, 138.9560768249569, 202.75437941058448, 141.0124085839253, 191.83125089102188, 657.6601266561623, 88.658993115294, 45.93569974981656, 88.87487452830274, 74.4107713022141, 102.09547265384927, 73.15747437688881, 82.60283041107628, 215.57985717508726, 133.56199523200772, 129.7161710780381, 106.9200018335223, 99.89776636681319, 73.35450045787707, 76.09580677630534], \"Total\": [3349.0, 6407.0, 2524.0, 1993.0, 4384.0, 1721.0, 1647.0, 1611.0, 1949.0, 2029.0, 2980.0, 1455.0, 1973.0, 1226.0, 2978.0, 1945.0, 903.0, 885.0, 4667.0, 715.0, 1503.0, 1286.0, 1204.0, 1008.0, 689.0, 1362.0, 831.0, 1091.0, 639.0, 624.0, 581.9661377885861, 384.3621744333503, 267.41724868051676, 237.1442427226006, 229.8901579825202, 148.41600296247577, 130.31925841041576, 128.1391630594183, 99.74400743071996, 86.87460477222638, 64.94816664956251, 64.2384895260844, 63.320280273295076, 62.07915218487214, 57.0459658959446, 56.53994185254003, 54.06153580170194, 53.88270205502296, 53.387714173533986, 48.48794416794704, 48.370383555808516, 45.48403247028864, 42.713553400264146, 40.8014558406164, 39.1647207254064, 39.09083322517616, 37.5738964855948, 37.02268326437719, 37.01531937674926, 31.93683694655615, 469.7249175275611, 2029.523646810969, 126.72726739521399, 210.41565561751312, 167.27017517476156, 2978.793137723339, 155.453872566731, 686.4753054005463, 318.9476384629296, 231.3688318114535, 6407.614370551993, 298.0206709532077, 574.6535438169873, 238.69451812252098, 156.11094915656514, 4667.241255568705, 795.7187885130027, 838.0092371750557, 407.92835170098994, 140.34180613980007, 1503.7634480592387, 1008.1799420759069, 588.1066770509763, 690.414023477028, 501.8565846343532, 1198.4390208277098, 1576.0877402577023, 520.327463456225, 1097.6158786309547, 2980.942773546032, 1616.6740643002126, 1739.075906499291, 247.61524381406159, 147.63801274898842, 132.56785570948523, 115.58827529325323, 89.10657450227968, 84.65998155992827, 70.2527410752671, 69.25520757579936, 64.62060184405966, 64.15744902950826, 61.774073456038174, 58.17849872123116, 55.590735857703024, 49.72873173038371, 49.02204368418808, 47.72494022691839, 46.11796787273939, 44.690780652245394, 44.04504809668501, 43.46156503128157, 42.448419154942826, 38.930347144705124, 37.98306236475357, 37.43089918806738, 37.05909765695799, 36.843800977403774, 35.534595259840245, 32.80070938672573, 32.70860012494685, 31.626516528503803, 1949.7242067491902, 1945.2821832019276, 485.9436381453, 410.47986165075935, 682.1370168646808, 287.1770231873796, 641.8991980568507, 702.7196460539903, 297.4507593977944, 117.32172923690895, 117.46267197425102, 124.46200862693347, 408.4714751942665, 6407.614370551993, 565.539394734352, 125.32494273371915, 1114.6423725555294, 211.01312982512172, 565.7283589065978, 242.42724481280848, 475.45623955524303, 247.82539548172952, 4667.241255568705, 1739.075906499291, 2978.793137723339, 1286.7446874561513, 276.39525186748256, 285.2689251705969, 1455.0296157196378, 1097.6158786309547, 1576.0877402577023, 866.3718837677508, 624.7846494554934, 430.5877372721732, 295.21633783846556, 264.8091145806104, 203.1380867292375, 174.2444926734303, 137.38247609323466, 136.69732256705524, 121.57539074316216, 105.89141960392097, 104.8799910462802, 87.14985361178306, 75.93354044347475, 70.85827963423309, 60.03277546068715, 52.620777772006164, 51.841578690842404, 49.48674245224533, 47.30413584613739, 45.98597177349216, 43.78784145870266, 42.83163700606261, 40.10312660668348, 35.488216432298564, 34.28227719254165, 31.7092255704008, 29.233645095396298, 28.10186482009534, 27.77178370673921, 26.825260015297882, 191.50075229358131, 1455.0296157196378, 280.065984842181, 831.0338374910621, 181.4606307310528, 680.6059832757618, 231.27287352455946, 1286.7446874561513, 112.89106445442106, 131.239959153484, 80.19438244168889, 192.86935827380032, 193.29996262516445, 351.89220470114594, 3349.246893883897, 169.63583924082607, 6407.614370551993, 1576.0877402577023, 4667.241255568705, 1945.2821832019276, 998.7541768219587, 399.28705567542966, 1973.9406973535606, 1362.1039959699865, 414.3757549751173, 1091.9055693085486, 4384.511898463209, 710.8809856533013, 2980.942773546032, 1993.2915033830836, 1611.3155146745519, 167.51861307287157, 163.02217773257772, 331.80932579362667, 117.41419971243079, 107.38159947818419, 102.88340653291706, 96.06422860803958, 85.23726423792635, 84.29521759533893, 73.42114515195189, 69.4853337668419, 69.05698787271008, 62.43725497375755, 56.46907714650382, 42.20056315638483, 38.89207655314272, 36.077390348037696, 35.85259926821683, 35.43475580007487, 32.21757318215836, 30.643948297751503, 27.271505973968775, 26.95542909387836, 26.595120364445542, 26.548034724239415, 25.467567507929108, 24.86465320768628, 23.764085010003914, 155.69365195833836, 193.05783969644813, 312.46557817380193, 1008.1799420759069, 1204.0330595103362, 156.6923932266297, 312.19813281273827, 238.88360995418435, 718.7068229639182, 4384.511898463209, 2980.942773546032, 190.2121188647548, 706.0014008049023, 739.141703831652, 1097.6158786309547, 795.7187885130027, 1226.184571052908, 1616.6740643002126, 302.3828081679173, 1362.1039959699865, 267.428052613861, 444.3816664774562, 453.6488161015147, 475.45623955524303, 1739.075906499291, 903.4437130750379, 689.286243631194, 318.89500160128915, 167.78505190178143, 141.64819480796737, 140.9492052664018, 122.33210558566329, 112.99793483087943, 82.39706254163535, 75.25037236429107, 62.4071052294549, 48.04678964274709, 47.35252123907926, 43.03188978117156, 40.36121627558761, 39.77372441626481, 37.54255982106016, 36.594321154953946, 35.59783136363264, 35.11524418258799, 34.347948917049074, 32.0040879089774, 31.828545182893905, 31.606885103696296, 30.6673962147292, 30.62794777357319, 27.799331057301746, 27.468690352037555, 26.56889064397173, 22.71804949473247, 355.9263112732443, 150.1936933151419, 193.95611693959646, 453.6488161015147, 739.141703831652, 706.0014008049023, 559.941257834151, 758.1384719158017, 4384.511898463209, 2980.942773546032, 195.13269750641882, 112.38099328661325, 212.94505885615695, 281.94732640057583, 1616.6740643002126, 710.8809856533013, 4667.241255568705, 1198.4390208277098, 1097.6158786309547, 866.3718837677508, 2029.523646810969, 1576.0877402577023, 1949.7242067491902, 2978.793137723339, 1204.0330595103362, 337.15621498129565, 283.0169356174588, 276.3291765381988, 885.030931299564, 196.20459803720757, 171.71948368977635, 171.6545079549318, 156.90470466588332, 146.13023026349305, 137.4476590067131, 121.4598382169939, 119.84718306274368, 118.83497433801745, 117.75006952352913, 93.11952675917023, 92.21190367975464, 86.12074378905601, 85.64745732361031, 75.91108520434057, 70.67783026560815, 68.06782195213584, 66.68303357220697, 62.66893747012109, 60.27389544081916, 59.736343374535195, 57.87774853360493, 52.628191887770555, 47.1708121959012, 41.55403436599723, 40.48764471937228, 403.75498672833345, 230.76310254374792, 377.0902473230699, 432.0755803285379, 159.54220701512912, 866.3718837677508, 838.0092371750557, 1503.7634480592387, 246.3840459658824, 240.5421997571013, 2524.0014254729836, 311.3461438321714, 3349.246893883897, 339.850315162897, 6407.614370551993, 1739.075906499291, 4667.241255568705, 1091.9055693085486, 2978.793137723339, 457.69604291477674, 238.9277680251448, 217.15422049991093, 187.6546033612123, 155.86563729295568, 125.31115401324165, 122.99034144348468, 115.90595148518922, 97.8921233436163, 88.47650327107687, 84.67476545979702, 82.60036060313915, 77.61672822292962, 74.91099328089959, 70.4054238836335, 67.91989227831057, 64.76667341127845, 60.91643804637423, 60.19914793812302, 54.90477542194177, 52.77842752511188, 51.24859023892695, 51.14674181695696, 50.548487281149704, 49.82050579630864, 48.52100793358974, 48.021348924057605, 46.82691704779028, 46.16295568484765, 45.6611050040528, 45.32677458173348, 237.17819935611155, 874.1708349524903, 188.74096168439212, 83.4426963851866, 290.64252140691605, 92.71892738657294, 165.4916345292618, 146.77799479986845, 90.71764664425183, 152.01703505381727, 1973.9406973535606, 414.3757549751173, 103.15813411387047, 220.78584061504748, 1945.2821832019276, 267.428052613861, 1362.1039959699865, 477.93712453811264, 379.842414139317, 171.35019578134865, 795.7187885130027, 1114.6423725555294, 1739.075906499291, 1576.0877402577023, 565.7283589065978, 1721.434503011287, 1647.1022302143838, 316.1052709830446, 182.71487612780743, 131.00055196470228, 128.9234303004235, 110.61107257304653, 102.39086049482376, 76.03925359517267, 73.34779006695041, 68.16645003958133, 62.64729353889364, 58.715226353735595, 49.70577598133412, 48.58742911303139, 47.504198853404155, 44.71108704154743, 43.403906568674245, 41.6263827471307, 39.2167003906959, 37.20537048219748, 33.08163595079174, 32.65761509305759, 31.42110860927355, 29.177849413401386, 28.908081909535834, 28.708269177042123, 27.98794826226569, 26.14719058252627, 25.38033399198568, 102.40573317501102, 1226.184571052908, 1362.1039959699865, 302.3828081679173, 68.876334085461, 1204.0330595103362, 718.7068229639182, 710.8809856533013, 120.6871816416299, 196.24074324713564, 1739.075906499291, 4384.511898463209, 286.9431111657725, 682.1370168646808, 998.7541768219587, 172.97950855650154, 178.90306175611158, 690.414023477028, 1616.6740643002126, 351.89220470114594, 408.4714751942665, 520.327463456225, 1114.6423725555294, 375.23029759455466, 401.4743949345283, 329.57547436829384, 276.26195465473626, 251.66086826865978, 221.12080418147468, 216.624693368135, 208.89649641187594, 168.76235819893546, 122.30556896754796, 120.45896808096484, 107.59796176263728, 106.62167915177608, 85.82181134724495, 67.39282752294702, 60.02002955865314, 53.60504316059561, 53.3555825491043, 45.905245302040925, 45.2239817631724, 44.88474696751046, 44.2407536608852, 40.87706628075833, 40.439692555408, 40.06905997630908, 38.28634848681884, 33.30063941326377, 32.285998369690816, 30.74727282601756, 29.903790041113567, 29.766907948230642, 639.0523821088545, 2524.0014254729836, 3349.246893883897, 63.0150744088192, 4384.511898463209, 178.90306175611158, 242.42724481280848, 1616.6740643002126, 4667.241255568705, 2980.942773546032, 641.8991980568507, 312.46557817380193, 1114.6423725555294, 1198.4390208277098, 1097.6158786309547, 296.83692157210737, 680.6059832757618, 715.3654105096643, 259.29075559932954, 209.0788146276972, 198.39854434689164, 159.67080937918246, 116.75574390732143, 102.86734579738793, 100.17474818513237, 97.60827638454705, 94.54677442052221, 84.95357334066404, 83.80698192966462, 79.33334426410467, 79.12212294650854, 68.33476154161063, 66.32728531912365, 66.24929291920746, 63.13445213683249, 61.11989191806904, 58.98641934771258, 53.190280733706835, 49.56020897077912, 44.777379898587476, 43.737745885192545, 42.9053589703862, 42.87529502348959, 42.79944114663978, 42.12367705573268, 40.035803261810884, 38.394844367172674, 548.4914668821149, 107.39846206983538, 116.85478173147811, 53.30959368382193, 565.7283589065978, 88.97578910339536, 365.7695084104189, 124.07419024514428, 411.8352082262009, 144.54803131745354, 220.78584061504748, 197.71429998833307, 831.0338374910621, 1286.7446874561513, 1114.6423725555294, 1576.0877402577023, 215.05051999306102, 501.8565846343532, 321.44378931463837, 300.7469378492346, 1973.9406973535606, 1739.075906499291, 260.78118776060586, 227.93081895735855, 181.66987365878344, 126.29616259625944, 121.4175291235151, 115.52014096769827, 114.73539853511102, 89.69130182494573, 86.13386793471207, 84.70055036315378, 84.0821972784075, 82.47438423375911, 69.9988971066008, 63.64614993214197, 53.990646469510715, 49.903876452560546, 49.0804117934281, 48.438595770873235, 47.60858336730895, 47.33140732952622, 44.3832445967109, 43.57714577439771, 42.59936328888357, 40.89281505756415, 38.579876181182804, 37.44650564684592, 32.513765866678945, 32.411772743125454, 31.876879775033768, 31.52112401744593, 120.06960499154494, 224.93640005495172, 107.23497570830027, 1091.9055693085486, 203.97433074801341, 352.0960534309533, 118.19566736990143, 364.5246669365452, 588.1066770509763, 104.02516733319642, 278.58701342285747, 477.93712453811264, 1503.7634480592387, 1198.4390208277098, 574.6535438169873, 444.3816664774562, 998.7541768219587, 559.941257834151, 2978.793137723339, 1616.6740643002126, 280.91985753925616, 206.71444593125935, 173.40945724147267, 149.42477306992362, 127.16485302997651, 105.92619970961006, 98.01934121823545, 84.18935720359725, 74.44087955202076, 68.42891310786565, 63.413198101753856, 63.17007174701222, 46.971085808285444, 45.08067491185578, 42.790365790472926, 41.68002668668509, 41.33565696066317, 41.23954975079173, 37.857117248858884, 37.64160191501486, 33.82026640111971, 33.20709421248629, 33.11472250091596, 32.30381325521155, 32.10678043040247, 31.830184513577777, 29.80668037548488, 29.723629068042978, 29.507112384512737, 29.290713332322024, 384.564363467572, 129.93766686639003, 128.88350234885084, 181.71197617037473, 283.14771520432214, 197.89454574901123, 286.78258273766437, 1973.9406973535606, 134.7798789084374, 55.507607765353896, 156.60146183549045, 128.62674219530606, 327.9463069612606, 158.65594218817557, 209.36404997812053, 2978.793137723339, 874.1708349524903, 1362.1039959699865, 1198.4390208277098, 4667.241255568705, 328.7559498499425, 710.8809856533013], \"Category\": [\"Default\", \"Default\", \"Default\", \"Default\", \"Default\", \"Default\", \"Default\", \"Default\", \"Default\", \"Default\", \"Default\", \"Default\", \"Default\", \"Default\", \"Default\", \"Default\", \"Default\", \"Default\", \"Default\", \"Default\", \"Default\", \"Default\", \"Default\", \"Default\", \"Default\", \"Default\", \"Default\", \"Default\", \"Default\", \"Default\", \"Topic1\", \"Topic1\", \"Topic1\", \"Topic1\", \"Topic1\", \"Topic1\", \"Topic1\", \"Topic1\", \"Topic1\", \"Topic1\", \"Topic1\", \"Topic1\", \"Topic1\", \"Topic1\", \"Topic1\", \"Topic1\", \"Topic1\", \"Topic1\", \"Topic1\", \"Topic1\", \"Topic1\", \"Topic1\", \"Topic1\", \"Topic1\", \"Topic1\", \"Topic1\", \"Topic1\", \"Topic1\", \"Topic1\", \"Topic1\", \"Topic1\", \"Topic1\", \"Topic1\", \"Topic1\", \"Topic1\", \"Topic1\", \"Topic1\", \"Topic1\", \"Topic1\", \"Topic1\", \"Topic1\", \"Topic1\", \"Topic1\", \"Topic1\", \"Topic1\", \"Topic1\", \"Topic1\", \"Topic1\", \"Topic1\", \"Topic1\", \"Topic1\", \"Topic1\", \"Topic1\", \"Topic1\", \"Topic1\", \"Topic1\", \"Topic1\", \"Topic1\", \"Topic1\", \"Topic1\", \"Topic1\", \"Topic1\", \"Topic2\", \"Topic2\", \"Topic2\", \"Topic2\", \"Topic2\", \"Topic2\", \"Topic2\", \"Topic2\", \"Topic2\", \"Topic2\", \"Topic2\", \"Topic2\", \"Topic2\", \"Topic2\", \"Topic2\", \"Topic2\", \"Topic2\", \"Topic2\", \"Topic2\", \"Topic2\", \"Topic2\", \"Topic2\", \"Topic2\", \"Topic2\", \"Topic2\", \"Topic2\", \"Topic2\", \"Topic2\", \"Topic2\", \"Topic2\", \"Topic2\", \"Topic2\", \"Topic2\", \"Topic2\", \"Topic2\", \"Topic2\", \"Topic2\", \"Topic2\", \"Topic2\", \"Topic2\", \"Topic2\", \"Topic2\", \"Topic2\", \"Topic2\", \"Topic2\", \"Topic2\", \"Topic2\", \"Topic2\", \"Topic2\", \"Topic2\", \"Topic2\", \"Topic2\", \"Topic2\", \"Topic2\", \"Topic2\", \"Topic2\", \"Topic2\", \"Topic2\", \"Topic2\", \"Topic2\", \"Topic2\", \"Topic2\", \"Topic3\", \"Topic3\", \"Topic3\", \"Topic3\", \"Topic3\", \"Topic3\", \"Topic3\", \"Topic3\", \"Topic3\", \"Topic3\", \"Topic3\", \"Topic3\", \"Topic3\", \"Topic3\", \"Topic3\", \"Topic3\", \"Topic3\", \"Topic3\", \"Topic3\", \"Topic3\", \"Topic3\", \"Topic3\", \"Topic3\", \"Topic3\", \"Topic3\", \"Topic3\", \"Topic3\", \"Topic3\", \"Topic3\", \"Topic3\", \"Topic3\", \"Topic3\", \"Topic3\", \"Topic3\", \"Topic3\", \"Topic3\", \"Topic3\", \"Topic3\", \"Topic3\", \"Topic3\", \"Topic3\", \"Topic3\", \"Topic3\", \"Topic3\", \"Topic3\", \"Topic3\", \"Topic3\", \"Topic3\", \"Topic3\", \"Topic3\", \"Topic3\", \"Topic3\", \"Topic3\", \"Topic3\", \"Topic3\", \"Topic3\", \"Topic3\", \"Topic3\", \"Topic3\", \"Topic4\", \"Topic4\", \"Topic4\", \"Topic4\", \"Topic4\", \"Topic4\", \"Topic4\", \"Topic4\", \"Topic4\", \"Topic4\", \"Topic4\", \"Topic4\", \"Topic4\", \"Topic4\", \"Topic4\", \"Topic4\", \"Topic4\", \"Topic4\", \"Topic4\", \"Topic4\", \"Topic4\", \"Topic4\", \"Topic4\", \"Topic4\", \"Topic4\", \"Topic4\", \"Topic4\", \"Topic4\", \"Topic4\", \"Topic4\", \"Topic4\", \"Topic4\", \"Topic4\", \"Topic4\", \"Topic4\", \"Topic4\", \"Topic4\", \"Topic4\", \"Topic4\", \"Topic4\", \"Topic4\", \"Topic4\", \"Topic4\", \"Topic4\", \"Topic4\", \"Topic4\", \"Topic4\", \"Topic4\", \"Topic4\", \"Topic4\", \"Topic4\", \"Topic4\", \"Topic4\", \"Topic4\", \"Topic4\", \"Topic5\", \"Topic5\", \"Topic5\", \"Topic5\", \"Topic5\", \"Topic5\", \"Topic5\", \"Topic5\", \"Topic5\", \"Topic5\", \"Topic5\", \"Topic5\", \"Topic5\", \"Topic5\", \"Topic5\", \"Topic5\", \"Topic5\", \"Topic5\", \"Topic5\", \"Topic5\", \"Topic5\", \"Topic5\", \"Topic5\", \"Topic5\", \"Topic5\", \"Topic5\", \"Topic5\", \"Topic5\", \"Topic5\", \"Topic5\", \"Topic5\", \"Topic5\", \"Topic5\", \"Topic5\", \"Topic5\", \"Topic5\", \"Topic5\", \"Topic5\", \"Topic5\", \"Topic5\", \"Topic5\", \"Topic5\", \"Topic5\", \"Topic5\", \"Topic5\", \"Topic5\", \"Topic5\", \"Topic5\", \"Topic5\", \"Topic5\", \"Topic5\", \"Topic5\", \"Topic5\", \"Topic5\", \"Topic5\", \"Topic6\", \"Topic6\", \"Topic6\", \"Topic6\", \"Topic6\", \"Topic6\", \"Topic6\", \"Topic6\", \"Topic6\", \"Topic6\", \"Topic6\", \"Topic6\", \"Topic6\", \"Topic6\", \"Topic6\", \"Topic6\", \"Topic6\", \"Topic6\", \"Topic6\", \"Topic6\", \"Topic6\", \"Topic6\", \"Topic6\", \"Topic6\", \"Topic6\", \"Topic6\", \"Topic6\", \"Topic6\", \"Topic6\", \"Topic6\", \"Topic6\", \"Topic6\", \"Topic6\", \"Topic6\", \"Topic6\", \"Topic6\", \"Topic6\", \"Topic6\", \"Topic6\", \"Topic6\", \"Topic6\", \"Topic6\", \"Topic6\", \"Topic6\", \"Topic6\", \"Topic6\", \"Topic6\", \"Topic6\", \"Topic6\", \"Topic6\", \"Topic7\", \"Topic7\", \"Topic7\", \"Topic7\", \"Topic7\", \"Topic7\", \"Topic7\", \"Topic7\", \"Topic7\", \"Topic7\", \"Topic7\", \"Topic7\", \"Topic7\", \"Topic7\", \"Topic7\", \"Topic7\", \"Topic7\", \"Topic7\", \"Topic7\", \"Topic7\", \"Topic7\", \"Topic7\", \"Topic7\", \"Topic7\", \"Topic7\", \"Topic7\", \"Topic7\", \"Topic7\", \"Topic7\", \"Topic7\", \"Topic7\", \"Topic7\", \"Topic7\", \"Topic7\", \"Topic7\", \"Topic7\", \"Topic7\", \"Topic7\", \"Topic7\", \"Topic7\", \"Topic7\", \"Topic7\", \"Topic7\", \"Topic7\", \"Topic7\", \"Topic7\", \"Topic7\", \"Topic7\", \"Topic7\", \"Topic7\", \"Topic7\", \"Topic7\", \"Topic7\", \"Topic7\", \"Topic7\", \"Topic8\", \"Topic8\", \"Topic8\", \"Topic8\", \"Topic8\", \"Topic8\", \"Topic8\", \"Topic8\", \"Topic8\", \"Topic8\", \"Topic8\", \"Topic8\", \"Topic8\", \"Topic8\", \"Topic8\", \"Topic8\", \"Topic8\", \"Topic8\", \"Topic8\", \"Topic8\", \"Topic8\", \"Topic8\", \"Topic8\", \"Topic8\", \"Topic8\", \"Topic8\", \"Topic8\", \"Topic8\", \"Topic8\", \"Topic8\", \"Topic8\", \"Topic8\", \"Topic8\", \"Topic8\", \"Topic8\", \"Topic8\", \"Topic8\", \"Topic8\", \"Topic8\", \"Topic8\", \"Topic8\", \"Topic8\", \"Topic8\", \"Topic8\", \"Topic8\", \"Topic8\", \"Topic8\", \"Topic8\", \"Topic8\", \"Topic8\", \"Topic8\", \"Topic8\", \"Topic8\", \"Topic8\", \"Topic9\", \"Topic9\", \"Topic9\", \"Topic9\", \"Topic9\", \"Topic9\", \"Topic9\", \"Topic9\", \"Topic9\", \"Topic9\", \"Topic9\", \"Topic9\", \"Topic9\", \"Topic9\", \"Topic9\", \"Topic9\", \"Topic9\", \"Topic9\", \"Topic9\", \"Topic9\", \"Topic9\", \"Topic9\", \"Topic9\", \"Topic9\", \"Topic9\", \"Topic9\", \"Topic9\", \"Topic9\", \"Topic9\", \"Topic9\", \"Topic9\", \"Topic9\", \"Topic9\", \"Topic9\", \"Topic9\", \"Topic9\", \"Topic9\", \"Topic9\", \"Topic9\", \"Topic9\", \"Topic9\", \"Topic9\", \"Topic9\", \"Topic9\", \"Topic9\", \"Topic9\", \"Topic9\", \"Topic10\", \"Topic10\", \"Topic10\", \"Topic10\", \"Topic10\", \"Topic10\", \"Topic10\", \"Topic10\", \"Topic10\", \"Topic10\", \"Topic10\", \"Topic10\", \"Topic10\", \"Topic10\", \"Topic10\", \"Topic10\", \"Topic10\", \"Topic10\", \"Topic10\", \"Topic10\", \"Topic10\", \"Topic10\", \"Topic10\", \"Topic10\", \"Topic10\", \"Topic10\", \"Topic10\", \"Topic10\", \"Topic10\", \"Topic10\", \"Topic10\", \"Topic10\", \"Topic10\", \"Topic10\", \"Topic10\", \"Topic10\", \"Topic10\", \"Topic10\", \"Topic10\", \"Topic10\", \"Topic10\", \"Topic10\", \"Topic10\", \"Topic10\", \"Topic10\", \"Topic10\", \"Topic10\", \"Topic10\", \"Topic10\", \"Topic10\", \"Topic10\", \"Topic10\", \"Topic11\", \"Topic11\", \"Topic11\", \"Topic11\", \"Topic11\", \"Topic11\", \"Topic11\", \"Topic11\", \"Topic11\", \"Topic11\", \"Topic11\", \"Topic11\", \"Topic11\", \"Topic11\", \"Topic11\", \"Topic11\", \"Topic11\", \"Topic11\", \"Topic11\", \"Topic11\", \"Topic11\", \"Topic11\", \"Topic11\", \"Topic11\", \"Topic11\", \"Topic11\", \"Topic11\", \"Topic11\", \"Topic11\", \"Topic11\", \"Topic11\", \"Topic11\", \"Topic11\", \"Topic11\", \"Topic11\", \"Topic11\", \"Topic11\", \"Topic11\", \"Topic11\", \"Topic11\", \"Topic11\", \"Topic11\", \"Topic11\", \"Topic11\", \"Topic11\", \"Topic11\", \"Topic11\", \"Topic11\", \"Topic11\", \"Topic11\", \"Topic12\", \"Topic12\", \"Topic12\", \"Topic12\", \"Topic12\", \"Topic12\", \"Topic12\", \"Topic12\", \"Topic12\", \"Topic12\", \"Topic12\", \"Topic12\", \"Topic12\", \"Topic12\", \"Topic12\", \"Topic12\", \"Topic12\", \"Topic12\", \"Topic12\", \"Topic12\", \"Topic12\", \"Topic12\", \"Topic12\", \"Topic12\", \"Topic12\", \"Topic12\", \"Topic12\", \"Topic12\", \"Topic12\", \"Topic12\", \"Topic12\", \"Topic12\", \"Topic12\", \"Topic12\", \"Topic12\", \"Topic12\", \"Topic12\", \"Topic12\", \"Topic12\", \"Topic12\", \"Topic12\", \"Topic12\", \"Topic12\", \"Topic12\", \"Topic12\", \"Topic12\", \"Topic12\", \"Topic12\", \"Topic12\", \"Topic12\", \"Topic12\", \"Topic12\"], \"logprob\": [30.0, 29.0, 28.0, 27.0, 26.0, 25.0, 24.0, 23.0, 22.0, 21.0, 20.0, 19.0, 18.0, 17.0, 16.0, 15.0, 14.0, 13.0, 12.0, 11.0, 10.0, 9.0, 8.0, 7.0, 6.0, 5.0, 4.0, 3.0, 2.0, 1.0, -3.8488, -4.2645, -4.6284, -4.749, -4.7802, -5.2201, -5.3511, -5.3681, -5.6208, -5.7604, -6.0552, -6.0663, -6.081, -6.1011, -6.187, -6.1961, -6.2417, -6.2451, -6.2545, -6.3527, -6.3552, -6.418, -6.4823, -6.5292, -6.5712, -6.5731, -6.6137, -6.6289, -6.6291, -6.781, -4.1023, -2.7103, -5.4316, -4.9961, -5.2334, -2.6998, -5.3392, -4.0491, -4.7176, -5.0026, -2.167, -4.8121, -4.36, -5.0648, -5.4013, -2.753, -4.1564, -4.225, -4.7638, -5.5225, -3.8944, -4.2727, -4.6234, -4.5699, -4.772, -4.3733, -4.245, -4.8519, -4.6697, -4.4345, -4.7843, -4.8399, -4.4488, -4.9686, -5.077, -5.2152, -5.4779, -5.5297, -5.7186, -5.7331, -5.8034, -5.8107, -5.8492, -5.9101, -5.9564, -6.07, -6.0846, -6.1119, -6.1469, -6.1791, -6.1939, -6.2076, -6.2317, -6.3204, -6.3456, -6.3607, -6.3709, -6.3769, -6.4141, -6.4965, -6.4994, -6.5341, -2.4848, -2.9185, -4.1263, -4.3071, -3.9063, -4.663, -4.0216, -3.9763, -4.6829, -5.4285, -5.4312, -5.4001, -4.5062, -2.4809, -4.2892, -5.4131, -3.9133, -5.0874, -4.4647, -5.0002, -4.6149, -5.0341, -3.4369, -3.9832, -3.8595, -4.4322, -5.0857, -5.0802, -4.5476, -4.6899, -4.8492, -4.9728, -3.3905, -3.7634, -4.1419, -4.251, -4.5172, -4.6715, -4.9107, -4.9157, -5.0339, -5.1732, -5.1829, -5.37, -5.5094, -5.5796, -5.7479, -5.882, -5.8972, -5.9446, -5.9907, -6.0195, -6.0696, -6.0922, -6.1596, -6.2852, -6.3207, -6.4011, -6.4851, -6.526, -6.5383, -6.5742, -4.643, -2.711, -4.3231, -3.3647, -4.8104, -3.6244, -4.6228, -3.126, -5.307, -5.2241, -5.6152, -4.9871, -4.9862, -4.6164, -3.1946, -5.1321, -2.8771, -3.789, -3.1936, -3.7029, -4.2189, -4.6805, -4.0965, -4.294, -4.74, -4.5574, -4.3244, -4.8359, -4.8426, -2.135, -2.3479, -4.6168, -4.6442, -3.9348, -4.9747, -5.0648, -5.108, -5.1773, -5.2982, -5.3094, -5.4493, -5.5051, -5.5114, -5.6137, -5.7159, -6.0131, -6.0968, -6.1739, -6.1804, -6.1924, -6.2904, -6.3421, -6.4628, -6.4749, -6.4889, -6.4907, -6.5339, -6.5588, -6.606, -4.7917, -4.6929, -4.3172, -3.291, -3.186, -4.9544, -4.4077, -4.6333, -3.7603, -2.6111, -2.9083, -5.0609, -4.2576, -4.2862, -4.1255, -4.3101, -4.2623, -4.1592, -4.8914, -4.4254, -4.9921, -4.9302, -4.9961, -4.9958, -4.9261, -2.8715, -3.1424, -3.9148, -4.5598, -4.7302, -4.7352, -4.8779, -4.958, -5.277, -5.3689, -5.5587, -5.825, -5.8399, -5.9377, -6.0033, -6.0183, -6.0775, -6.1038, -6.1322, -6.1462, -6.169, -6.2418, -6.2475, -6.2547, -6.2858, -6.2872, -6.3874, -6.3998, -6.4344, -6.5975, -3.9279, -4.8203, -4.6013, -3.8513, -3.4492, -3.5312, -3.8181, -3.5702, -2.266, -2.5808, -4.7966, -5.2428, -4.764, -4.5824, -3.3639, -4.1788, -3.0501, -3.9296, -4.0161, -4.5498, -4.3083, -4.4504, -4.4247, -4.5918, -4.7637, -3.8438, -4.0194, -4.0434, -2.8797, -4.3873, -4.5213, -4.5217, -4.6121, -4.6837, -4.7453, -4.8699, -4.8834, -4.892, -4.9012, -5.1381, -5.148, -5.2171, -5.2227, -5.3448, -5.4172, -5.4553, -5.4762, -5.5392, -5.5788, -5.5879, -5.6201, -5.7168, -5.8285, -5.9581, -5.9847, -3.7828, -4.3207, -3.872, -3.7563, -4.7969, -3.4577, -3.5786, -3.1817, -4.5664, -4.6567, -3.2478, -4.5844, -3.4517, -4.5704, -3.4938, -4.1241, -4.0412, -4.3975, -4.4183, -4.7412, -4.1285, -4.2244, -4.3712, -4.5578, -4.7775, -4.7964, -4.8562, -5.0266, -5.1288, -5.1732, -5.1983, -5.2613, -5.2972, -5.3601, -5.3966, -5.4448, -5.507, -5.5191, -5.6127, -5.6529, -5.6829, -5.6849, -5.6969, -5.7117, -5.7386, -5.7492, -5.7749, -5.7895, -5.8007, -5.8082, -4.3201, -3.2252, -4.5829, -5.3026, -4.2965, -5.2321, -4.8527, -4.9417, -5.2889, -4.9392, -3.2682, -4.3484, -5.2187, -4.8792, -3.8587, -4.8596, -4.2616, -4.6876, -4.7718, -5.059, -4.6488, -4.5662, -4.7047, -4.9174, -5.0118, -2.0537, -2.0979, -3.751, -4.3014, -4.6362, -4.6524, -4.8068, -4.8847, -5.1856, -5.2221, -5.2964, -5.3821, -5.4479, -5.6175, -5.6408, -5.6638, -5.7257, -5.756, -5.7988, -5.8599, -5.9139, -6.0347, -6.048, -6.0878, -6.1643, -6.1739, -6.1811, -6.2074, -6.2779, -6.3089, -4.9941, -2.6676, -3.16, -4.3396, -5.5072, -3.5924, -3.9987, -4.0113, -5.1936, -4.9169, -3.9193, -3.5026, -4.8496, -4.4472, -4.3361, -5.1385, -5.1287, -4.6524, -4.6102, -5.0577, -5.0342, -5.1122, -5.0759, -5.1484, -3.4746, -3.6725, -3.8495, -3.9431, -4.073, -4.0937, -4.1302, -4.3446, -4.6688, -4.6841, -4.798, -4.8072, -5.0265, -5.2714, -5.389, -5.5041, -5.5088, -5.6622, -5.6775, -5.6852, -5.7, -5.7809, -5.7919, -5.8014, -5.8481, -5.9915, -6.0234, -6.0738, -6.1025, -6.1073, -3.1381, -1.9109, -1.8238, -5.5427, -2.7408, -4.8767, -4.8678, -4.0013, -3.7099, -3.9624, -4.6085, -5.0031, -4.702, -4.9796, -5.0643, -5.3979, -5.3645, -2.7467, -3.7639, -3.98, -4.0327, -4.251, -4.5663, -4.694, -4.7208, -4.747, -4.7792, -4.8874, -4.9011, -4.9566, -4.9593, -5.1078, -5.1381, -5.1393, -5.1881, -5.2211, -5.2572, -5.3624, -5.4344, -5.538, -5.5624, -5.5817, -5.5824, -5.5842, -5.6005, -5.6525, -5.6954, -3.2817, -4.8349, -4.7947, -5.4149, -3.9073, -5.1213, -4.2549, -4.9251, -4.2287, -4.8624, -4.6397, -4.7409, -4.0709, -3.9129, -4.0067, -4.1068, -4.8044, -4.5731, -4.7047, -4.7406, -4.6661, -4.7152, -3.6059, -3.7411, -3.969, -4.3349, -4.3746, -4.4248, -4.4317, -4.6803, -4.7213, -4.7382, -4.7456, -4.7652, -4.9313, -5.0278, -5.1951, -5.2753, -5.2923, -5.3057, -5.3234, -5.3293, -5.395, -5.4138, -5.437, -5.4789, -5.5385, -5.5691, -5.7144, -5.7176, -5.7348, -5.7464, -4.5105, -4.1344, -4.7973, -3.0543, -4.3287, -3.9874, -4.7675, -4.0355, -3.8235, -4.9243, -4.437, -4.1728, -3.6966, -3.8509, -4.2957, -4.5942, -4.399, -4.5712, -4.2663, -4.6841, -3.4352, -3.7431, -3.9197, -4.0694, -4.2318, -4.4161, -4.4944, -4.6481, -4.7727, -4.858, -4.9353, -4.9392, -5.2407, -5.2827, -5.336, -5.3629, -5.3714, -5.3737, -5.4614, -5.4673, -5.5773, -5.5961, -5.599, -5.6245, -5.6308, -5.6397, -5.7075, -5.7104, -5.7179, -5.7255, -3.2334, -4.3203, -4.3843, -4.1357, -3.7578, -4.121, -3.8132, -2.5811, -4.585, -5.2426, -4.5826, -4.7602, -4.4439, -4.7772, -4.6558, -3.6965, -4.1753, -4.2045, -4.3978, -4.4657, -4.7745, -4.7378], \"loglift\": [30.0, 29.0, 28.0, 27.0, 26.0, 25.0, 24.0, 23.0, 22.0, 21.0, 20.0, 19.0, 18.0, 17.0, 16.0, 15.0, 14.0, 13.0, 12.0, 11.0, 10.0, 9.0, 8.0, 7.0, 6.0, 5.0, 4.0, 3.0, 2.0, 1.0, 1.9177, 1.9168, 1.9157, 1.9152, 1.9151, 1.9127, 1.9118, 1.9116, 1.9094, 1.908, 1.9041, 1.9039, 1.9037, 1.9034, 1.902, 1.9018, 1.901, 1.9009, 1.9007, 1.8989, 1.8988, 1.8975, 1.896, 1.8949, 1.8939, 1.8939, 1.8928, 1.8924, 1.8924, 1.8881, 1.8784, 1.807, 1.8592, 1.7877, 1.7798, 1.4338, 1.7473, 1.5522, 1.6502, 1.6862, 1.2006, 1.6236, 1.4191, 1.5928, 1.6809, 0.9315, 1.2972, 1.1768, 1.358, 1.6663, 0.9227, 0.9442, 1.1326, 1.0256, 1.1426, 0.6708, 0.5252, 1.0265, 0.4622, -0.3017, -0.0396, -0.1681, 2.1722, 2.1695, 2.1687, 2.1677, 2.1651, 2.1645, 2.1621, 2.1619, 2.1609, 2.1608, 2.1602, 2.1592, 2.1584, 2.1563, 2.156, 2.1554, 2.1547, 2.154, 2.1537, 2.1534, 2.1528, 2.1507, 2.1501, 2.1497, 2.1494, 2.1492, 2.1482, 2.1459, 2.1458, 2.1447, 2.0726, 1.6412, 1.8205, 1.8084, 1.7013, 1.8097, 1.6468, 1.6016, 1.7547, 1.9394, 1.9356, 1.9088, 1.6142, 0.8867, 1.5058, 1.8889, 1.2032, 1.6935, 1.33, 1.6419, 1.3537, 1.5861, 0.2477, 0.6886, 0.2741, 0.5408, 1.4253, 1.3992, 0.3025, 0.442, -0.0791, 0.3958, 2.305, 2.3043, 2.3032, 2.3028, 2.3017, 2.3009, 2.2994, 2.2993, 2.2984, 2.2972, 2.2971, 2.2952, 2.2935, 2.2926, 2.2901, 2.2877, 2.2874, 2.2865, 2.2856, 2.285, 2.2839, 2.2834, 2.2818, 2.2785, 2.2775, 2.2751, 2.2724, 2.271, 2.2706, 2.2693, 2.2349, 2.1391, 2.1747, 2.0455, 2.1214, 1.9855, 2.0664, 1.8469, 2.0994, 2.0318, 2.1332, 1.8838, 1.8824, 1.6531, 0.8218, 1.8671, 0.4905, 0.9812, 0.4909, 0.8568, 1.0075, 1.4627, 0.4486, 0.6221, 1.3661, 0.5798, -0.5774, 0.7304, -0.7097, 2.4003, 2.4002, 2.3949, 2.3948, 2.3935, 2.3924, 2.3916, 2.3912, 2.3905, 2.3892, 2.3891, 2.3874, 2.3866, 2.3865, 2.385, 2.3833, 2.3773, 2.3753, 2.3733, 2.3731, 2.3727, 2.3699, 2.3683, 2.3642, 2.3638, 2.3632, 2.3632, 2.3616, 2.3606, 2.3587, 2.2933, 2.1769, 2.0711, 1.9259, 1.8535, 2.1241, 1.9815, 2.0236, 1.7951, 1.1359, 1.2246, 1.8238, 1.3157, 1.2411, 1.0065, 1.1435, 0.7589, 0.5855, 1.5297, 0.4907, 1.5519, 1.106, 1.0194, 0.9728, -0.2544, 2.4551, 2.4548, 2.4531, 2.4504, 2.4493, 2.4492, 2.4482, 2.4475, 2.4443, 2.4431, 2.4404, 2.4357, 2.4354, 2.4332, 2.4317, 2.4313, 2.4298, 2.4291, 2.4284, 2.428, 2.4273, 2.4252, 2.425, 2.4248, 2.4238, 2.4238, 2.4204, 2.42, 2.4187, 2.4122, 2.3303, 2.3007, 2.2639, 2.1642, 2.0782, 2.042, 1.987, 1.9318, 1.481, 1.5521, 2.0626, 2.1681, 2.0078, 1.9087, 1.3808, 1.3875, 0.6345, 1.1145, 1.1159, 0.8187, 0.209, 0.3197, 0.1327, -0.4583, 0.2757, 2.4685, 2.4679, 2.4678, 2.4675, 2.4664, 2.4657, 2.4657, 2.4651, 2.4647, 2.4643, 2.4633, 2.4632, 2.4631, 2.4631, 2.4609, 2.4608, 2.46, 2.46, 2.4585, 2.4575, 2.457, 2.4567, 2.4558, 2.4551, 2.455, 2.4545, 2.4528, 2.4506, 2.4477, 2.4471, 2.3493, 2.3708, 2.3283, 2.3079, 2.2636, 1.9108, 1.8232, 1.6355, 2.0596, 1.9933, 1.0514, 1.8076, 0.5647, 1.7339, -0.1262, 0.5476, -0.3567, 0.7396, -0.2848, 1.2655, 2.5282, 2.5278, 2.5271, 2.526, 2.5245, 2.5244, 2.5239, 2.5224, 2.5213, 2.5208, 2.5205, 2.5198, 2.5193, 2.5185, 2.518, 2.5173, 2.5163, 2.5161, 2.5146, 2.5138, 2.5133, 2.5132, 2.513, 2.5127, 2.5122, 2.512, 2.5115, 2.5112, 2.5109, 2.5108, 2.344, 2.1344, 2.3095, 2.4061, 2.1643, 2.3712, 2.1712, 2.2022, 2.3362, 2.1697, 1.2769, 1.7577, 2.2779, 1.8564, 0.701, 1.6844, 0.6545, 1.2758, 1.4213, 1.9302, 0.8048, 0.5504, -0.0329, -0.1473, 0.783, 2.6282, 2.6282, 2.6257, 2.6235, 2.6214, 2.6213, 2.62, 2.6193, 2.616, 2.6155, 2.6145, 2.6133, 2.6122, 2.6092, 2.6087, 2.6083, 2.607, 2.6063, 2.6053, 2.6039, 2.6025, 2.5992, 2.5988, 2.5976, 2.5951, 2.5948, 2.5946, 2.5937, 2.5912, 2.59, 2.5098, 2.3536, 1.756, 2.0816, 2.3933, 1.447, 1.5567, 1.5551, 2.1461, 1.9366, 0.7524, 0.2444, 1.6239, 1.1604, 0.8903, 1.8412, 1.8173, 0.9432, 0.1346, 1.2118, 1.0863, 0.7662, 0.0406, 1.0569, 2.6631, 2.6626, 2.662, 2.6617, 2.6611, 2.661, 2.6609, 2.6597, 2.6575, 2.6574, 2.6564, 2.6563, 2.6541, 2.6509, 2.6491, 2.6471, 2.6471, 2.644, 2.6437, 2.6435, 2.6432, 2.6414, 2.6411, 2.6409, 2.6397, 2.6358, 2.6348, 2.6333, 2.6323, 2.6322, 2.5348, 2.3884, 2.1926, 2.4468, 1.0062, 2.0693, 1.7744, 0.7434, -0.0254, 0.1705, 1.0599, 1.3852, 0.4146, 0.0645, 0.0677, 1.0417, 0.2453, 2.8134, 2.811, 2.8101, 2.8099, 2.8087, 2.8065, 2.8054, 2.8051, 2.8049, 2.8045, 2.8034, 2.8032, 2.8026, 2.8025, 2.8006, 2.8002, 2.8002, 2.7994, 2.7989, 2.7984, 2.7966, 2.7952, 2.7931, 2.7922, 2.7922, 2.7922, 2.7921, 2.7917, 2.7905, 2.7895, 2.544, 2.6214, 2.5772, 2.7418, 1.8875, 2.5231, 1.9759, 2.3868, 1.8836, 2.2969, 2.096, 2.1051, 1.3393, 1.0601, 1.1099, 0.6633, 1.9575, 1.3414, 1.6553, 1.686, -0.121, -0.0434, 2.9633, 2.9627, 2.9616, 2.9593, 2.959, 2.9586, 2.9585, 2.9561, 2.9557, 2.9555, 2.9554, 2.9552, 2.9531, 2.9517, 2.9489, 2.9474, 2.9471, 2.9468, 2.9464, 2.9463, 2.9449, 2.9445, 2.944, 2.943, 2.9416, 2.9408, 2.9368, 2.9367, 2.9362, 2.9358, 2.8342, 2.5827, 2.6605, 2.0829, 2.4862, 2.2816, 2.593, 2.1988, 1.9324, 2.5639, 2.0661, 1.7906, 1.1205, 1.1932, 1.4834, 1.4419, 0.8273, 1.2338, -0.1327, 0.0607, 3.0596, 3.0584, 3.0575, 3.0566, 3.0555, 3.054, 3.0533, 3.0517, 3.0502, 3.049, 3.0479, 3.0479, 3.0426, 3.0417, 3.0406, 3.04, 3.0398, 3.0397, 3.0376, 3.0374, 3.0345, 3.034, 3.0339, 3.0332, 3.033, 3.0327, 3.0306, 3.0305, 3.0303, 3.03, 2.9473, 2.9455, 2.8896, 2.7947, 2.729, 2.7241, 2.6609, 1.9639, 2.6442, 2.8737, 2.4965, 2.5157, 1.8961, 2.2889, 2.133, 0.4371, 1.1843, 0.7116, 0.6463, -0.7812, 1.563, 0.8285]}, \"token.table\": {\"Topic\": [12, 1, 2, 3, 7, 10, 11, 12, 2, 7, 10, 2, 11, 9, 12, 11, 5, 12, 7, 3, 3, 4, 7, 8, 12, 9, 2, 7, 3, 12, 3, 1, 3, 12, 9, 2, 5, 4, 7, 8, 9, 5, 9, 8, 2, 2, 3, 12, 2, 7, 2, 3, 12, 2, 2, 3, 5, 6, 7, 9, 10, 9, 2, 3, 7, 12, 3, 7, 4, 2, 4, 10, 12, 3, 2, 3, 1, 11, 6, 4, 7, 10, 2, 1, 12, 1, 2, 3, 7, 10, 3, 10, 2, 3, 6, 7, 10, 6, 12, 10, 4, 9, 10, 12, 8, 12, 8, 1, 2, 3, 9, 10, 12, 8, 3, 11, 1, 1, 11, 10, 12, 8, 1, 3, 4, 6, 8, 11, 3, 5, 1, 6, 11, 8, 8, 10, 4, 11, 2, 4, 8, 4, 6, 1, 11, 2, 7, 5, 2, 6, 7, 11, 1, 2, 3, 4, 5, 9, 10, 10, 6, 3, 11, 6, 2, 4, 6, 2, 4, 6, 12, 3, 1, 4, 10, 10, 1, 2, 3, 8, 2, 4, 5, 9, 1, 7, 12, 5, 11, 11, 1, 6, 9, 7, 5, 2, 4, 7, 11, 12, 1, 7, 11, 2, 2, 3, 8, 6, 10, 11, 10, 10, 7, 9, 4, 1, 5, 11, 11, 1, 5, 9, 1, 4, 5, 2, 8, 9, 10, 11, 1, 2, 3, 11, 1, 2, 3, 8, 3, 5, 6, 12, 6, 3, 7, 8, 9, 12, 1, 8, 12, 1, 9, 7, 10, 6, 3, 6, 9, 12, 2, 9, 6, 9, 8, 7, 6, 4, 3, 3, 5, 8, 12, 3, 2, 10, 12, 8, 3, 7, 9, 11, 5, 12, 11, 9, 1, 3, 6, 12, 10, 1, 6, 2, 5, 7, 8, 12, 9, 8, 2, 10, 3, 4, 8, 5, 5, 12, 10, 12, 1, 2, 3, 5, 8, 1, 3, 4, 8, 5, 12, 1, 4, 7, 8, 9, 12, 9, 2, 3, 6, 7, 8, 11, 12, 3, 1, 4, 6, 10, 8, 11, 12, 4, 11, 2, 3, 10, 1, 5, 8, 5, 3, 12, 5, 4, 2, 3, 3, 1, 4, 9, 11, 2, 10, 1, 2, 4, 5, 8, 9, 5, 9, 1, 2, 4, 7, 11, 1, 2, 5, 6, 11, 12, 10, 11, 4, 4, 9, 9, 4, 9, 6, 1, 2, 3, 5, 6, 8, 9, 12, 8, 5, 11, 2, 6, 7, 1, 1, 5, 11, 2, 4, 8, 10, 11, 1, 4, 2, 9, 10, 1, 7, 3, 5, 11, 1, 6, 9, 10, 7, 2, 10, 10, 11, 8, 9, 1, 4, 7, 11, 11, 1, 1, 7, 3, 12, 3, 1, 6, 11, 5, 2, 3, 5, 5, 8, 1, 2, 4, 5, 7, 9, 10, 12, 3, 5, 7, 11, 2, 5, 10, 10, 11, 2, 5, 1, 4, 5, 8, 2, 5, 7, 10, 12, 1, 7, 7, 3, 3, 11, 6, 11, 1, 7, 5, 2, 3, 4, 8, 9, 8, 1, 6, 8, 6, 1, 2, 3, 4, 5, 6, 7, 8, 9, 10, 12, 7, 5, 12, 3, 1, 2, 6, 7, 8, 5, 1, 4, 7, 8, 10, 1, 3, 11, 1, 2, 3, 4, 6, 8, 3, 4, 5, 6, 8, 9, 1, 6, 8, 11, 4, 7, 12, 1, 7, 2, 12, 11, 12, 2, 6, 4, 4, 9, 7, 10, 1, 4, 7, 4, 5, 1, 2, 3, 5, 2, 6, 3, 9, 3, 12, 9, 1, 2, 3, 6, 11, 12, 5, 3, 3, 4, 7, 8, 11, 1, 6, 5, 8, 8, 10, 8, 5, 12, 7, 2, 6, 1, 4, 2, 12, 6, 10, 12, 5, 7, 9, 7, 2, 7, 7, 8, 11, 12, 4, 1, 2, 12, 8, 12, 10, 7, 2, 5, 9, 3, 8, 7, 7, 11, 2, 3, 5, 6, 9, 11, 7, 3, 6, 11, 6, 8, 4, 9, 2, 3, 10, 4, 1, 5, 8, 2, 3, 10, 7, 11, 2, 4, 1, 6, 1, 5, 1, 5, 10, 1, 2, 4, 7, 8, 10, 11, 1, 1, 2, 3, 5, 6, 9, 11, 12, 1, 3, 5, 2, 2, 6, 1, 3, 4, 5, 8, 9, 11, 9, 6, 6, 1, 6, 8, 8, 1, 3, 6, 8, 1, 6, 10, 1, 7, 5, 1, 3, 5, 6, 8, 4, 7, 1, 4, 3, 1, 7, 12, 7, 1, 2, 5, 6, 11, 3, 10, 2, 2, 1, 11, 6, 11, 9, 4, 5, 7, 11, 2, 5, 1, 4, 6, 11, 4, 2, 3, 6, 6, 9, 10, 7, 8, 6, 3, 10, 11, 3, 5, 3, 10, 1, 1, 6, 4, 2, 6, 11, 8, 12, 7, 4, 5, 7, 1, 10, 3, 11, 6, 4, 11, 10, 2, 7, 9, 4, 4, 11, 5, 6, 7, 2, 7, 10, 3, 7, 2, 7, 7, 1, 3, 10, 2, 5, 10, 8, 1, 2, 3, 6, 3, 4, 6, 7, 8, 10, 12, 7, 2, 12, 7, 9, 12, 8, 8, 11, 2, 8, 10, 12, 1, 2, 4, 5, 7, 8, 10, 12, 2, 12, 1, 2, 5, 7, 8, 9, 10, 11, 10, 12, 5, 11, 12, 9, 6, 3, 8, 9, 12, 2, 7, 8, 10, 11, 4, 7, 10, 11, 4, 4, 7, 12, 7, 10, 12, 2, 9, 4, 8, 2, 3, 6, 9, 5, 7, 5, 12, 6, 5, 1, 4, 7, 10, 1, 1, 2, 3, 5, 7, 8, 10, 11, 4, 7, 3, 10, 1, 2, 3, 7, 8, 9, 10, 5, 1, 2, 11, 6, 1, 4, 7, 4, 5, 3, 7, 10, 2, 4, 10, 11, 1, 4, 10, 6, 8, 12, 1, 2, 3, 4, 5, 7, 10, 11, 12, 7, 4, 8, 4, 10], \"Freq\": [0.9908398193194001, 0.08409573814580867, 0.06079209986444001, 0.15603305631872935, 0.28521626853066434, 0.05319308738138501, 0.027356444938998, 0.3333433475900127, 0.1960358772669097, 0.800038309927118, 0.9886963961126672, 0.9783359690650166, 0.9959162215903208, 0.9954826526064728, 0.9699426943727014, 0.9970044320784252, 0.9981339484966101, 0.9760279784193832, 0.9835307614165284, 0.9916095430834668, 0.18574205842471866, 0.14829998340629713, 0.15270493340846436, 0.4177360918721934, 0.09544058338029023, 0.9971162411892102, 0.6929523740837542, 0.3029490278657619, 0.9724927530588192, 0.9912561791874986, 0.9958798423983868, 0.2298829115517321, 0.1979547293917693, 0.5683216424473376, 0.9733195643486231, 0.9893734837542869, 0.9833838381790598, 0.19328248421564406, 0.04648566076072452, 0.7592657924251672, 0.9601685425686549, 0.980798958780493, 0.9973739728659194, 0.9878187244067383, 0.976102264353128, 0.9770978847182115, 0.3277744384009084, 0.6694967252444087, 0.984543106158279, 0.9895368131945932, 0.9821680826101157, 0.2825380382895593, 0.7169402721597568, 0.9875814494221032, 0.16779907850171483, 0.43076778361634255, 0.0951696266129129, 0.0701249880305674, 0.08014284346350559, 0.13774551220290024, 0.020035710865876397, 0.99570841815313, 0.14720938488223803, 0.3909495139495502, 0.46093430348372894, 0.9967255517380874, 0.9882028012832526, 0.9961169518603332, 0.9678470679732774, 0.45921580810689144, 0.15424042409697117, 0.15774588828099323, 0.22785517196143468, 0.9607903309211206, 0.9956785333457912, 0.9820077575770505, 0.9725702926830068, 0.971870531542474, 0.9951898798568777, 0.9806439255474605, 0.5072789074154366, 0.48916180357917094, 0.9797433975242629, 0.6018225192585239, 0.39643864363855147, 0.5711787352568919, 0.29416930571170397, 0.01961128704744693, 0.044125395856755595, 0.07109091554699512, 0.9952672104145014, 0.99376818844592, 0.5855191652067722, 0.23441329177725034, 0.01696411979966943, 0.16038804174232918, 0.0020562569454144765, 0.9751793081060637, 0.9559343837864906, 0.96367105036724, 0.0805969394621244, 0.1611938789242488, 0.6528352096432077, 0.10477602130076173, 0.9456140335890951, 0.9757463057389592, 0.9561256656272311, 0.303196784023167, 0.33688531558129664, 0.10443444783020196, 0.19876233619296504, 0.053901650493007464, 0.0033688531558129665, 0.9596320689467812, 0.3156447777356389, 0.6801922675148276, 0.9983398728450811, 0.9951749082774947, 0.9564425940440148, 0.9903709462972682, 0.9814774352054212, 0.989386225521662, 0.2599978781598465, 0.08083967640264135, 0.0983185253545638, 0.29932528830167204, 0.1660490650432633, 0.0939488131165832, 0.9862428580137313, 0.9932656217209047, 0.7879011732651894, 0.0704627065521714, 0.13451971250869088, 0.9896676535836016, 0.9993308064343763, 0.9832771787367217, 0.976980810985979, 0.9868359802955613, 0.3097742872112177, 0.6865267986843202, 0.986416165582532, 0.9846347440307154, 0.9894675615636175, 0.9899367940563337, 0.9922924318091071, 0.2960194558726201, 0.6972902738332829, 0.9662741512472472, 0.9791513448363693, 0.9876734441223082, 0.8520374666396362, 0.14020869704196545, 0.10835498180858057, 0.03857839909593425, 0.04897779363483827, 0.3082917284275094, 0.4049054583373274, 0.08252422763130285, 0.008051144159151497, 0.9804673125141753, 0.9965706846561918, 0.9877058222490009, 0.9859302289374833, 0.9843123825397745, 0.3395279755359094, 0.6566342923100135, 0.9958101219831516, 0.7017274704973893, 0.1358182200962689, 0.16257029375159457, 0.9663375557235871, 0.9776334628915431, 0.12033003972728189, 0.11486049246695089, 0.7620902516061187, 0.9935271372351383, 0.5246110380706543, 0.470340930684035, 0.929500264976067, 0.06266293921186969, 0.5888775077835849, 0.11060926733501199, 0.09814625129726416, 0.20096613360868376, 0.9911099539577133, 0.33387772985439995, 0.6603359546009243, 0.9607560579438267, 0.989847776608155, 0.9779869044706596, 0.3328137569887736, 0.6615688096240255, 0.9664019020444924, 0.9946143523595531, 0.9760203470863356, 0.4395777836368396, 0.23976970016554888, 0.18298213960002413, 0.071510261452883, 0.06520053250115802, 0.7766751974919059, 0.21376381582346035, 0.007125460527448679, 0.9762731988760466, 0.12962141951294107, 0.6532919543452229, 0.21257912800122333, 0.0562750490613929, 0.9379174843565483, 0.9781669455549258, 0.9858178357111681, 0.9733243359964523, 0.9946847890073064, 0.9963275492705613, 0.9770627687641267, 0.9904592299064018, 0.3268439827748294, 0.6729140821834724, 0.9834674671766938, 0.9854011791483125, 0.9774528040632339, 0.9944426292762274, 0.9826165121962617, 0.3385262404968594, 0.6614717753641562, 0.005680268155553762, 0.10792509495552148, 0.15904750835550535, 0.2215304580665967, 0.502703731766508, 0.7909449106313935, 0.09508627340923856, 0.012966310010350713, 0.09508627340923856, 0.9898767194771704, 0.36420498893614245, 0.17921197868286373, 0.45670149406278177, 0.04226442279686538, 0.6386623889304102, 0.3146351474877756, 0.9836845909001702, 0.9879979952613236, 0.07778799895983225, 0.6714934616091401, 0.033174293674046104, 0.0629167638645702, 0.15328811559731648, 0.20326285052611764, 0.7840138520293108, 0.9596390294572666, 0.9816645072176969, 0.9802884715346423, 0.8263828654239656, 0.16864956437223785, 0.9879775295458105, 0.7258237690217977, 0.1851291394670982, 0.08962601196423008, 0.9756547537857354, 0.9663710906353784, 0.9893253514245588, 0.24167973672427284, 0.757923502218908, 0.987909853973446, 0.9892622194843347, 0.9938605004711504, 0.985484467984886, 0.9969445365130584, 0.20678566872189816, 0.34323607597376293, 0.34182937074436226, 0.10690959743445075, 0.9878873769069263, 0.9801901506307485, 0.15517889904842677, 0.8379660548615046, 0.9685872652368441, 0.6518366495721034, 0.16037250902170797, 0.06725298765426463, 0.1138127483379863, 0.9465322032752606, 0.9896006114143745, 0.98712929355516, 0.9742362240121004, 0.493983303245847, 0.10672478773830027, 0.08842910984030594, 0.31102652426590366, 0.9820311715959177, 0.9803643054907715, 0.9904095773305313, 0.1341854585186377, 0.04128783339035006, 0.6915712092883635, 0.0240845694777042, 0.11010088904093349, 0.9643990232261181, 0.9928373741043682, 0.9849556395413789, 0.9776222137336351, 0.9724308282392209, 0.8992017223506468, 0.09634304168042644, 0.9682404548637314, 0.28297899665726284, 0.7125006880120368, 0.9826390043287906, 0.9806439746454924, 0.40935759682021783, 0.24599893142247833, 0.05573413290040525, 0.13068693231819162, 0.15567119879078706, 0.6933971204139125, 0.13693136411535248, 0.06409553213910116, 0.10634031468532693, 0.9782131199497298, 0.9918720855027532, 0.40845056793575246, 0.11876931408060887, 0.1057336576571274, 0.1853960024672919, 0.07531712600233734, 0.10428525138785169, 0.9830051806679578, 0.13390882757193384, 0.05649278663190959, 0.04393883404704079, 0.28455625859035943, 0.15692440731086, 0.3075718383292856, 0.014646278015680265, 0.9928577790073243, 0.37691684206447884, 0.62191278940639, 0.9942340501018767, 0.9811425471252802, 0.9547721683870146, 0.16213993652988082, 0.8287152311527242, 0.9652256075938757, 0.968834081210606, 0.6918731624442765, 0.23630879139822122, 0.0682128470015484, 0.9893581891490201, 0.8588909237974959, 0.13981945271122026, 0.9971934285680396, 0.23113501314090842, 0.764946829204435, 0.9714371863696447, 0.9595099283830302, 0.15326148525829644, 0.84603088947517, 0.9827964732138119, 0.9706659445290755, 0.9914135178578635, 0.9609425093277423, 0.9849694649495626, 0.9658781367179803, 0.9831931418437889, 0.23323277749890628, 0.17674671419838991, 0.24780982609258795, 0.26147580914916446, 0.005466393222630616, 0.07470737404261842, 0.9984019889073953, 0.9802801336517272, 0.2272821036939061, 0.1057649393427088, 0.27453877871937177, 0.17327447509337396, 0.2182808322604841, 0.6153498800527462, 0.14938935986005022, 0.05438444111759131, 0.06344851463718987, 0.044984661171340964, 0.07251258815678842, 0.992950833628868, 0.9935904825842744, 0.9871337409304946, 0.9739843960493203, 0.9954320360314781, 0.9878882568545315, 0.7200793166242742, 0.2784306690947193, 0.987980897731925, 0.37238272136164174, 0.1452678280110432, 0.16262283401236252, 0.16176579667896404, 0.05913557600449546, 0.009427410667383335, 0.06792020867182993, 0.021425933334962125, 0.9840959572088539, 0.9794975563424787, 0.986755769242308, 0.9741184016361513, 0.9961870622407211, 0.9927317435571058, 0.9720949098502812, 0.1964491783039515, 0.6250655673307548, 0.17680426047355635, 0.1428854654618752, 0.17425056763643315, 0.3659261920365096, 0.20213065845826245, 0.10803535193458856, 0.9947002346052481, 0.9789861185153236, 0.5857427456622958, 0.40836994239836116, 0.99156830779812, 0.93902442975342, 0.05523673116196589, 0.15374153272807167, 0.6764627440035154, 0.16911568600087884, 0.15797643838948955, 0.6194339294745774, 0.15797643838948955, 0.05820184572244352, 0.9855214847736575, 0.9922043266751589, 0.9816771286249942, 0.8286897063956851, 0.16760016533845318, 0.44157992168795984, 0.5533723069254181, 0.6055822743013123, 0.16357682121932, 0.001740178949141702, 0.22622326338842128, 0.9703006301487732, 0.979149171993607, 0.8668610518791291, 0.12554539372042559, 0.9948987840144917, 0.9773591516959808, 0.9625964989040863, 0.9807204444683978, 0.9868574052655555, 0.985729816498686, 0.9712463923806615, 0.961772246483367, 0.9986350348110317, 0.9686262607504043, 0.9805468452446859, 0.975328739859785, 0.08088505942340811, 0.15243722737488452, 0.12754951678306664, 0.015554819119886175, 0.1866578294386341, 0.04355349353568129, 0.3142073462217007, 0.07777409559943087, 0.21989923008496162, 0.5781221694169152, 0.10285609149135302, 0.09576256794022522, 0.5528085599689887, 0.22596554276104647, 0.2178953448052948, 0.9788986972230883, 0.9883251690777443, 0.9016659863556521, 0.09796257303408962, 0.0008305419789774596, 0.5788877593472893, 0.1129537091409345, 0.30646999024268257, 0.27984284403671633, 0.1429631920622355, 0.19771505285202784, 0.15208850219386758, 0.22204921320304666, 0.1653482046202358, 0.826741023101179, 0.992054184232576, 0.9692357123536826, 0.11659903437665055, 0.8744927578248791, 0.9056907178667262, 0.09100241662775718, 0.9925408307738515, 0.9852510284672368, 0.9830447530707856, 0.5704192682957523, 0.15668168742887614, 0.05630748141975237, 0.21298916884862854, 0.994169298807505, 0.9960874771504243, 0.9964560133021454, 0.8493884327388826, 0.14812223350214848, 0.9929736650117631, 0.12420389425945282, 0.22598208538872666, 0.06095191107176851, 0.07015219953543168, 0.046576460347294804, 0.14605457936065286, 0.07705241588317907, 0.15295479570840023, 0.02990093750690531, 0.057501802897894826, 0.008050252405705276, 0.9965116583900034, 0.9911685569088231, 0.9791182843191849, 0.9899370273957179, 0.3235848849857041, 0.5110165669992813, 0.1644447776156857, 0.9864562170602216, 0.9676548338695512, 0.9785880919307104, 0.460290862116124, 0.13748947829442665, 0.07571884311866975, 0.0956448544656881, 0.2291491304907111, 0.4556996382762887, 0.18874126809204494, 0.35537770298412064, 0.18926466727782582, 0.5635248740001431, 0.15511164461115048, 0.0028460852222229444, 0.039845193111121224, 0.04980649138890153, 0.05587851183295308, 0.28235754142528946, 0.37700889820355693, 0.002052680026516644, 0.09214252563474712, 0.1902150157905423, 0.9961278986872162, 0.9788648894931645, 0.9816246670046885, 0.9872169402182455, 0.10785845124724122, 0.886836154699539, 0.9815293518559054, 0.9716689541188483, 0.9775793769804361, 0.10774396937876118, 0.8927357462811641, 0.9917290931387084, 0.9965438025966655, 0.6555706914138943, 0.33955199914258116, 0.9846939765942531, 0.9715510157545566, 0.9745934261357426, 0.9835210067796727, 0.9887753592560468, 0.26286442892501055, 0.5625298778995226, 0.16823323451200675, 0.17014157903706206, 0.8249288680584826, 0.7650158539372895, 0.06897683928942774, 0.043894352275090386, 0.11914181331810247, 0.18177008167656838, 0.8148314006190996, 0.9987441281469107, 0.988712943317983, 0.8747938459504787, 0.12139996229516847, 0.9949312585687106, 0.11631042424339222, 0.08150887998158983, 0.17767104175762277, 0.17675521164547006, 0.4130393805808653, 0.034801544261802396, 0.9891107442376975, 0.9722097898036011, 0.9805835811051328, 0.5454240692796093, 0.09600576729666592, 0.34228143123159155, 0.013913879318357381, 0.47612840324414113, 0.5226672697266511, 0.9954239105634481, 0.9863326696931354, 0.9647009400972176, 0.9948401533191289, 0.979863346077669, 0.9782375976735626, 0.9676875351966888, 0.9891492839716641, 0.7500502130667157, 0.23937772757448375, 0.9723768464572311, 0.9993520750071468, 0.7832275433013077, 0.20432022868729768, 0.32085483914303675, 0.4231563820582079, 0.2511037871554201, 0.2132648112432456, 0.7755084045208931, 0.9904242134447641, 0.9756365934534809, 0.6160754077613, 0.3791233278531077, 0.06996989775527747, 0.1243909293427155, 0.21768412634975215, 0.5753080482100592, 0.9879554626621446, 0.7449147714819295, 0.11408604608281803, 0.14092982163171638, 0.8886221227915173, 0.10741586099677682, 0.9942168897471818, 0.9748075991323628, 0.7632851265060018, 0.22496824781229527, 0.9982538920124537, 0.9785592924218575, 0.9689749423440898, 0.988162532195996, 0.2517835232549983, 0.7366999384127728, 0.16851885747384016, 0.028855968745520575, 0.19391210996989827, 0.5713481811613074, 0.036935639994266335, 0.9942481021450909, 0.9944462595605427, 0.3733124481367767, 0.2153725662327558, 0.4056183330716901, 0.8841996055399991, 0.11393048138610633, 0.942375042003042, 0.9729351172662746, 0.1950658918174499, 0.6318269723011425, 0.17330555328801325, 0.9889216972492244, 0.4025667590369417, 0.09172407167930317, 0.4993866124762062, 0.7926920324555067, 0.20456568579496948, 0.9799888490424775, 0.694899173164345, 0.29608747378306877, 0.9757585183322826, 0.9930153063886771, 0.9899325611377516, 0.9869863665854866, 0.9740068629081348, 0.9953210855622526, 0.893805796670748, 0.10593618869030365, 0.9795850961956051, 0.11756037343536849, 0.14489999516452395, 0.1421660329916084, 0.11756037343536849, 0.04374339476664874, 0.4319660233206563, 0.0027339621729155464, 0.970260972021924, 0.28704005295356133, 0.06258140689394506, 0.04923070675657011, 0.2611730714373974, 0.006675350068687472, 0.07426326951414813, 0.16938700799294462, 0.08928280716869495, 0.177161940111521, 0.8149449245129966, 0.9832059611293232, 0.9818756217801304, 0.9903962230875336, 0.9924404373014373, 0.14103028250081515, 0.07113369512102519, 0.16267966797243152, 0.3414417365809209, 0.08226766479214218, 0.14659726733637365, 0.05443274061434971, 0.9697767393406996, 0.9929311391299022, 0.9848344388673776, 0.9601364185103882, 0.03832030051704432, 0.9991666816200223, 0.9965034718351663, 0.12219651195887934, 0.5200456206622075, 0.11367117391523661, 0.24155124456987778, 0.983618081102882, 0.2053831229187511, 0.787301971188546, 0.9832944500407748, 0.9921837362656483, 0.9683929954066277, 0.2044481394122078, 0.0474847291538031, 0.5922400941682664, 0.15564439000413238, 0.982888209098405, 0.9915333127334283, 0.006027558132118104, 0.23613143713036283, 0.759449757257113, 0.9901641848275822, 0.874459647310984, 0.11881245208029674, 0.9829549784713352, 0.990886668782484, 0.07944674109558605, 0.08238921298801516, 0.13535370705173919, 0.4796229184659454, 0.22068539193218348, 0.9837663375210627, 0.9831325124269308, 0.971421385734708, 0.9874692826175847, 0.7205863014906486, 0.2765040459208303, 0.9936299865761077, 0.9816515168035607, 0.9793327038775341, 0.05392835441430727, 0.220615995331257, 0.1029541311545866, 0.6177247869275196, 0.24025414983777532, 0.7474573550508565, 0.3690740060986883, 0.03923489434202272, 0.4335788323898104, 0.1576045755772777, 0.9937298240840918, 0.14963641635030317, 0.8354699912891926, 0.9880635859747914, 0.986667134143524, 0.8778623094224547, 0.12049090521484672, 0.9919478112519937, 0.9944754846071764, 0.9893258526931302, 0.7869491878850762, 0.207547038563097, 0.9841985124459094, 0.8321364220528957, 0.16532511696415148, 0.9868060178631488, 0.9741280759364979, 0.9904502580857222, 0.002259808023955993, 0.9965753385645929, 0.9701366884454741, 0.9975153233517255, 0.8671664205620376, 0.12994236883039706, 0.9849522657076448, 0.9858728318744494, 0.980080317094262, 0.31387756745063955, 0.6845777979742398, 0.9787313570538637, 0.8426937060944957, 0.15438663317761753, 0.9578005037903887, 0.9818876504830284, 0.9879557153113687, 0.9762193178285778, 0.9724916685314807, 0.9957987976525537, 0.9848100338424415, 0.1745614061904608, 0.8093301559739546, 0.962207793390452, 0.9533760264217732, 0.9954974001646716, 0.24731316422375935, 0.5138974841013181, 0.23767758639685962, 0.42953476907124516, 0.17322801386412356, 0.3959497459751396, 0.9915817579247189, 0.9920310914812349, 0.9949105971885059, 0.9800381305003376, 0.9878389907675691, 0.984726191870603, 0.9943974724407322, 0.9813212246416787, 0.9853458613355615, 0.24725827353365354, 0.7417748206009607, 0.9923622309242492, 0.48738888132104696, 0.27545353042960224, 0.16261902476353857, 0.07444268216142792, 0.17725536462609742, 0.07527282607409616, 0.14083302942895412, 0.17482720894628787, 0.03885049087695286, 0.3933612201291477, 0.9636495080008414, 0.982340988902892, 0.9957164901970682, 0.9777144483473895, 0.2773296694290424, 0.25842082833160773, 0.4601151333709113, 0.9673040368257285, 0.9858009262022354, 0.9963126871544942, 0.6215760023533676, 0.2301590386072611, 0.07036709460604161, 0.07769700029417095, 0.21061365719589686, 0.10267415788299973, 0.005265341429897422, 0.20798098648094818, 0.32908383936858887, 0.07371478001856391, 0.07108210930361519, 0.965528140300407, 0.9755886564133345, 0.9793258811974461, 0.07446334541338738, 0.37769961950645886, 0.04754888321577748, 0.13816090594773078, 0.0753604941533077, 0.10496640257067859, 0.18212119420382694, 0.989737118138712, 0.9882730108493877, 0.9904649474069679, 0.9855481399338198, 0.6853043076994096, 0.30457969231084875, 0.978543805596656, 0.9964068029524801, 0.7619630533643406, 0.23620854654294557, 0.9719545089490148, 0.973918325442831, 0.10640174835642617, 0.2626793162549271, 0.07980131126731962, 0.3225302997054168, 0.2261037152574056, 0.9793568627609547, 0.5485841412165566, 0.4318641111704808, 0.011672003004607589, 0.9776229490113102, 0.9645552259416511, 0.984955816922904, 0.9828138932097299, 0.7221790987438602, 0.1362602073101623, 0.1362602073101623, 0.9819592417245906, 0.9756962892206414, 0.4199974223715628, 0.5787366056301062, 0.0014928729229041204, 0.22661810969684548, 0.1486901431212504, 0.6231251580201799, 0.8822050802502838, 0.11519238309000521, 0.10661414289745359, 0.8919183174104044, 0.9897570111073704, 0.9739684871509866, 0.14209429275868882, 0.4262828782760665, 0.4300222017697162, 0.9980913104133851, 0.9803571753971931, 0.17021205412220747, 0.11013721149084013, 0.27233928659553197, 0.06908606902607244, 0.024029937052546937, 0.1762195383853442, 0.060074842631367344, 0.11814719050835577, 0.7976884038593812, 0.19683220354971745, 0.770125079301459, 0.22863088291762065, 0.0373104200000591, 0.25850791000040946, 0.0879459900001393, 0.11992635000018996, 0.20787234000032928, 0.08261593000013086, 0.20254228000032082, 0.983759197159653, 0.26884326052222796, 0.2633566633687131, 0.4636174594720054, 0.9922655958219249, 0.5366217389411592, 0.28401993676979387, 0.1771982791351369, 0.2512957070618471, 0.7472740762628612, 0.6425528973583023, 0.04715984567767357, 0.300644016195169, 0.26980651098837155, 0.12452608199463301, 0.594957947307691, 0.9613714117817089, 0.39956644514160944, 0.1062138651642253, 0.4906069009966597, 0.372864784709478, 0.613155423744475, 0.972936255721105, 0.2480826352573928, 0.10468960311373353, 0.2658481436645718, 0.020937920622746707, 0.1180137344191178, 0.06852410385626195, 0.11611028708977719, 0.022841367952087317, 0.03426205192813098, 0.970728678711938, 0.9991835772307961, 0.9676022448755284, 0.9969041465699936, 0.9950219760193684], \"Term\": [\"Alexa\", \"Amazon\", \"Amazon\", \"Amazon\", \"Amazon\", \"Amazon\", \"Amazon\", \"Amazon\", \"Android\", \"Android\", \"App\", \"Apps\", \"Best\", \"Black\", \"Bluetooth\", \"Buy\", \"Christmas\", \"Easy\", \"Edition\", \"Facebook\", \"Fire\", \"Fire\", \"Fire\", \"Fire\", \"Fire\", \"Friday\", \"Google\", \"Google\", \"Grandson\", \"Great\", \"HD\", \"HD8\", \"HD8\", \"HD8\", \"Hulu\", \"Ipad\", \"Kids\", \"Kindle\", \"Kindle\", \"Kindle\", \"Mom\", \"Mother\", \"Netflix\", \"Nook\", \"OS\", \"Play\", \"Prime\", \"Prime\", \"SD\", \"Samsung\", \"Store\", \"Tablet\", \"Tablet\", \"YouTube\", \"able\", \"able\", \"able\", \"able\", \"able\", \"able\", \"able\", \"absolutely\", \"access\", \"access\", \"access\", \"account\", \"activity\", \"ad\", \"adapter\", \"add\", \"add\", \"add\", \"add\", \"addition\", \"adult\", \"advertise\", \"advertisement\", \"advertising\", \"age\", \"ago\", \"allow\", \"allow\", \"alternative\", \"amazing\", \"amazing\", \"amazon\", \"amazon\", \"amazon\", \"amazon\", \"amazon\", \"android\", \"annoying\", \"app\", \"app\", \"app\", \"app\", \"app\", \"area\", \"arrive\", \"article\", \"ask\", \"ask\", \"ask\", \"ask\", \"aspect\", \"associate\", \"avid\", \"awesome\", \"awesome\", \"awesome\", \"awesome\", \"awesome\", \"awesome\", \"bargain\", \"basic\", \"basic\", \"battery\", \"beat\", \"begin\", \"believe\", \"benefit\", \"best\", \"big\", \"big\", \"big\", \"big\", \"big\", \"big\", \"bill\", \"birthday\", \"black\", \"black\", \"black\", \"blue\", \"book\", \"box\", \"boy\", \"brand\", \"break\", \"break\", \"bright\", \"bring\", \"browse\", \"buck\", \"budget\", \"build\", \"build\", \"bulky\", \"bumper\", \"busy\", \"button\", \"button\", \"buy\", \"buy\", \"buy\", \"buy\", \"buy\", \"buy\", \"buy\", \"cable\", \"camera\", \"capability\", \"capacity\", \"car\", \"card\", \"card\", \"carry\", \"case\", \"case\", \"case\", \"cause\", \"cell\", \"charge\", \"charge\", \"charge\", \"charger\", \"cheap\", \"cheap\", \"check\", \"check\", \"child\", \"child\", \"child\", \"child\", \"choice\", \"choose\", \"choose\", \"christmas\", \"clarity\", \"class\", \"clear\", \"clear\", \"click\", \"close\", \"college\", \"come\", \"come\", \"come\", \"come\", \"come\", \"compare\", \"compare\", \"compare\", \"complain\", \"computer\", \"computer\", \"computer\", \"con\", \"con\", \"concerned\", \"connection\", \"constantly\", \"content\", \"control\", \"cord\", \"cost\", \"couple\", \"couple\", \"crack\", \"customer\", \"dad\", \"daily\", \"damage\", \"daughter\", \"daughter\", \"day\", \"day\", \"day\", \"day\", \"day\", \"deal\", \"deal\", \"deal\", \"deal\", \"decent\", \"decide\", \"decide\", \"decide\", \"definitely\", \"definitely\", \"definitely\", \"deliver\", \"design\", \"device\", \"device\", \"device\", \"device\", \"device\", \"die\", \"die\", \"digital\", \"disappoint\", \"disappointed\", \"display\", \"display\", \"dollar\", \"download\", \"download\", \"download\", \"dream\", \"early\", \"ease\", \"easy\", \"easy\", \"ebooks\", \"edition\", \"educational\", \"electronic\", \"email\", \"enjoy\", \"enjoy\", \"enjoy\", \"enjoy\", \"entertain\", \"entertained\", \"entertainment\", \"entertainment\", \"ereader\", \"etc\", \"etc\", \"etc\", \"etc\", \"eventually\", \"everyday\", \"exactly\", \"exceed\", \"excellent\", \"excellent\", \"excellent\", \"excellent\", \"exchange\", \"excited\", \"expandable\", \"expect\", \"expect\", \"expect\", \"expect\", \"expect\", \"expectation\", \"experience\", \"explain\", \"explore\", \"facebook\", \"fact\", \"fact\", \"fairly\", \"family\", \"family\", \"fan\", \"fantastic\", \"far\", \"far\", \"far\", \"far\", \"far\", \"fast\", \"fast\", \"fast\", \"fast\", \"father\", \"favorite\", \"feature\", \"feature\", \"feature\", \"feature\", \"feature\", \"feature\", \"finally\", \"find\", \"find\", \"find\", \"find\", \"find\", \"find\", \"find\", \"fine\", \"fire\", \"fire\", \"fit\", \"fix\", \"flexibility\", \"flight\", \"flight\", \"format\", \"forward\", \"free\", \"free\", \"free\", \"friday\", \"friend\", \"friend\", \"friendly\", \"fun\", \"fun\", \"functional\", \"future\", \"game\", \"game\", \"gaming\", \"gave\", \"gb\", \"geek\", \"gen\", \"general\", \"generation\", \"get\", \"get\", \"get\", \"get\", \"get\", \"get\", \"gift\", \"girl\", \"go\", \"go\", \"go\", \"go\", \"go\", \"good\", \"good\", \"good\", \"good\", \"good\", \"good\", \"google\", \"got\", \"grand\", \"grandchild\", \"granddaughter\", \"grandkid\", \"grandson\", \"grandson\", \"graphic\", \"great\", \"great\", \"great\", \"great\", \"great\", \"great\", \"great\", \"great\", \"grow\", \"guarantee\", \"guess\", \"guy\", \"hand\", \"handy\", \"happen\", \"happy\", \"happy\", \"happy\", \"have\", \"have\", \"have\", \"have\", \"have\", \"hd\", \"hdx\", \"help\", \"help\", \"helpful\", \"high\", \"high\", \"highly\", \"highly\", \"highly\", \"hold\", \"hold\", \"hold\", \"hold\", \"holiday\", \"hope\", \"house\", \"huge\", \"huge\", \"husband\", \"husband\", \"iPad\", \"iPad\", \"iPad\", \"iPad\", \"idea\", \"improvement\", \"inch\", \"inch\", \"inexpensive\", \"info\", \"information\", \"instal\", \"install\", \"instruction\", \"interested\", \"interface\", \"internet\", \"intuitive\", \"investment\", \"iphone\", \"issue\", \"issue\", \"issue\", \"issue\", \"issue\", \"issue\", \"issue\", \"issue\", \"item\", \"item\", \"item\", \"item\", \"keep\", \"keep\", \"keep\", \"key\", \"keyboard\", \"kid\", \"kid\", \"kindle\", \"kindle\", \"kindle\", \"kindle\", \"know\", \"know\", \"know\", \"know\", \"know\", \"lack\", \"lack\", \"lag\", \"language\", \"laptop\", \"laptop\", \"large\", \"large\", \"last\", \"late\", \"law\", \"learn\", \"learn\", \"learn\", \"learn\", \"learning\", \"library\", \"life\", \"light\", \"light\", \"lightweight\", \"like\", \"like\", \"like\", \"like\", \"like\", \"like\", \"like\", \"like\", \"like\", \"like\", \"like\", \"limit\", \"limited\", \"link\", \"listen\", \"little\", \"little\", \"little\", \"loading\", \"local\", \"lol\", \"long\", \"long\", \"long\", \"long\", \"long\", \"look\", \"look\", \"look\", \"lot\", \"lot\", \"lot\", \"lot\", \"lot\", \"lot\", \"love\", \"love\", \"love\", \"love\", \"love\", \"love\", \"low\", \"magazine\", \"mail\", \"main\", \"mainly\", \"mainly\", \"manage\", \"market\", \"mean\", \"medium\", \"medium\", \"meet\", \"member\", \"memory\", \"memory\", \"micro\", \"mind\", \"minute\", \"miss\", \"mode\", \"model\", \"model\", \"model\", \"mom\", \"mom\", \"money\", \"money\", \"money\", \"money\", \"mother\", \"mother\", \"movie\", \"multiple\", \"music\", \"music\", \"navigate\", \"need\", \"need\", \"need\", \"need\", \"need\", \"need\", \"nephew\", \"net\", \"netflix\", \"new\", \"new\", \"new\", \"new\", \"nice\", \"nice\", \"niece\", \"night\", \"nook\", \"not\", \"numerous\", \"occupy\", \"office\", \"offline\", \"ok\", \"ok\", \"okay\", \"old\", \"one\", \"one\", \"online\", \"online\", \"online\", \"open\", \"open\", \"operate\", \"operating\", \"option\", \"option\", \"order\", \"order\", \"order\", \"order\", \"original\", \"overall\", \"overall\", \"overall\", \"own\", \"own\", \"pad\", \"pair\", \"parent\", \"parent\", \"parental\", \"pass\", \"password\", \"past\", \"people\", \"people\", \"perfect\", \"perfect\", \"perfect\", \"perfect\", \"perfect\", \"perform\", \"performance\", \"phone\", \"phone\", \"phone\", \"picture\", \"picture\", \"piece\", \"pink\", \"play\", \"play\", \"play\", \"playing\", \"pleased\", \"pleased\", \"pleased\", \"plenty\", \"plenty\", \"plug\", \"point\", \"point\", \"pop\", \"port\", \"power\", \"powerful\", \"pre\", \"present\", \"price\", \"price\", \"pro\", \"problem\", \"problem\", \"problem\", \"problem\", \"problem\", \"problem\", \"problem\", \"processing\", \"product\", \"product\", \"product\", \"product\", \"product\", \"product\", \"product\", \"product\", \"program\", \"program\", \"proof\", \"protect\", \"protection\", \"protective\", \"purchase\", \"purchase\", \"purchase\", \"purchase\", \"purchase\", \"purchase\", \"purchase\", \"purple\", \"purpose\", \"purse\", \"quality\", \"quality\", \"read\", \"reader\", \"reading\", \"reading\", \"reading\", \"reading\", \"real\", \"reason\", \"reason\", \"reasonable\", \"receive\", \"recipient\", \"recommend\", \"recommend\", \"recommend\", \"recommend\", \"reliable\", \"replace\", \"replace\", \"replacement\", \"replacement\", \"research\", \"resolution\", \"resolution\", \"response\", \"responsive\", \"right\", \"right\", \"right\", \"right\", \"right\", \"road\", \"room\", \"rough\", \"safe\", \"sale\", \"sale\", \"satisfied\", \"save\", \"savvy\", \"say\", \"say\", \"say\", \"say\", \"school\", \"school\", \"screen\", \"screen\", \"screen\", \"screen\", \"sd\", \"search\", \"search\", \"selection\", \"serve\", \"set\", \"set\", \"setting\", \"setup\", \"shop\", \"show\", \"show\", \"similar\", \"simple\", \"simple\", \"sister\", \"sit\", \"site\", \"size\", \"size\", \"slot\", \"slow\", \"small\", \"small\", \"smooth\", \"social\", \"solid\", \"son\", \"son\", \"soon\", \"sound\", \"sound\", \"spec\", \"special\", \"speedy\", \"stand\", \"standard\", \"star\", \"starter\", \"step\", \"step\", \"stick\", \"stock\", \"stop\", \"storage\", \"storage\", \"storage\", \"store\", \"store\", \"store\", \"stream\", \"strong\", \"stuff\", \"subscription\", \"support\", \"suppose\", \"surf\", \"surprise\", \"switch\", \"tab\", \"tab\", \"table\", \"tablet\", \"tablet\", \"tablet\", \"tablet\", \"take\", \"take\", \"take\", \"take\", \"take\", \"take\", \"talk\", \"task\", \"tech\", \"technology\", \"tell\", \"tell\", \"tell\", \"tend\", \"text\", \"thank\", \"thing\", \"thing\", \"thing\", \"thing\", \"think\", \"think\", \"think\", \"think\", \"think\", \"think\", \"think\", \"thoroughly\", \"throw\", \"tie\", \"time\", \"time\", \"time\", \"time\", \"time\", \"time\", \"time\", \"toddler\", \"ton\", \"tool\", \"totally\", \"touch\", \"touch\", \"toy\", \"travel\", \"trip\", \"trip\", \"trouble\", \"true\", \"try\", \"try\", \"try\", \"try\", \"try\", \"tube\", \"turn\", \"turn\", \"turn\", \"twice\", \"twin\", \"type\", \"unbelievable\", \"unit\", \"unit\", \"unit\", \"unlimited\", \"unlock\", \"upgrade\", \"upgrade\", \"use\", \"use\", \"use\", \"use\", \"user\", \"user\", \"value\", \"value\", \"variety\", \"ve\", \"version\", \"version\", \"version\", \"video\", \"volume\", \"want\", \"want\", \"want\", \"want\", \"want\", \"want\", \"want\", \"want\", \"warranty\", \"warranty\", \"watch\", \"watch\", \"way\", \"way\", \"way\", \"way\", \"way\", \"way\", \"way\", \"wear\", \"web\", \"web\", \"web\", \"weight\", \"well\", \"well\", \"well\", \"wife\", \"wife\", \"wifi\", \"wifi\", \"wifi\", \"will\", \"will\", \"will\", \"win\", \"wish\", \"wish\", \"wish\", \"wonderful\", \"wonderful\", \"word\", \"work\", \"work\", \"work\", \"work\", \"work\", \"work\", \"work\", \"work\", \"work\", \"world\", \"year\", \"yes\", \"young\", \"yr\"]}, \"R\": 30, \"lambda.step\": 0.01, \"plot.opts\": {\"xlab\": \"PC1\", \"ylab\": \"PC2\"}, \"topic.order\": [12, 10, 3, 2, 11, 6, 5, 4, 8, 1, 9, 7]};\n",
              "\n",
              "function LDAvis_load_lib(url, callback){\n",
              "  var s = document.createElement('script');\n",
              "  s.src = url;\n",
              "  s.async = true;\n",
              "  s.onreadystatechange = s.onload = callback;\n",
              "  s.onerror = function(){console.warn(\"failed to load library \" + url);};\n",
              "  document.getElementsByTagName(\"head\")[0].appendChild(s);\n",
              "}\n",
              "\n",
              "if(typeof(LDAvis) !== \"undefined\"){\n",
              "   // already loaded: just create the visualization\n",
              "   !function(LDAvis){\n",
              "       new LDAvis(\"#\" + \"ldavis_el2491399496603221607579544029\", ldavis_el2491399496603221607579544029_data);\n",
              "   }(LDAvis);\n",
              "}else if(typeof define === \"function\" && define.amd){\n",
              "   // require.js is available: use it to load d3/LDAvis\n",
              "   require.config({paths: {d3: \"https://d3js.org/d3.v5\"}});\n",
              "   require([\"d3\"], function(d3){\n",
              "      window.d3 = d3;\n",
              "      LDAvis_load_lib(\"https://cdn.jsdelivr.net/gh/bmabey/pyLDAvis@3.3.1/pyLDAvis/js/ldavis.v3.0.0.js\", function(){\n",
              "        new LDAvis(\"#\" + \"ldavis_el2491399496603221607579544029\", ldavis_el2491399496603221607579544029_data);\n",
              "      });\n",
              "    });\n",
              "}else{\n",
              "    // require.js not available: dynamically load d3 & LDAvis\n",
              "    LDAvis_load_lib(\"https://d3js.org/d3.v5.js\", function(){\n",
              "         LDAvis_load_lib(\"https://cdn.jsdelivr.net/gh/bmabey/pyLDAvis@3.3.1/pyLDAvis/js/ldavis.v3.0.0.js\", function(){\n",
              "                 new LDAvis(\"#\" + \"ldavis_el2491399496603221607579544029\", ldavis_el2491399496603221607579544029_data);\n",
              "            })\n",
              "         });\n",
              "}\n",
              "</script>"
            ]
          },
          "metadata": {},
          "execution_count": 41
        }
      ]
    },
    {
      "cell_type": "markdown",
      "metadata": {
        "id": "9gie-6YrzGeB"
      },
      "source": [
        "## Create a Topic id/name dictionary \n",
        "\n",
        "When populating your topic id/name dictionary, use the index ordering as shown in the viz tool. \n",
        "\n",
        "We'll use a function to map the the viz tool index ordering with the train LDA model ordering. "
      ]
    },
    {
      "cell_type": "code",
      "metadata": {
        "deletable": false,
        "nbgrader": {
          "cell_type": "code",
          "checksum": "fc10e9728e5dcf06baf0800c3cdb88ce",
          "grade": false,
          "grade_id": "cell-4905c0c1050f0d03",
          "locked": false,
          "schema_version": 3,
          "solution": true,
          "task": false
        },
        "id": "88vMiVwQzGeC"
      },
      "source": [
        "# create a dictionary \n",
        "# keys - use topic ids from pyLDAvis visualization \n",
        "# values - topic names that you create \n",
        "# save dictionary to `vis_topic_name_dict`\n",
        "\n",
        "vis_topic_name_dict = {1:\"tablet\", 2: \"kid\", 3: \"game\" , 4: \"old\", 5: \"love\", 6: \"screen size\", 7: \"7\", 8: \"8\", 9:'9', 10: '10', 11: \"11\", 12: \"12\"}\n",
        "# YOUR CODE HERE\n",
        "#raise NotImplementedError()"
      ],
      "execution_count": null,
      "outputs": []
    },
    {
      "cell_type": "code",
      "metadata": {
        "id": "iWLsK27ZzGeC"
      },
      "source": [
        "def get_topic_id_lookup_dict(vis, vis_topic_name_dict):\n",
        "    \"\"\"\n",
        "    Both the starting index and the ordering of topic ids bewteen the trained LDA model \n",
        "    and the viz tool are different. So we need to create a look up dictionary that maps \n",
        "    the correct association between topic ids from both sources. \n",
        "    \"\"\"\n",
        "    # value is order of topic ids accoridng to pyLDAvis tool \n",
        "    # key is order of topic ids according to lda model\n",
        "    model_vis_tool_topic_id_lookup = vis.topic_coordinates.topics.to_dict()\n",
        "\n",
        "    # invert dictionary so that \n",
        "    # key is order of topic ids accoridng to pyLDAvis tool \n",
        "    # value is order of topic ids according to lda model\n",
        "    topic_id_lookup =  {v:k for k, v in model_vis_tool_topic_id_lookup.items()}\n",
        "    \n",
        "    return {v:vis_topic_name_dict[k]  for k, v in topic_id_lookup.items()}"
      ],
      "execution_count": null,
      "outputs": []
    },
    {
      "cell_type": "markdown",
      "metadata": {
        "id": "tR8xm8IG4M0M"
      },
      "source": [
        "Create a topic id/name look up dict \n",
        "that is aligned with the index ordering of the trained LDA model"
      ]
    },
    {
      "cell_type": "code",
      "metadata": {
        "deletable": false,
        "nbgrader": {
          "cell_type": "code",
          "checksum": "55f23aa9324a225091037f0c5daf2192",
          "grade": false,
          "grade_id": "cell-d38acb7b250b4079",
          "locked": false,
          "schema_version": 3,
          "solution": true,
          "task": false
        },
        "id": "dcsa0f_tzGeC"
      },
      "source": [
        "topic_name_dict = get_topic_id_lookup_dict(vis, vis_topic_name_dict)"
      ],
      "execution_count": null,
      "outputs": []
    },
    {
      "cell_type": "code",
      "metadata": {
        "id": "tbeEkAlC4WNi",
        "outputId": "689fdab9-4dee-48df-cf11-ab93f8931997",
        "colab": {
          "base_uri": "https://localhost:8080/"
        }
      },
      "source": [
        "print(topic_name_dict)"
      ],
      "execution_count": null,
      "outputs": [
        {
          "output_type": "stream",
          "name": "stdout",
          "text": [
            "{11: 'tablet', 9: 'kid', 2: 'game', 1: 'old', 10: 'love', 5: 'screen size', 4: '7', 3: '8', 7: '9', 0: '10', 8: '11', 6: '12'}\n"
          ]
        }
      ]
    },
    {
      "cell_type": "markdown",
      "metadata": {
        "id": "t4NLAlB9zGeC"
      },
      "source": [
        "## Use the LDA Model to Assign Each Document a Topic Name\n",
        "\n",
        "Now that we have a topic id/name look up dict that is aligned with the index ordering of the trained LDA model, we can move forward to giving each topic a topic name. \n",
        "\n",
        "The function below has been given to you. However, you highly encouraged to read through it and make sure that you understand what it is doing each step of the way. In fact, a good way to do this is to copy and paste the code inside of the function into a new cell, comment out all the lines of code and line by line, uncomment the code and see the output. "
      ]
    },
    {
      "cell_type": "code",
      "metadata": {
        "id": "23No1SMKzGeC"
      },
      "source": [
        "def get_topic_ids_for_docs(lda_trained_model, corpus):\n",
        "    \n",
        "    \"\"\"\n",
        "    Passes a Bag-of-Words vector into a trained LDA model in order to get the topic id of that document. \n",
        "    \n",
        "    Parameters\n",
        "    ----------\n",
        "    lda_model: Gensim object\n",
        "        Must be a trained model \n",
        "        \n",
        "    corpus: nested lists of tuples, \n",
        "        i.e. [[(),(), ..., ()], [(),(), ..., ()], ..., [(),(), ..., ()]]\n",
        "        \n",
        "    Returns\n",
        "    -------\n",
        "    topic_id_list: list\n",
        "        Contains topic ids for all document vectors in corpus \n",
        "    \"\"\"\n",
        "    \n",
        "    # store topic ids for each document\n",
        "    doc_topic_ids = []\n",
        "\n",
        "    # iterature through the bow vectors for each doc\n",
        "    for doc_bow in corpus:\n",
        "        \n",
        "        # store the topic ids for the doc\n",
        "        topic_ids = []\n",
        "        # store the topic probabilities for the doc\n",
        "        topic_probs = []\n",
        "\n",
        "        # list of tuples\n",
        "        # each tuple has a topic id and the prob that the doc belongs to that topic \n",
        "        topic_id_prob_tuples = lda_trained_model.get_document_topics(doc_bow)\n",
        "        \n",
        "        # iterate through the topic id/prob pairs \n",
        "        for topic_id_prob in topic_id_prob_tuples:\n",
        "            \n",
        "            # index for topic id\n",
        "            topic_id = topic_id_prob[0]\n",
        "            # index for prob that doc belongs that the corresponding topic\n",
        "            topic_prob = topic_id_prob[1]\n",
        "\n",
        "            # store all topic ids for doc\n",
        "            topic_ids.append(topic_id)\n",
        "            # store all topic probs for doc\n",
        "            topic_probs.append(topic_prob)\n",
        "\n",
        "        # get the index for the topic that had the highest probability, for the current document \n",
        "        max_topic_prob_ind = np.argmax(topic_probs)\n",
        "        # get the corresponding topic id\n",
        "        max_prob_topic_id = topic_ids[max_topic_prob_ind]\n",
        "        # store the most probable topic id for the current document\n",
        "        doc_topic_ids.append(max_prob_topic_id)\n",
        "        \n",
        "    return doc_topic_ids"
      ],
      "execution_count": null,
      "outputs": []
    },
    {
      "cell_type": "code",
      "metadata": {
        "deletable": false,
        "nbgrader": {
          "cell_type": "code",
          "checksum": "09f2b8ebaf696dc05187cecce8c9e251",
          "grade": false,
          "grade_id": "cell-e28e8774a79ac647",
          "locked": false,
          "schema_version": 3,
          "solution": true,
          "task": false
        },
        "id": "gI94W2MvzGeD"
      },
      "source": [
        "# use get_topic_ids_for_docs to get the topic id for each doc in the corpus - save result to `doc_topic_ids`\n",
        "doc_topic_ids = get_topic_ids_for_docs(lda_trained_model, corpus)\n",
        "\n",
        "# create a new feature in df_electronics called topic_id using `doc_topic_ids`\n",
        "df_electronics['topic_id'] = doc_topic_ids\n",
        "\n",
        "# iterate through topic_id and use the lookup dict `topic_name_dict` to assign each document a topic name\n",
        "# save results to a new feature in df_electronics called `new_topic_name`\n",
        "df_electronics['new_topic_name'] = [topic_name_dict[x] for x in df_electronics['topic_id']]\n",
        "\n",
        "# YOUR CODE HERE\n",
        "#raise NotImplementedError()"
      ],
      "execution_count": null,
      "outputs": []
    },
    {
      "cell_type": "code",
      "source": [
        "df_electronics['new_topic_name']"
      ],
      "metadata": {
        "id": "z0EBGpRH34MO",
        "outputId": "6a5b29d0-250e-44d6-c8b0-20842ce54452",
        "colab": {
          "base_uri": "https://localhost:8080/"
        }
      },
      "execution_count": null,
      "outputs": [
        {
          "output_type": "execute_result",
          "data": {
            "text/plain": [
              "8343             kid\n",
              "8344          tablet\n",
              "8345     screen size\n",
              "8346              11\n",
              "8347              10\n",
              "            ...     \n",
              "28327            old\n",
              "28328           love\n",
              "28329         tablet\n",
              "28330           game\n",
              "28331    screen size\n",
              "Name: new_topic_name, Length: 13995, dtype: object"
            ]
          },
          "metadata": {},
          "execution_count": 123
        }
      ]
    },
    {
      "cell_type": "markdown",
      "metadata": {
        "id": "NZa4oKuIzGeD"
      },
      "source": [
        "## Congratulations! You have created new topic names for your documents. "
      ]
    },
    {
      "cell_type": "code",
      "metadata": {
        "id": "kDVAZTa23xkF",
        "outputId": "566edd58-8604-4cd5-9389-74e054521f61",
        "colab": {
          "base_uri": "https://localhost:8080/",
          "height": 520
        }
      },
      "source": [
        "cols = [\"reviews.text\", \"new_topic_name\", \"topic_id\"]\n",
        "df_electronics[cols].head(15)"
      ],
      "execution_count": null,
      "outputs": [
        {
          "output_type": "execute_result",
          "data": {
            "text/plain": [
              "                                           reviews.text new_topic_name  \\\n",
              "8343  Great case to keep everything in its place! My...            kid   \n",
              "8344  After discarding and getting rid of broken cd ...         tablet   \n",
              "8345     A few dollars more, but I am boycotting amazon    screen size   \n",
              "8346  My initial impression of this was very good. T...             11   \n",
              "8347  Pros: Standard Echo. Cons: Older generation Ec...             10   \n",
              "8348  Pros: Got it for under 50, much impressive sou...             11   \n",
              "8349  Pros: I love the Alexa series so when this one...    screen size   \n",
              "8350  ASIDE FROM THE FACT THAT THE SCREEN IS SMALL, ...         tablet   \n",
              "8351  I wasn't sure I even wanted this item, but cau...              7   \n",
              "8352  Pros: Works good like Alexia Cons: setting it ...         tablet   \n",
              "8353  Pros: Relatively easy to setup and works quite...             10   \n",
              "8354  Pros: I WOULD recommend anyone who was going t...             11   \n",
              "8355  Pros: Allows you to cut your cable. With many ...             10   \n",
              "8356  Pros: I'm a subscriber to DirectTV Now! So i p...             12   \n",
              "8357  Pros: Very satisfied I am about buy online thi...    screen size   \n",
              "\n",
              "      topic_id  \n",
              "8343         9  \n",
              "8344        11  \n",
              "8345         5  \n",
              "8346         8  \n",
              "8347         0  \n",
              "8348         8  \n",
              "8349         5  \n",
              "8350        11  \n",
              "8351         4  \n",
              "8352        11  \n",
              "8353         0  \n",
              "8354         8  \n",
              "8355         0  \n",
              "8356         6  \n",
              "8357         5  "
            ],
            "text/html": [
              "\n",
              "  <div id=\"df-fa1cc9b7-4842-420d-9749-e288d58a5f1e\">\n",
              "    <div class=\"colab-df-container\">\n",
              "      <div>\n",
              "<style scoped>\n",
              "    .dataframe tbody tr th:only-of-type {\n",
              "        vertical-align: middle;\n",
              "    }\n",
              "\n",
              "    .dataframe tbody tr th {\n",
              "        vertical-align: top;\n",
              "    }\n",
              "\n",
              "    .dataframe thead th {\n",
              "        text-align: right;\n",
              "    }\n",
              "</style>\n",
              "<table border=\"1\" class=\"dataframe\">\n",
              "  <thead>\n",
              "    <tr style=\"text-align: right;\">\n",
              "      <th></th>\n",
              "      <th>reviews.text</th>\n",
              "      <th>new_topic_name</th>\n",
              "      <th>topic_id</th>\n",
              "    </tr>\n",
              "  </thead>\n",
              "  <tbody>\n",
              "    <tr>\n",
              "      <th>8343</th>\n",
              "      <td>Great case to keep everything in its place! My...</td>\n",
              "      <td>kid</td>\n",
              "      <td>9</td>\n",
              "    </tr>\n",
              "    <tr>\n",
              "      <th>8344</th>\n",
              "      <td>After discarding and getting rid of broken cd ...</td>\n",
              "      <td>tablet</td>\n",
              "      <td>11</td>\n",
              "    </tr>\n",
              "    <tr>\n",
              "      <th>8345</th>\n",
              "      <td>A few dollars more, but I am boycotting amazon</td>\n",
              "      <td>screen size</td>\n",
              "      <td>5</td>\n",
              "    </tr>\n",
              "    <tr>\n",
              "      <th>8346</th>\n",
              "      <td>My initial impression of this was very good. T...</td>\n",
              "      <td>11</td>\n",
              "      <td>8</td>\n",
              "    </tr>\n",
              "    <tr>\n",
              "      <th>8347</th>\n",
              "      <td>Pros: Standard Echo. Cons: Older generation Ec...</td>\n",
              "      <td>10</td>\n",
              "      <td>0</td>\n",
              "    </tr>\n",
              "    <tr>\n",
              "      <th>8348</th>\n",
              "      <td>Pros: Got it for under 50, much impressive sou...</td>\n",
              "      <td>11</td>\n",
              "      <td>8</td>\n",
              "    </tr>\n",
              "    <tr>\n",
              "      <th>8349</th>\n",
              "      <td>Pros: I love the Alexa series so when this one...</td>\n",
              "      <td>screen size</td>\n",
              "      <td>5</td>\n",
              "    </tr>\n",
              "    <tr>\n",
              "      <th>8350</th>\n",
              "      <td>ASIDE FROM THE FACT THAT THE SCREEN IS SMALL, ...</td>\n",
              "      <td>tablet</td>\n",
              "      <td>11</td>\n",
              "    </tr>\n",
              "    <tr>\n",
              "      <th>8351</th>\n",
              "      <td>I wasn't sure I even wanted this item, but cau...</td>\n",
              "      <td>7</td>\n",
              "      <td>4</td>\n",
              "    </tr>\n",
              "    <tr>\n",
              "      <th>8352</th>\n",
              "      <td>Pros: Works good like Alexia Cons: setting it ...</td>\n",
              "      <td>tablet</td>\n",
              "      <td>11</td>\n",
              "    </tr>\n",
              "    <tr>\n",
              "      <th>8353</th>\n",
              "      <td>Pros: Relatively easy to setup and works quite...</td>\n",
              "      <td>10</td>\n",
              "      <td>0</td>\n",
              "    </tr>\n",
              "    <tr>\n",
              "      <th>8354</th>\n",
              "      <td>Pros: I WOULD recommend anyone who was going t...</td>\n",
              "      <td>11</td>\n",
              "      <td>8</td>\n",
              "    </tr>\n",
              "    <tr>\n",
              "      <th>8355</th>\n",
              "      <td>Pros: Allows you to cut your cable. With many ...</td>\n",
              "      <td>10</td>\n",
              "      <td>0</td>\n",
              "    </tr>\n",
              "    <tr>\n",
              "      <th>8356</th>\n",
              "      <td>Pros: I'm a subscriber to DirectTV Now! So i p...</td>\n",
              "      <td>12</td>\n",
              "      <td>6</td>\n",
              "    </tr>\n",
              "    <tr>\n",
              "      <th>8357</th>\n",
              "      <td>Pros: Very satisfied I am about buy online thi...</td>\n",
              "      <td>screen size</td>\n",
              "      <td>5</td>\n",
              "    </tr>\n",
              "  </tbody>\n",
              "</table>\n",
              "</div>\n",
              "      <button class=\"colab-df-convert\" onclick=\"convertToInteractive('df-fa1cc9b7-4842-420d-9749-e288d58a5f1e')\"\n",
              "              title=\"Convert this dataframe to an interactive table.\"\n",
              "              style=\"display:none;\">\n",
              "        \n",
              "  <svg xmlns=\"http://www.w3.org/2000/svg\" height=\"24px\"viewBox=\"0 0 24 24\"\n",
              "       width=\"24px\">\n",
              "    <path d=\"M0 0h24v24H0V0z\" fill=\"none\"/>\n",
              "    <path d=\"M18.56 5.44l.94 2.06.94-2.06 2.06-.94-2.06-.94-.94-2.06-.94 2.06-2.06.94zm-11 1L8.5 8.5l.94-2.06 2.06-.94-2.06-.94L8.5 2.5l-.94 2.06-2.06.94zm10 10l.94 2.06.94-2.06 2.06-.94-2.06-.94-.94-2.06-.94 2.06-2.06.94z\"/><path d=\"M17.41 7.96l-1.37-1.37c-.4-.4-.92-.59-1.43-.59-.52 0-1.04.2-1.43.59L10.3 9.45l-7.72 7.72c-.78.78-.78 2.05 0 2.83L4 21.41c.39.39.9.59 1.41.59.51 0 1.02-.2 1.41-.59l7.78-7.78 2.81-2.81c.8-.78.8-2.07 0-2.86zM5.41 20L4 18.59l7.72-7.72 1.47 1.35L5.41 20z\"/>\n",
              "  </svg>\n",
              "      </button>\n",
              "      \n",
              "  <style>\n",
              "    .colab-df-container {\n",
              "      display:flex;\n",
              "      flex-wrap:wrap;\n",
              "      gap: 12px;\n",
              "    }\n",
              "\n",
              "    .colab-df-convert {\n",
              "      background-color: #E8F0FE;\n",
              "      border: none;\n",
              "      border-radius: 50%;\n",
              "      cursor: pointer;\n",
              "      display: none;\n",
              "      fill: #1967D2;\n",
              "      height: 32px;\n",
              "      padding: 0 0 0 0;\n",
              "      width: 32px;\n",
              "    }\n",
              "\n",
              "    .colab-df-convert:hover {\n",
              "      background-color: #E2EBFA;\n",
              "      box-shadow: 0px 1px 2px rgba(60, 64, 67, 0.3), 0px 1px 3px 1px rgba(60, 64, 67, 0.15);\n",
              "      fill: #174EA6;\n",
              "    }\n",
              "\n",
              "    [theme=dark] .colab-df-convert {\n",
              "      background-color: #3B4455;\n",
              "      fill: #D2E3FC;\n",
              "    }\n",
              "\n",
              "    [theme=dark] .colab-df-convert:hover {\n",
              "      background-color: #434B5C;\n",
              "      box-shadow: 0px 1px 3px 1px rgba(0, 0, 0, 0.15);\n",
              "      filter: drop-shadow(0px 1px 2px rgba(0, 0, 0, 0.3));\n",
              "      fill: #FFFFFF;\n",
              "    }\n",
              "  </style>\n",
              "\n",
              "      <script>\n",
              "        const buttonEl =\n",
              "          document.querySelector('#df-fa1cc9b7-4842-420d-9749-e288d58a5f1e button.colab-df-convert');\n",
              "        buttonEl.style.display =\n",
              "          google.colab.kernel.accessAllowed ? 'block' : 'none';\n",
              "\n",
              "        async function convertToInteractive(key) {\n",
              "          const element = document.querySelector('#df-fa1cc9b7-4842-420d-9749-e288d58a5f1e');\n",
              "          const dataTable =\n",
              "            await google.colab.kernel.invokeFunction('convertToInteractive',\n",
              "                                                     [key], {});\n",
              "          if (!dataTable) return;\n",
              "\n",
              "          const docLinkHtml = 'Like what you see? Visit the ' +\n",
              "            '<a target=\"_blank\" href=https://colab.research.google.com/notebooks/data_table.ipynb>data table notebook</a>'\n",
              "            + ' to learn more about interactive tables.';\n",
              "          element.innerHTML = '';\n",
              "          dataTable['output_type'] = 'display_data';\n",
              "          await google.colab.output.renderOutput(dataTable, element);\n",
              "          const docLink = document.createElement('div');\n",
              "          docLink.innerHTML = docLinkHtml;\n",
              "          element.appendChild(docLink);\n",
              "        }\n",
              "      </script>\n",
              "    </div>\n",
              "  </div>\n",
              "  "
            ]
          },
          "metadata": {},
          "execution_count": 124
        }
      ]
    },
    {
      "cell_type": "markdown",
      "metadata": {
        "id": "gkYnBihNzGeE"
      },
      "source": [
        "-----\n",
        "# Stretch Goals -- see if you can create a model to classify the reviews into the latent topics you've discovered!\n",
        "\n",
        "\n",
        "- Treat `topic_id` as the `y` (target) vector and train a supervised learning model to predict the topic of each document\n",
        "- Report your results on the Slack channel!"
      ]
    },
    {
      "cell_type": "markdown",
      "metadata": {
        "id": "eqY0KKxKQxbm"
      },
      "source": [
        "## Topic Modeling References\n"
      ]
    },
    {
      "cell_type": "markdown",
      "metadata": {
        "id": "iKhe7u4IXr0y"
      },
      "source": [
        "\n",
        "- [Topic Modeling with Gensim](https://www.tutorialspoint.com/gensim/gensim_topic_modeling.htm) -- Brief Tutorial\n",
        "\n",
        "- [Gensim documentation](https://radimrehurek.com/gensim/index.html) -- look up gensim commands\n",
        "\n",
        "- [`pyLDAvis` documentation](https://pyldavis.readthedocs.io/en/latest/readme.html) -- package for visualizing LDA models\n",
        "\n",
        "- [Visualizing Topic Models](https://speakerdeck.com/bmabey/visualizing-topic-models) -- slides from Ben Mabey\n",
        "\n",
        "- [Exploring the Space of Topic Coherence Measures](https://dl.acm.org/doi/10.1145/2684822.2685324) -- Study of Topic Coherence measures\n",
        "\n",
        "- [Exploring Topic Coherence over many models and many topics](https://www.researchgate.net/publication/232242203_Exploring_Topic_Coherence_over_many_models_and_many_topics) -- Study of automated topic coherence measures"
      ]
    }
  ]
}